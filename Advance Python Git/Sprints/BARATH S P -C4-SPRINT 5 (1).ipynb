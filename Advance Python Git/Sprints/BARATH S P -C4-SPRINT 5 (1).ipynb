{
 "cells": [
  {
   "cell_type": "code",
   "execution_count": 1,
   "id": "a2b71861-1614-4b17-a3fa-e73586149601",
   "metadata": {},
   "outputs": [],
   "source": [
    "import matplotlib.pyplot as plt\n",
    "import pandas as pd\n",
    "import numpy as np"
   ]
  },
  {
   "cell_type": "code",
   "execution_count": 2,
   "id": "1fb42645-967a-4199-af73-4dc461f54fd4",
   "metadata": {},
   "outputs": [
    {
     "data": {
      "text/html": [
       "<div>\n",
       "<style scoped>\n",
       "    .dataframe tbody tr th:only-of-type {\n",
       "        vertical-align: middle;\n",
       "    }\n",
       "\n",
       "    .dataframe tbody tr th {\n",
       "        vertical-align: top;\n",
       "    }\n",
       "\n",
       "    .dataframe thead th {\n",
       "        text-align: right;\n",
       "    }\n",
       "</style>\n",
       "<table border=\"1\" class=\"dataframe\">\n",
       "  <thead>\n",
       "    <tr style=\"text-align: right;\">\n",
       "      <th></th>\n",
       "      <th>Employee_Code</th>\n",
       "      <th>Gender</th>\n",
       "      <th>Department</th>\n",
       "      <th>Annual Salary ($)</th>\n",
       "      <th>Age</th>\n",
       "      <th>Work_Experience</th>\n",
       "    </tr>\n",
       "  </thead>\n",
       "  <tbody>\n",
       "    <tr>\n",
       "      <th>0</th>\n",
       "      <td>1010</td>\n",
       "      <td>Male</td>\n",
       "      <td>IT</td>\n",
       "      <td>27000</td>\n",
       "      <td>22</td>\n",
       "      <td>0</td>\n",
       "    </tr>\n",
       "    <tr>\n",
       "      <th>1</th>\n",
       "      <td>1011</td>\n",
       "      <td>Female</td>\n",
       "      <td>IT</td>\n",
       "      <td>48000</td>\n",
       "      <td>27</td>\n",
       "      <td>4</td>\n",
       "    </tr>\n",
       "    <tr>\n",
       "      <th>2</th>\n",
       "      <td>1012</td>\n",
       "      <td>Male</td>\n",
       "      <td>Sales</td>\n",
       "      <td>75000</td>\n",
       "      <td>31</td>\n",
       "      <td>7</td>\n",
       "    </tr>\n",
       "    <tr>\n",
       "      <th>3</th>\n",
       "      <td>1013</td>\n",
       "      <td>Male</td>\n",
       "      <td>Sales</td>\n",
       "      <td>61000</td>\n",
       "      <td>29</td>\n",
       "      <td>6</td>\n",
       "    </tr>\n",
       "    <tr>\n",
       "      <th>4</th>\n",
       "      <td>1014</td>\n",
       "      <td>Female</td>\n",
       "      <td>Finance</td>\n",
       "      <td>45000</td>\n",
       "      <td>27</td>\n",
       "      <td>4</td>\n",
       "    </tr>\n",
       "    <tr>\n",
       "      <th>...</th>\n",
       "      <td>...</td>\n",
       "      <td>...</td>\n",
       "      <td>...</td>\n",
       "      <td>...</td>\n",
       "      <td>...</td>\n",
       "      <td>...</td>\n",
       "    </tr>\n",
       "    <tr>\n",
       "      <th>65</th>\n",
       "      <td>1074</td>\n",
       "      <td>Female</td>\n",
       "      <td>HR</td>\n",
       "      <td>82500</td>\n",
       "      <td>43</td>\n",
       "      <td>13</td>\n",
       "    </tr>\n",
       "    <tr>\n",
       "      <th>66</th>\n",
       "      <td>1075</td>\n",
       "      <td>Male</td>\n",
       "      <td>Sales</td>\n",
       "      <td>53500</td>\n",
       "      <td>28</td>\n",
       "      <td>5</td>\n",
       "    </tr>\n",
       "    <tr>\n",
       "      <th>67</th>\n",
       "      <td>1076</td>\n",
       "      <td>Female</td>\n",
       "      <td>HR</td>\n",
       "      <td>57000</td>\n",
       "      <td>29</td>\n",
       "      <td>6</td>\n",
       "    </tr>\n",
       "    <tr>\n",
       "      <th>68</th>\n",
       "      <td>1077</td>\n",
       "      <td>Male</td>\n",
       "      <td>Sales</td>\n",
       "      <td>66500</td>\n",
       "      <td>33</td>\n",
       "      <td>7</td>\n",
       "    </tr>\n",
       "    <tr>\n",
       "      <th>69</th>\n",
       "      <td>1078</td>\n",
       "      <td>Male</td>\n",
       "      <td>Finance</td>\n",
       "      <td>92000</td>\n",
       "      <td>45</td>\n",
       "      <td>19</td>\n",
       "    </tr>\n",
       "  </tbody>\n",
       "</table>\n",
       "<p>70 rows × 6 columns</p>\n",
       "</div>"
      ],
      "text/plain": [
       "    Employee_Code   Gender Department  Annual Salary ($)  Age  Work_Experience\n",
       "0             1010    Male        IT               27000   22                0\n",
       "1             1011  Female        IT               48000   27                4\n",
       "2             1012    Male      Sales              75000   31                7\n",
       "3             1013    Male      Sales              61000   29                6\n",
       "4             1014  Female    Finance              45000   27                4\n",
       "..             ...     ...        ...                ...  ...              ...\n",
       "65            1074  Female         HR              82500   43               13\n",
       "66            1075    Male      Sales              53500   28                5\n",
       "67            1076  Female         HR              57000   29                6\n",
       "68            1077    Male      Sales              66500   33                7\n",
       "69            1078    Male    Finance              92000   45               19\n",
       "\n",
       "[70 rows x 6 columns]"
      ]
     },
     "execution_count": 2,
     "metadata": {},
     "output_type": "execute_result"
    }
   ],
   "source": [
    "data=pd.read_excel('DS1_C4_S5_Employee_Data_Practice.xlsx')\n",
    "data"
   ]
  },
  {
   "cell_type": "code",
   "execution_count": 5,
   "id": "7fad3755-1a23-412d-87b5-8303aafe09bf",
   "metadata": {},
   "outputs": [],
   "source": [
    "# Task 1\n",
    "salary=data.groupby(['Department'])['Annual Salary ($)'].sum().reset_index()"
   ]
  },
  {
   "cell_type": "code",
   "execution_count": 75,
   "id": "a9c330c8-d700-4416-90fa-34603e80d2af",
   "metadata": {},
   "outputs": [
    {
     "data": {
      "text/html": [
       "<div>\n",
       "<style scoped>\n",
       "    .dataframe tbody tr th:only-of-type {\n",
       "        vertical-align: middle;\n",
       "    }\n",
       "\n",
       "    .dataframe tbody tr th {\n",
       "        vertical-align: top;\n",
       "    }\n",
       "\n",
       "    .dataframe thead th {\n",
       "        text-align: right;\n",
       "    }\n",
       "</style>\n",
       "<table border=\"1\" class=\"dataframe\">\n",
       "  <thead>\n",
       "    <tr style=\"text-align: right;\">\n",
       "      <th></th>\n",
       "      <th>Department</th>\n",
       "      <th>Annual Salary ($)</th>\n",
       "    </tr>\n",
       "  </thead>\n",
       "  <tbody>\n",
       "    <tr>\n",
       "      <th>2</th>\n",
       "      <td>IT</td>\n",
       "      <td>1282900</td>\n",
       "    </tr>\n",
       "    <tr>\n",
       "      <th>3</th>\n",
       "      <td>Sales</td>\n",
       "      <td>1089000</td>\n",
       "    </tr>\n",
       "    <tr>\n",
       "      <th>1</th>\n",
       "      <td>HR</td>\n",
       "      <td>987000</td>\n",
       "    </tr>\n",
       "    <tr>\n",
       "      <th>0</th>\n",
       "      <td>Finance</td>\n",
       "      <td>790000</td>\n",
       "    </tr>\n",
       "  </tbody>\n",
       "</table>\n",
       "</div>"
      ],
      "text/plain": [
       "  Department  Annual Salary ($)\n",
       "2        IT             1282900\n",
       "3      Sales            1089000\n",
       "1         HR             987000\n",
       "0    Finance             790000"
      ]
     },
     "execution_count": 75,
     "metadata": {},
     "output_type": "execute_result"
    }
   ],
   "source": [
    "Sort=salary.sort_values('Annual Salary ($)',ascending=False)\n",
    "Sort"
   ]
  },
  {
   "cell_type": "code",
   "execution_count": 77,
   "id": "44c0c275-eaa8-43a0-ad7a-c42e035c5d29",
   "metadata": {},
   "outputs": [
    {
     "data": {
      "text/plain": [
       "<BarContainer object of 4 artists>"
      ]
     },
     "execution_count": 77,
     "metadata": {},
     "output_type": "execute_result"
    },
    {
     "data": {
      "image/png": "[encoded data removed]",
      "text/plain": [
       "<Figure size 640x480 with 1 Axes>"
      ]
     },
     "metadata": {},
     "output_type": "display_data"
    }
   ],
   "source": [
    "plt.bar(Sort['Department'],Sort['Annual Salary ($)'])"
   ]
  },
  {
   "cell_type": "code",
   "execution_count": 83,
   "id": "cde47f03-1d02-49d4-8869-d64e49c9cacb",
   "metadata": {},
   "outputs": [],
   "source": [
    "# Task 2\n",
    "age=data.groupby([\"Department\",\"Gender\"])[\"Gender\"].count()"
   ]
  },
  {
   "cell_type": "code",
   "execution_count": 85,
   "id": "486e85b8-9c53-4525-8690-feca06a17d9d",
   "metadata": {},
   "outputs": [
    {
     "data": {
      "text/plain": [
       "Department  Gender\n",
       "Finance     Female     2\n",
       "            Male      11\n",
       "HR          Female    11\n",
       "            Male       4\n",
       "IT          Female    10\n",
       "            Male      12\n",
       "Sales       Female     4\n",
       "            Male      16\n",
       "Name: Gender, dtype: int64"
      ]
     },
     "execution_count": 85,
     "metadata": {},
     "output_type": "execute_result"
    }
   ],
   "source": [
    "age"
   ]
  },
  {
   "cell_type": "code",
   "execution_count": 17,
   "id": "cebea10f-c060-4dbc-ab58-49013a1c2042",
   "metadata": {},
   "outputs": [
    {
     "data": {
      "text/html": [
       "<div>\n",
       "<style scoped>\n",
       "    .dataframe tbody tr th:only-of-type {\n",
       "        vertical-align: middle;\n",
       "    }\n",
       "\n",
       "    .dataframe tbody tr th {\n",
       "        vertical-align: top;\n",
       "    }\n",
       "\n",
       "    .dataframe thead th {\n",
       "        text-align: right;\n",
       "    }\n",
       "</style>\n",
       "<table border=\"1\" class=\"dataframe\">\n",
       "  <thead>\n",
       "    <tr style=\"text-align: right;\">\n",
       "      <th></th>\n",
       "      <th>Employee_Code</th>\n",
       "      <th>Gender</th>\n",
       "      <th>Department</th>\n",
       "      <th>Annual Salary ($)</th>\n",
       "      <th>Age</th>\n",
       "      <th>Work_Experience</th>\n",
       "    </tr>\n",
       "  </thead>\n",
       "  <tbody>\n",
       "    <tr>\n",
       "      <th>0</th>\n",
       "      <td>1010</td>\n",
       "      <td>Male</td>\n",
       "      <td>IT</td>\n",
       "      <td>27000</td>\n",
       "      <td>22</td>\n",
       "      <td>0</td>\n",
       "    </tr>\n",
       "    <tr>\n",
       "      <th>1</th>\n",
       "      <td>1011</td>\n",
       "      <td>Female</td>\n",
       "      <td>IT</td>\n",
       "      <td>48000</td>\n",
       "      <td>27</td>\n",
       "      <td>4</td>\n",
       "    </tr>\n",
       "    <tr>\n",
       "      <th>2</th>\n",
       "      <td>1012</td>\n",
       "      <td>Male</td>\n",
       "      <td>Sales</td>\n",
       "      <td>75000</td>\n",
       "      <td>31</td>\n",
       "      <td>7</td>\n",
       "    </tr>\n",
       "    <tr>\n",
       "      <th>3</th>\n",
       "      <td>1013</td>\n",
       "      <td>Male</td>\n",
       "      <td>Sales</td>\n",
       "      <td>61000</td>\n",
       "      <td>29</td>\n",
       "      <td>6</td>\n",
       "    </tr>\n",
       "    <tr>\n",
       "      <th>4</th>\n",
       "      <td>1014</td>\n",
       "      <td>Female</td>\n",
       "      <td>Finance</td>\n",
       "      <td>45000</td>\n",
       "      <td>27</td>\n",
       "      <td>4</td>\n",
       "    </tr>\n",
       "    <tr>\n",
       "      <th>...</th>\n",
       "      <td>...</td>\n",
       "      <td>...</td>\n",
       "      <td>...</td>\n",
       "      <td>...</td>\n",
       "      <td>...</td>\n",
       "      <td>...</td>\n",
       "    </tr>\n",
       "    <tr>\n",
       "      <th>65</th>\n",
       "      <td>1074</td>\n",
       "      <td>Female</td>\n",
       "      <td>HR</td>\n",
       "      <td>82500</td>\n",
       "      <td>43</td>\n",
       "      <td>13</td>\n",
       "    </tr>\n",
       "    <tr>\n",
       "      <th>66</th>\n",
       "      <td>1075</td>\n",
       "      <td>Male</td>\n",
       "      <td>Sales</td>\n",
       "      <td>53500</td>\n",
       "      <td>28</td>\n",
       "      <td>5</td>\n",
       "    </tr>\n",
       "    <tr>\n",
       "      <th>67</th>\n",
       "      <td>1076</td>\n",
       "      <td>Female</td>\n",
       "      <td>HR</td>\n",
       "      <td>57000</td>\n",
       "      <td>29</td>\n",
       "      <td>6</td>\n",
       "    </tr>\n",
       "    <tr>\n",
       "      <th>68</th>\n",
       "      <td>1077</td>\n",
       "      <td>Male</td>\n",
       "      <td>Sales</td>\n",
       "      <td>66500</td>\n",
       "      <td>33</td>\n",
       "      <td>7</td>\n",
       "    </tr>\n",
       "    <tr>\n",
       "      <th>69</th>\n",
       "      <td>1078</td>\n",
       "      <td>Male</td>\n",
       "      <td>Finance</td>\n",
       "      <td>92000</td>\n",
       "      <td>45</td>\n",
       "      <td>19</td>\n",
       "    </tr>\n",
       "  </tbody>\n",
       "</table>\n",
       "<p>70 rows × 6 columns</p>\n",
       "</div>"
      ],
      "text/plain": [
       "    Employee_Code   Gender Department  Annual Salary ($)  Age  Work_Experience\n",
       "0             1010    Male        IT               27000   22                0\n",
       "1             1011  Female        IT               48000   27                4\n",
       "2             1012    Male      Sales              75000   31                7\n",
       "3             1013    Male      Sales              61000   29                6\n",
       "4             1014  Female    Finance              45000   27                4\n",
       "..             ...     ...        ...                ...  ...              ...\n",
       "65            1074  Female         HR              82500   43               13\n",
       "66            1075    Male      Sales              53500   28                5\n",
       "67            1076  Female         HR              57000   29                6\n",
       "68            1077    Male      Sales              66500   33                7\n",
       "69            1078    Male    Finance              92000   45               19\n",
       "\n",
       "[70 rows x 6 columns]"
      ]
     },
     "execution_count": 17,
     "metadata": {},
     "output_type": "execute_result"
    }
   ],
   "source": [
    "data"
   ]
  },
  {
   "cell_type": "code",
   "execution_count": 19,
   "id": "29e8abc8-97fd-4a3b-8e15-785ceb23db46",
   "metadata": {},
   "outputs": [
    {
     "data": {
      "text/html": [
       "<div>\n",
       "<style scoped>\n",
       "    .dataframe tbody tr th:only-of-type {\n",
       "        vertical-align: middle;\n",
       "    }\n",
       "\n",
       "    .dataframe tbody tr th {\n",
       "        vertical-align: top;\n",
       "    }\n",
       "\n",
       "    .dataframe thead th {\n",
       "        text-align: right;\n",
       "    }\n",
       "</style>\n",
       "<table border=\"1\" class=\"dataframe\">\n",
       "  <thead>\n",
       "    <tr style=\"text-align: right;\">\n",
       "      <th></th>\n",
       "      <th>Employee_Code</th>\n",
       "      <th>Gender</th>\n",
       "      <th>Department</th>\n",
       "      <th>Annual Salary ($)</th>\n",
       "      <th>Age</th>\n",
       "      <th>Work_Experience</th>\n",
       "    </tr>\n",
       "  </thead>\n",
       "  <tbody>\n",
       "    <tr>\n",
       "      <th>0</th>\n",
       "      <td>1010</td>\n",
       "      <td>Male</td>\n",
       "      <td>IT</td>\n",
       "      <td>27000</td>\n",
       "      <td>22</td>\n",
       "      <td>0</td>\n",
       "    </tr>\n",
       "    <tr>\n",
       "      <th>7</th>\n",
       "      <td>1017</td>\n",
       "      <td>Male</td>\n",
       "      <td>IT</td>\n",
       "      <td>28000</td>\n",
       "      <td>23</td>\n",
       "      <td>0</td>\n",
       "    </tr>\n",
       "    <tr>\n",
       "      <th>12</th>\n",
       "      <td>1022</td>\n",
       "      <td>Male</td>\n",
       "      <td>IT</td>\n",
       "      <td>29000</td>\n",
       "      <td>22</td>\n",
       "      <td>0</td>\n",
       "    </tr>\n",
       "    <tr>\n",
       "      <th>17</th>\n",
       "      <td>1027</td>\n",
       "      <td>Female</td>\n",
       "      <td>HR</td>\n",
       "      <td>28000</td>\n",
       "      <td>22</td>\n",
       "      <td>0</td>\n",
       "    </tr>\n",
       "    <tr>\n",
       "      <th>38</th>\n",
       "      <td>1047</td>\n",
       "      <td>Female</td>\n",
       "      <td>Sales</td>\n",
       "      <td>28000</td>\n",
       "      <td>22</td>\n",
       "      <td>0</td>\n",
       "    </tr>\n",
       "    <tr>\n",
       "      <th>46</th>\n",
       "      <td>1055</td>\n",
       "      <td>Male</td>\n",
       "      <td>IT</td>\n",
       "      <td>27500</td>\n",
       "      <td>22</td>\n",
       "      <td>0</td>\n",
       "    </tr>\n",
       "    <tr>\n",
       "      <th>47</th>\n",
       "      <td>1056</td>\n",
       "      <td>Female</td>\n",
       "      <td>IT</td>\n",
       "      <td>29000</td>\n",
       "      <td>23</td>\n",
       "      <td>0</td>\n",
       "    </tr>\n",
       "  </tbody>\n",
       "</table>\n",
       "</div>"
      ],
      "text/plain": [
       "    Employee_Code   Gender Department  Annual Salary ($)  Age  Work_Experience\n",
       "0             1010    Male        IT               27000   22                0\n",
       "7             1017    Male        IT               28000   23                0\n",
       "12            1022    Male        IT               29000   22                0\n",
       "17            1027  Female         HR              28000   22                0\n",
       "38            1047  Female      Sales              28000   22                0\n",
       "46            1055    Male        IT               27500   22                0\n",
       "47            1056  Female        IT               29000   23                0"
      ]
     },
     "execution_count": 19,
     "metadata": {},
     "output_type": "execute_result"
    }
   ],
   "source": [
    "# Task 3\n",
    "filtered_data = data[(data['Work_Experience'] == 0)]\n",
    "filtered_data"
   ]
  },
  {
   "cell_type": "code",
   "execution_count": 53,
   "id": "0f107752-15cf-4952-87be-c378e75b60c3",
   "metadata": {},
   "outputs": [],
   "source": [
    "filtered_data1 = data[(data['Work_Experience'] == 0) & (data['Department'] == 'IT ')]\n",
    "filtered_data1\n",
    "avg_sal=filtered_data1[('Annual Salary ($)')].mean()"
   ]
  },
  {
   "cell_type": "code",
   "execution_count": 55,
   "id": "219afc8c-e741-4e65-9b0b-2d9360ac71be",
   "metadata": {},
   "outputs": [
    {
     "data": {
      "text/plain": [
       "28100.0"
      ]
     },
     "execution_count": 55,
     "metadata": {},
     "output_type": "execute_result"
    }
   ],
   "source": [
    "avg_sal"
   ]
  },
  {
   "cell_type": "code",
   "execution_count": 23,
   "id": "531f6114-2c94-4931-bdb9-e10a2ab4af6c",
   "metadata": {},
   "outputs": [
    {
     "data": {
      "text/html": [
       "<div>\n",
       "<style scoped>\n",
       "    .dataframe tbody tr th:only-of-type {\n",
       "        vertical-align: middle;\n",
       "    }\n",
       "\n",
       "    .dataframe tbody tr th {\n",
       "        vertical-align: top;\n",
       "    }\n",
       "\n",
       "    .dataframe thead th {\n",
       "        text-align: right;\n",
       "    }\n",
       "</style>\n",
       "<table border=\"1\" class=\"dataframe\">\n",
       "  <thead>\n",
       "    <tr style=\"text-align: right;\">\n",
       "      <th></th>\n",
       "      <th>Department</th>\n",
       "      <th>Annual Salary ($)</th>\n",
       "    </tr>\n",
       "  </thead>\n",
       "  <tbody>\n",
       "    <tr>\n",
       "      <th>0</th>\n",
       "      <td>Finance</td>\n",
       "      <td>790000</td>\n",
       "    </tr>\n",
       "    <tr>\n",
       "      <th>1</th>\n",
       "      <td>HR</td>\n",
       "      <td>987000</td>\n",
       "    </tr>\n",
       "    <tr>\n",
       "      <th>2</th>\n",
       "      <td>IT</td>\n",
       "      <td>1282900</td>\n",
       "    </tr>\n",
       "    <tr>\n",
       "      <th>3</th>\n",
       "      <td>Sales</td>\n",
       "      <td>1089000</td>\n",
       "    </tr>\n",
       "  </tbody>\n",
       "</table>\n",
       "</div>"
      ],
      "text/plain": [
       "  Department  Annual Salary ($)\n",
       "0    Finance             790000\n",
       "1         HR             987000\n",
       "2        IT             1282900\n",
       "3      Sales            1089000"
      ]
     },
     "execution_count": 23,
     "metadata": {},
     "output_type": "execute_result"
    }
   ],
   "source": [
    "# Task 4\n",
    "S=data.groupby(['Department'])['Annual Salary ($)'].sum().reset_index()\n",
    "S"
   ]
  },
  {
   "cell_type": "code",
   "execution_count": 33,
   "id": "09e8773b-1011-4c9e-944c-3186b0a7f497",
   "metadata": {},
   "outputs": [
    {
     "data": {
      "image/png": "[encoded data removed]",
      "text/plain": [
       "<Figure size 640x480 with 1 Axes>"
      ]
     },
     "metadata": {},
     "output_type": "display_data"
    }
   ],
   "source": [
    "plt.pie(S['Annual Salary ($)'],labels=S['Department'],autopct='%.2f%%')\n",
    "plt.title(\"Pie Chart\")\n",
    "plt.show()"
   ]
  },
  {
   "cell_type": "code",
   "execution_count": 27,
   "id": "9af0cc8b-9662-4d9f-acf1-378a1499c850",
   "metadata": {},
   "outputs": [
    {
     "data": {
      "text/plain": [
       "(array([11., 27., 14.,  8.,  5.,  5.]),\n",
       " array([20., 25., 30., 35., 40., 45., 50.]),\n",
       " <BarContainer object of 6 artists>)"
      ]
     },
     "execution_count": 27,
     "metadata": {},
     "output_type": "execute_result"
    },
    {
     "data": {
      "image/png": "[encoded data removed]",
      "text/plain": [
       "<Figure size 640x480 with 1 Axes>"
      ]
     },
     "metadata": {},
     "output_type": "display_data"
    }
   ],
   "source": [
    "# Task 5\n",
    "bins=[20,25,30,35,40,45,50]\n",
    "plt.hist(data['Age'],bins,rwidth=0.98)"
   ]
  },
  {
   "cell_type": "code",
   "execution_count": 31,
   "id": "8049c945-be52-4cd3-a011-ec896aaa6473",
   "metadata": {},
   "outputs": [
    {
     "data": {
      "text/plain": [
       "<matplotlib.collections.PathCollection at 0x1c63d671ee0>"
      ]
     },
     "execution_count": 31,
     "metadata": {},
     "output_type": "execute_result"
    },
    {
     "data": {
      "image/png": "[encoded data removed]",
      "text/plain": [
       "<Figure size 640x480 with 1 Axes>"
      ]
     },
     "metadata": {},
     "output_type": "display_data"
    }
   ],
   "source": [
    "# Task 6\n",
    "plt.scatter(data['Annual Salary ($)'],data['Work_Experience'])"
   ]
  },
  {
   "cell_type": "code",
   "execution_count": 284,
   "id": "189d7c99-65ba-47ec-b40b-992773bf6bb0",
   "metadata": {},
   "outputs": [
    {
     "data": {
      "text/plain": [
       "<Axes: title={'center': 'Annual Salary ($)'}, xlabel='[Department]'>"
      ]
     },
     "execution_count": 284,
     "metadata": {},
     "output_type": "execute_result"
    },
    {
     "data": {
      "image/png": "[encoded data removed]",
      "text/plain": [
       "<Figure size 640x480 with 1 Axes>"
      ]
     },
     "metadata": {},
     "output_type": "display_data"
    }
   ],
   "source": [
    "# Task 7\n",
    "data.boxplot(by=['Department'],column=['Annual Salary ($)'])"
   ]
  },
  {
   "cell_type": "code",
   "execution_count": null,
   "id": "bd64f67d-cba8-41b9-960e-e15cf4b62dea",
   "metadata": {},
   "outputs": [],
   "source": []
  }
 ],
 "metadata": {
  "kernelspec": {
   "display_name": "Python 3 (ipykernel)",
   "language": "python",
   "name": "python3"
  },
  "language_info": {
   "codemirror_mode": {
    "name": "ipython",
    "version": 3
   },
   "file_extension": ".py",
   "mimetype": "text/x-python",
   "name": "python",
   "nbconvert_exporter": "python",
   "pygments_lexer": "ipython3",
   "version": "3.12.4"
  }
 },
 "nbformat": 4,
 "nbformat_minor": 5
}
