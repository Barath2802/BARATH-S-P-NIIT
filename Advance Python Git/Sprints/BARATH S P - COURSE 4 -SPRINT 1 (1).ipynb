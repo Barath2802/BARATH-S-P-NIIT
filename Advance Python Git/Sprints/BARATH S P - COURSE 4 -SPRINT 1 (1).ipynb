{
 "cells": [
  {
   "cell_type": "code",
   "execution_count": 1,
   "id": "cac90624-c0a3-486d-8571-d186579556b4",
   "metadata": {},
   "outputs": [],
   "source": [
    "import numpy as np"
   ]
  },
  {
   "cell_type": "code",
   "execution_count": 3,
   "id": "e938ff76-cee7-4cc7-80ba-4ff4a9b2eada",
   "metadata": {},
   "outputs": [
    {
     "name": "stdout",
     "output_type": "stream",
     "text": [
      "No.of Employees in HR Department are[1 2 3]\n",
      "No.of. Employees in IT department are[ 4  5  6  7  8  9 10 11 12 13 14 15 16 17 18]\n",
      " No.of.Employees in Finance Department are[19 20 21 22 23]\n",
      "No.of.Employees in Sales department are[24 25 26 27 28 29 30]\n"
     ]
    }
   ],
   "source": [
    "# Task 1\n",
    "HR=np.arange(1,4)\n",
    "IT=np.arange(4,19)\n",
    "Finance=np.arange(19,24)\n",
    "Sales=np.arange(24,31)\n",
    "print(f\"No.of Employees in HR Department are{HR}\")\n",
    "print(f\"No.of. Employees in IT department are{IT}\")\n",
    "print(f\" No.of.Employees in Finance Department are{Finance}\")\n",
    "print(f\"No.of.Employees in Sales department are{Sales}\")"
   ]
  },
  {
   "cell_type": "code",
   "execution_count": 5,
   "id": "bf08be4c-029b-4f08-b649-6178049899b9",
   "metadata": {},
   "outputs": [
    {
     "name": "stdout",
     "output_type": "stream",
     "text": [
      "[50 60 57]\n",
      "[67 67 67 67 67 67 67 67 67 67 67 67 67 67 67]\n",
      "[60 65 50 70 87]\n",
      "[50 60 65 90 56 65 71]\n"
     ]
    }
   ],
   "source": [
    "# Task 2\n",
    "salary_for_HR=np.array([50,60,57])\n",
    "print(salary_for_HR)\n",
    "salary_for_IT=np.array([67]*15)\n",
    "print(salary_for_IT)\n",
    "salary_for_Finance=np.array([60,65,50,70,87])\n",
    "print(salary_for_Finance)\n",
    "salary_for_Sales=np.array([50,60,65,90,56,65,71])\n",
    "print(salary_for_Sales)"
   ]
  },
  {
   "cell_type": "code",
   "execution_count": 7,
   "id": "30706982-850e-4e25-820a-e22a3b3eb62a",
   "metadata": {},
   "outputs": [
    {
     "name": "stdout",
     "output_type": "stream",
     "text": [
      "The average salary for HR is :55.666666666666664\n",
      "The average salary for IT is :67.0\n",
      "The average salary for Finance:66.4\n",
      "The average salary for Sales is :65.28571428571429\n",
      "The highest_average_salary is: 67.0\n"
     ]
    }
   ],
   "source": [
    "# Task 3\n",
    "avg_salary_for_HR=np.mean([salary_for_HR])\n",
    "avg_salary_for_IT=np.mean([salary_for_IT])\n",
    "avg_salary_for_Finance=np.mean([salary_for_Finance])\n",
    "avg_salary_for_sales=np.mean([salary_for_Sales])\n",
    "print(f\"The average salary for HR is :{avg_salary_for_HR}\")\n",
    "print(f\"The average salary for IT is :{avg_salary_for_IT}\")\n",
    "print(f\"The average salary for Finance:{avg_salary_for_Finance}\")\n",
    "print(f\"The average salary for Sales is :{avg_salary_for_sales}\")\n",
    "highest_average_salary = np.max([avg_salary_for_HR, avg_salary_for_IT, avg_salary_for_Finance, avg_salary_for_sales])\n",
    "print(\"The highest_average_salary is:\",highest_average_salary)\n",
    "# Interpretation : from this i have found that highest average salary is 67.0 from the IT Department."
   ]
  },
  {
   "cell_type": "code",
   "execution_count": 9,
   "id": "0efdd3c3-a255-49d4-a134-a5e74e6f67d5",
   "metadata": {},
   "outputs": [
    {
     "name": "stdout",
     "output_type": "stream",
     "text": [
      "The highest salary for HR Is: 60\n",
      "The highest salary for Finance Is: 87\n"
     ]
    }
   ],
   "source": [
    "# Task 4\n",
    "highest_salary_for_HR=np.max([salary_for_HR])\n",
    "highest_salary_for_Finance=np.max([salary_for_Finance])\n",
    "print(\"The highest salary for HR Is:\",highest_salary_for_HR)\n",
    "print(\"The highest salary for Finance Is:\",highest_salary_for_Finance)"
   ]
  },
  {
   "cell_type": "code",
   "execution_count": 15,
   "id": "02c8013c-774c-4d1c-9c7e-550e78092138",
   "metadata": {},
   "outputs": [],
   "source": [
    "# Task 5"
   ]
  },
  {
   "cell_type": "code",
   "execution_count": 11,
   "id": "ced11cf9-d08b-487e-ba3a-585295fd5fe8",
   "metadata": {},
   "outputs": [
    {
     "data": {
      "text/plain": [
       "array([70.35, 70.35, 70.35, 70.35, 70.35, 70.35, 70.35, 70.35, 70.35,\n",
       "       70.35, 70.35, 70.35, 70.35, 70.35, 70.35])"
      ]
     },
     "execution_count": 11,
     "metadata": {},
     "output_type": "execute_result"
    }
   ],
   "source": [
    "salary_for_IT=salary_for_IT*1.05 \n",
    "salary_for_IT"
   ]
  },
  {
   "cell_type": "code",
   "execution_count": null,
   "id": "fe902edc-37e3-4e26-8d90-41cb6b721f93",
   "metadata": {},
   "outputs": [],
   "source": []
  },
  {
   "cell_type": "code",
   "execution_count": 13,
   "id": "8b2b7da3-7bf1-4da1-8c0a-dd81676d6ac6",
   "metadata": {},
   "outputs": [],
   "source": []
  },
  {
   "cell_type": "code",
   "execution_count": null,
   "id": "c77c83d1-f20c-4182-8007-cc18621e9b66",
   "metadata": {},
   "outputs": [],
   "source": []
  },
  {
   "cell_type": "code",
   "execution_count": null,
   "id": "a36f8914-2530-41df-b5ca-e7f93141f789",
   "metadata": {},
   "outputs": [],
   "source": []
  },
  {
   "cell_type": "code",
   "execution_count": null,
   "id": "fdce8156-4005-4a4a-b80b-841e3064880c",
   "metadata": {},
   "outputs": [],
   "source": []
  },
  {
   "cell_type": "code",
   "execution_count": null,
   "id": "25a3095d-db3c-412b-b4d0-13694dcecb72",
   "metadata": {},
   "outputs": [],
   "source": []
  },
  {
   "cell_type": "code",
   "execution_count": null,
   "id": "207ad632-809d-4033-abdb-d2a70da4f4d8",
   "metadata": {},
   "outputs": [],
   "source": []
  },
  {
   "cell_type": "code",
   "execution_count": null,
   "id": "bf6ec8cf-2d57-4d4b-b59e-f388e3a0f012",
   "metadata": {},
   "outputs": [],
   "source": []
  },
  {
   "cell_type": "code",
   "execution_count": null,
   "id": "617f0b78-b0f6-44e6-b1c5-f6cd1894155f",
   "metadata": {},
   "outputs": [],
   "source": []
  }
 ],
 "metadata": {
  "kernelspec": {
   "display_name": "Python 3 (ipykernel)",
   "language": "python",
   "name": "python3"
  },
  "language_info": {
   "codemirror_mode": {
    "name": "ipython",
    "version": 3
   },
   "file_extension": ".py",
   "mimetype": "text/x-python",
   "name": "python",
   "nbconvert_exporter": "python",
   "pygments_lexer": "ipython3",
   "version": "3.12.4"
  }
 },
 "nbformat": 4,
 "nbformat_minor": 5
}
