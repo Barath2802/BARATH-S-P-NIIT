{
 "cells": [
  {
   "cell_type": "code",
   "execution_count": 1,
   "id": "125c8b32-1194-4a8a-8fbd-5d135c8b9f6c",
   "metadata": {},
   "outputs": [],
   "source": [
    "import numpy as np\n",
    "import pandas as pd\n",
    "import matplotlib.pyplot as plt\n",
    "import seaborn as sns\n",
    "from scipy.stats import t\n",
    "import statistics as st\n",
    "import math as m"
   ]
  },
  {
   "cell_type": "code",
   "execution_count": 2,
   "id": "12336034-c135-46dd-997b-eba78a0d7ab2",
   "metadata": {},
   "outputs": [
    {
     "data": {
      "text/html": [
       "<div>\n",
       "<style scoped>\n",
       "    .dataframe tbody tr th:only-of-type {\n",
       "        vertical-align: middle;\n",
       "    }\n",
       "\n",
       "    .dataframe tbody tr th {\n",
       "        vertical-align: top;\n",
       "    }\n",
       "\n",
       "    .dataframe thead th {\n",
       "        text-align: right;\n",
       "    }\n",
       "</style>\n",
       "<table border=\"1\" class=\"dataframe\">\n",
       "  <thead>\n",
       "    <tr style=\"text-align: right;\">\n",
       "      <th></th>\n",
       "      <th>Score</th>\n",
       "    </tr>\n",
       "  </thead>\n",
       "  <tbody>\n",
       "    <tr>\n",
       "      <th>0</th>\n",
       "      <td>61</td>\n",
       "    </tr>\n",
       "    <tr>\n",
       "      <th>1</th>\n",
       "      <td>93</td>\n",
       "    </tr>\n",
       "    <tr>\n",
       "      <th>2</th>\n",
       "      <td>75</td>\n",
       "    </tr>\n",
       "    <tr>\n",
       "      <th>3</th>\n",
       "      <td>67</td>\n",
       "    </tr>\n",
       "    <tr>\n",
       "      <th>4</th>\n",
       "      <td>84</td>\n",
       "    </tr>\n",
       "    <tr>\n",
       "      <th>5</th>\n",
       "      <td>95</td>\n",
       "    </tr>\n",
       "  </tbody>\n",
       "</table>\n",
       "</div>"
      ],
      "text/plain": [
       "   Score\n",
       "0     61\n",
       "1     93\n",
       "2     75\n",
       "3     67\n",
       "4     84\n",
       "5     95"
      ]
     },
     "execution_count": 2,
     "metadata": {},
     "output_type": "execute_result"
    }
   ],
   "source": [
    "df=pd.DataFrame({\"Score\":[61,93,75,67,84,95]})\n",
    "df"
   ]
  },
  {
   "cell_type": "raw",
   "id": "6346bb49-de91-484d-b26d-528f8569fbfa",
   "metadata": {},
   "source": [
    "Task 1\n",
    "Ho:The Mean score for the 6 Randomly Selected Students should be  less than or equal to 71 in test\n",
    "H1:The mean for the 6 six students is higher than 71 score\n",
    "So it is One Side Right Tailed Test"
   ]
  },
  {
   "cell_type": "code",
   "execution_count": 3,
   "id": "334761c4-1d03-4be8-8681-72d203432dc6",
   "metadata": {
    "scrolled": true
   },
   "outputs": [
    {
     "name": "stdout",
     "output_type": "stream",
     "text": [
      "The sample mean is: 79.16666666666667\n",
      "The standard deviation for the sample is: 13.862419221285535\n",
      "The len value for the sample is: 6\n",
      "The variance for the sample is: 192.16666666666666\n",
      "The alpha value is: 0.1\n",
      "The degree of Freedom is: 5\n",
      "The total population mean is: 71\n"
     ]
    }
   ],
   "source": [
    "s_mean=st.mean(df[\"Score\"])\n",
    "print(\"The sample mean is:\",s_mean)\n",
    "s_std=st.stdev(df[\"Score\"])\n",
    "print(\"The standard deviation for the sample is:\",s_std)\n",
    "n=len(df[\"Score\"])\n",
    "print(\"The len value for the sample is:\",n)\n",
    "var=s_std**2\n",
    "print(\"The variance for the sample is:\",var)\n",
    "alpha=0.1\n",
    "print(\"The alpha value is:\",alpha)\n",
    "dof=6-1\n",
    "print(\"The degree of Freedom is:\",dof)\n",
    "mu=71\n",
    "print(\"The total population mean is:\",mu)"
   ]
  },
  {
   "cell_type": "code",
   "execution_count": 4,
   "id": "489f42c1-31a9-4f7b-b7b0-7c37fdc17eef",
   "metadata": {},
   "outputs": [
    {
     "name": "stdout",
     "output_type": "stream",
     "text": [
      "The t_critical value is: 1.4758840488558216\n"
     ]
    }
   ],
   "source": [
    "t_critical=t.ppf((1-alpha),dof)\n",
    "print(\"The t_critical value is:\",t_critical)"
   ]
  },
  {
   "cell_type": "code",
   "execution_count": 5,
   "id": "db7396fa-5675-47ea-9f3a-cc4ff10016a9",
   "metadata": {},
   "outputs": [
    {
     "data": {
      "text/plain": [
       "1.443050156931714"
      ]
     },
     "execution_count": 5,
     "metadata": {},
     "output_type": "execute_result"
    }
   ],
   "source": [
    "t_statistics=(s_mean-mu)/(s_std/m.sqrt(n))\n",
    "t_statistics"
   ]
  },
  {
   "cell_type": "code",
   "execution_count": 6,
   "id": "f026daf9-ac47-4258-ac59-68594ffd10ba",
   "metadata": {},
   "outputs": [
    {
     "name": "stdout",
     "output_type": "stream",
     "text": [
      "The p_value is: 0.10429845495147672\n"
     ]
    }
   ],
   "source": [
    "p_value=(t.sf(abs(t_statistics),dof))\n",
    "print(\"The p_value is:\",p_value)"
   ]
  },
  {
   "cell_type": "code",
   "execution_count": 7,
   "id": "46ae346e-c945-412b-bbdf-a20565dd6dba",
   "metadata": {},
   "outputs": [
    {
     "data": {
      "image/png": "[encoded data removed]",
      "text/plain": [
       "<Figure size 640x480 with 1 Axes>"
      ]
     },
     "metadata": {},
     "output_type": "display_data"
    }
   ],
   "source": [
    "lower_p=s_mean-4*s_std\n",
    "upper_p=s_mean+4*s_std\n",
    "Arr=np.arange(-4,+4,0.1)\n",
    "t_value6=t.pdf(Arr,6)\n",
    "plt.plot(t_value6)\n",
    "plt.legend(['dof=5'])\n",
    "plt.show()"
   ]
  },
  {
   "cell_type": "code",
   "execution_count": 8,
   "id": "39b670c7-7893-4845-8a9f-a2ace205facb",
   "metadata": {},
   "outputs": [],
   "source": [
    "# from this p_value is equal  to the alpha value So We accept the Null Hypothesis\n"
   ]
  },
  {
   "cell_type": "code",
   "execution_count": 9,
   "id": "511ac93a-8102-4edf-aab5-f855a2d88a02",
   "metadata": {},
   "outputs": [
    {
     "data": {
      "text/plain": [
       "23.716989781524532"
      ]
     },
     "execution_count": 9,
     "metadata": {},
     "output_type": "execute_result"
    }
   ],
   "source": [
    "lower_p"
   ]
  },
  {
   "cell_type": "code",
   "execution_count": 10,
   "id": "c5c638ce-cdd6-42e6-aae3-502a9be47ef0",
   "metadata": {},
   "outputs": [
    {
     "data": {
      "text/plain": [
       "134.61634355180882"
      ]
     },
     "execution_count": 10,
     "metadata": {},
     "output_type": "execute_result"
    }
   ],
   "source": [
    "upper_p"
   ]
  },
  {
   "cell_type": "raw",
   "id": "d575d3c2-ca27-435b-a4f8-aaa5ef03a338",
   "metadata": {},
   "source": [
    "# Task 2\n",
    "H0:The average for two batches are the same\n",
    "H1: The average  for two batches is not the same\n",
    "So this Two Tailed Test"
   ]
  },
  {
   "cell_type": "code",
   "execution_count": 11,
   "id": "ca71c93c-a39d-460b-b3e6-19ab141432ec",
   "metadata": {},
   "outputs": [
    {
     "data": {
      "text/html": [
       "<div>\n",
       "<style scoped>\n",
       "    .dataframe tbody tr th:only-of-type {\n",
       "        vertical-align: middle;\n",
       "    }\n",
       "\n",
       "    .dataframe tbody tr th {\n",
       "        vertical-align: top;\n",
       "    }\n",
       "\n",
       "    .dataframe thead th {\n",
       "        text-align: right;\n",
       "    }\n",
       "</style>\n",
       "<table border=\"1\" class=\"dataframe\">\n",
       "  <thead>\n",
       "    <tr style=\"text-align: right;\">\n",
       "      <th></th>\n",
       "      <th>Batch 1</th>\n",
       "      <th>Batch2</th>\n",
       "    </tr>\n",
       "  </thead>\n",
       "  <tbody>\n",
       "    <tr>\n",
       "      <th>0</th>\n",
       "      <td>9</td>\n",
       "      <td>60</td>\n",
       "    </tr>\n",
       "    <tr>\n",
       "      <th>1</th>\n",
       "      <td>9</td>\n",
       "      <td>39</td>\n",
       "    </tr>\n",
       "    <tr>\n",
       "      <th>2</th>\n",
       "      <td>9</td>\n",
       "      <td>39</td>\n",
       "    </tr>\n",
       "    <tr>\n",
       "      <th>3</th>\n",
       "      <td>36</td>\n",
       "      <td>60</td>\n",
       "    </tr>\n",
       "    <tr>\n",
       "      <th>4</th>\n",
       "      <td>45</td>\n",
       "      <td>79</td>\n",
       "    </tr>\n",
       "    <tr>\n",
       "      <th>5</th>\n",
       "      <td>48</td>\n",
       "      <td>96</td>\n",
       "    </tr>\n",
       "    <tr>\n",
       "      <th>6</th>\n",
       "      <td>51</td>\n",
       "      <td>69</td>\n",
       "    </tr>\n",
       "    <tr>\n",
       "      <th>7</th>\n",
       "      <td>57</td>\n",
       "      <td>60</td>\n",
       "    </tr>\n",
       "    <tr>\n",
       "      <th>8</th>\n",
       "      <td>69</td>\n",
       "      <td>75</td>\n",
       "    </tr>\n",
       "    <tr>\n",
       "      <th>9</th>\n",
       "      <td>72</td>\n",
       "      <td>45</td>\n",
       "    </tr>\n",
       "    <tr>\n",
       "      <th>10</th>\n",
       "      <td>96</td>\n",
       "      <td>90</td>\n",
       "    </tr>\n",
       "  </tbody>\n",
       "</table>\n",
       "</div>"
      ],
      "text/plain": [
       "    Batch 1  Batch2\n",
       "0         9      60\n",
       "1         9      39\n",
       "2         9      39\n",
       "3        36      60\n",
       "4        45      79\n",
       "5        48      96\n",
       "6        51      69\n",
       "7        57      60\n",
       "8        69      75\n",
       "9        72      45\n",
       "10       96      90"
      ]
     },
     "execution_count": 11,
     "metadata": {},
     "output_type": "execute_result"
    }
   ],
   "source": [
    "df1=pd.DataFrame({\"Batch 1\":[9,9,9,36,45,48,51,57,69,72,96],\"Batch2\":[60,39,39,60,79,96,69,60,75,45,90]})\n",
    "df1"
   ]
  },
  {
   "cell_type": "code",
   "execution_count": 12,
   "id": "a06a91c5-8cb2-4ce4-9acf-45a8a188b453",
   "metadata": {},
   "outputs": [
    {
     "name": "stdout",
     "output_type": "stream",
     "text": [
      "The mean for the batch 1 is: 45.54545454545455\n",
      "The standard deviation for the Batch 1: 28.391419958725688\n",
      "The len for the batch 1 is: 11\n",
      "The mean for the Batch 2 : 64.72727272727273\n",
      "The standard deviation for batch 2: 19.298139335650518\n",
      "The length for the Batch 2 is: 11\n",
      "The alpha value is: 0.1\n",
      "The degree of freedom is: 20\n",
      "The variance for the batch 1 : 806.0727272727273\n",
      "The variance for the batch 2 : 372.41818181818184\n"
     ]
    }
   ],
   "source": [
    "n=11\n",
    "b1_mean=st.mean(df1[\"Batch 1\"])\n",
    "print(\"The mean for the batch 1 is:\",b1_mean)\n",
    "b1_std=st.stdev(df1[\"Batch 1\"])\n",
    "print(\"The standard deviation for the Batch 1:\",b1_std)\n",
    "n1=len(df1[\"Batch 1\"])\n",
    "print(\"The len for the batch 1 is:\",n1)\n",
    "n2=11\n",
    "b2_mean=st.mean(df1[\"Batch2\"])\n",
    "print(\"The mean for the Batch 2 :\",b2_mean)\n",
    "b2_std=st.stdev(df1[\"Batch2\"])\n",
    "print(\"The standard deviation for batch 2:\",b2_std)\n",
    "n2=len(df1[\"Batch2\"])\n",
    "print(\"The length for the Batch 2 is:\",n2)\n",
    "alpha=0.1\n",
    "print(\"The alpha value is:\",alpha)\n",
    "Dof=11+11-2\n",
    "print(\"The degree of freedom is:\",Dof)\n",
    "b1_variance1=b1_std**2\n",
    "print(\"The variance for the batch 1 :\",b1_variance1)\n",
    "b2_variance2=b2_std**2\n",
    "print(\"The variance for the batch 2 :\",b2_variance2)"
   ]
  },
  {
   "cell_type": "code",
   "execution_count": 32,
   "id": "17a6ecc4-aae9-4d0c-89fb-3beb72cecf80",
   "metadata": {},
   "outputs": [
    {
     "name": "stdout",
     "output_type": "stream",
     "text": [
      "The t_critical value is: 1.7247182429207857\n"
     ]
    }
   ],
   "source": [
    "t_critical=t.ppf(1-alpha/2,Dof)\n",
    "print(\"The t_critical value is:\",t_critical)"
   ]
  },
  {
   "cell_type": "code",
   "execution_count": 14,
   "id": "02c7b823-55d9-4b55-a163-a7aa35341654",
   "metadata": {},
   "outputs": [
    {
     "data": {
      "text/plain": [
       "46.28942367108985"
      ]
     },
     "execution_count": 14,
     "metadata": {},
     "output_type": "execute_result"
    }
   ],
   "source": [
    "noise = m.sqrt(b1_variance1*(n1-1) + b2_variance2*(n2-1))*m.sqrt(1/n1 + 1/n2)\n",
    "noise"
   ]
  },
  {
   "cell_type": "code",
   "execution_count": 15,
   "id": "915e8ec4-a024-4b0d-b69a-38be696eca3c",
   "metadata": {},
   "outputs": [
    {
     "data": {
      "text/plain": [
       "19.181818181818187"
      ]
     },
     "execution_count": 15,
     "metadata": {},
     "output_type": "execute_result"
    }
   ],
   "source": [
    "signal = abs(b1_mean-b2_mean)\n",
    "signal"
   ]
  },
  {
   "cell_type": "code",
   "execution_count": 16,
   "id": "32c30a9a-74a5-439d-834d-eb0cbf9f95d9",
   "metadata": {},
   "outputs": [],
   "source": [
    "t_statistic=signal/noise"
   ]
  },
  {
   "cell_type": "code",
   "execution_count": 17,
   "id": "d2bd7505-5720-4e8a-a0c5-6808203323bc",
   "metadata": {},
   "outputs": [
    {
     "name": "stdout",
     "output_type": "stream",
     "text": [
      "t-statistic= 0.4143887882060245\n"
     ]
    }
   ],
   "source": [
    "print('t-statistic=',t_statistic)"
   ]
  },
  {
   "cell_type": "code",
   "execution_count": 34,
   "id": "a666d67f-ae73-4d7b-9404-2b9be0678af6",
   "metadata": {},
   "outputs": [
    {
     "name": "stdout",
     "output_type": "stream",
     "text": [
      "The p_value is  0.6830001107250747\n"
     ]
    }
   ],
   "source": [
    "p_value=t.sf(abs(t_statistic),Dof)*2\n",
    "print(\"The p_value is \", p_value)"
   ]
  },
  {
   "cell_type": "code",
   "execution_count": 36,
   "id": "65e0c632-e358-4413-a3d5-ae6912780551",
   "metadata": {},
   "outputs": [
    {
     "data": {
      "image/png": "[encoded data removed]",
      "text/plain": [
       "<Figure size 640x480 with 1 Axes>"
      ]
     },
     "metadata": {},
     "output_type": "display_data"
    }
   ],
   "source": [
    "Arr=np.arange(-4,+4,0.1)\n",
    "t_value20=t.pdf(Arr,20)\n",
    "plt.plot(t_value6)\n",
    "plt.legend(['dof=20'])\n",
    "plt.show()"
   ]
  },
  {
   "cell_type": "code",
   "execution_count": null,
   "id": "385ec79e-94b0-4d2e-8801-1c1b1b0866d6",
   "metadata": {},
   "outputs": [],
   "source": [
    "# In this p_value is greater than the Alpha and t_critical is greater than t_statistics we accept Null Hypothesis"
   ]
  }
 ],
 "metadata": {
  "kernelspec": {
   "display_name": "Python 3 (ipykernel)",
   "language": "python",
   "name": "python3"
  },
  "language_info": {
   "codemirror_mode": {
    "name": "ipython",
    "version": 3
   },
   "file_extension": ".py",
   "mimetype": "text/x-python",
   "name": "python",
   "nbconvert_exporter": "python",
   "pygments_lexer": "ipython3",
   "version": "3.12.4"
  }
 },
 "nbformat": 4,
 "nbformat_minor": 5
}
