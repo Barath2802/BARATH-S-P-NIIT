{
 "cells": [
  {
   "cell_type": "code",
   "execution_count": 1,
   "id": "f8540608-5014-4868-8339-a3d60d699387",
   "metadata": {},
   "outputs": [],
   "source": [
    "import pandas as pd\n",
    "import numpy as  np\n",
    "import matplotlib.pyplot as plt\n",
    "import seaborn as sns\n",
    "import math as m\n",
    "from tabulate import tabulate \n",
    "from scipy.stats import skew\n",
    "from scipy.stats import kurtosis\n",
    "from scipy.stats import norm\n",
    "import statistics as st"
   ]
  },
  {
   "cell_type": "raw",
   "id": "f82ee26b-98a7-4e9d-a86b-14211b5b2d33",
   "metadata": {},
   "source": [
    "# Task 1\n",
    "Ho:In 2020 The average rent for a designated industrial area is equal to 33.88 Per square foot\n",
    "H1: the mean price that is getting from a sample 49 is less than or greater than 32.18 Per square foot \n",
    "H0:mu=33.88\n",
    "H1:mu<=or >=32.18\n",
    "So this is RIGHT TAILED Test."
   ]
  },
  {
   "cell_type": "code",
   "execution_count": 48,
   "id": "f246bfc6-4851-44c8-bb19-bf77848b37b2",
   "metadata": {},
   "outputs": [],
   "source": [
    "Standard_deviation=1.28 # standard_deviation \n",
    "mu=33.88 # Mean 1\n",
    "n=49 # sample size 1\n",
    "x=32.18 # Mean 2\n",
    "alpha=0.05 # Significance Level"
   ]
  },
  {
   "cell_type": "code",
   "execution_count": 56,
   "id": "d5af5c12-9ceb-4ee1-b601-2f84bafc503d",
   "metadata": {},
   "outputs": [
    {
     "name": "stdout",
     "output_type": "stream",
     "text": [
      "The z critical value is: -1.9599639845400545\n"
     ]
    }
   ],
   "source": [
    "z_critical_=norm.ppf(alpha/2)\n",
    "print(\"The z critical value is:\",z_critical_)"
   ]
  },
  {
   "cell_type": "code",
   "execution_count": 64,
   "id": "8a33f1b3-f45f-4c73-8b73-e90074dcfa9c",
   "metadata": {},
   "outputs": [
    {
     "data": {
      "text/plain": [
       "-9.296875000000016"
      ]
     },
     "execution_count": 64,
     "metadata": {},
     "output_type": "execute_result"
    }
   ],
   "source": [
    "z_statistics=(x-mu)/(Standard_deviation/m.sqrt(n))\n",
    "z_statistics"
   ]
  },
  {
   "cell_type": "code",
   "execution_count": 70,
   "id": "1f887a54-f2ae-45b1-b4b6-d15f1975354f",
   "metadata": {},
   "outputs": [
    {
     "data": {
      "text/plain": [
       "1.4463410868771357e-20"
      ]
     },
     "execution_count": 70,
     "metadata": {},
     "output_type": "execute_result"
    }
   ],
   "source": [
    "p_value=(2*(norm.sf(abs(z_statistics))))\n",
    "p_value"
   ]
  },
  {
   "cell_type": "markdown",
   "id": "b60b2e4a-60be-469c-997f-43c8d69e5e19",
   "metadata": {},
   "source": [
    "From this we arrived at a conclusion at We reject The Null Hypothesis because the p_value is lesser than z_critical value"
   ]
  },
  {
   "cell_type": "code",
   "execution_count": null,
   "id": "3ffe0896-a2cb-4c04-9d12-7174d3aa2e4b",
   "metadata": {},
   "outputs": [],
   "source": [
    "# Task2\n",
    "Ho: The mean throwing distance of mac is lesser than or equal to 85 Yards\n",
    "H1: The mean throwing distance of mac is greater than 85 yards\n",
    "H0:mu=85 yards\n",
    "h1:mu>85 Yards\n",
    "So it is One -side Right Test"
   ]
  },
  {
   "cell_type": "code",
   "execution_count": 10,
   "id": "b8ecaea3-ad21-40cf-8be6-0841ac7a8164",
   "metadata": {},
   "outputs": [],
   "source": [
    "mu=85 # population Mean\n",
    "standard_deviation=2.1 # standard deviation\n",
    "alpha=0.05 # significance Level\n",
    "x=87.5 # Sample mean\n",
    "n=32 # sample size"
   ]
  },
  {
   "cell_type": "code",
   "execution_count": 12,
   "id": "5f5e6ab3-e420-4631-b7d2-86dfdc269b8f",
   "metadata": {},
   "outputs": [
    {
     "name": "stdout",
     "output_type": "stream",
     "text": [
      "The z critical value is: 1.6448536269514722\n"
     ]
    }
   ],
   "source": [
    "z_critical=norm.ppf(1-alpha)\n",
    "print(\"The z critical value is:\",z_critical)"
   ]
  },
  {
   "cell_type": "code",
   "execution_count": 14,
   "id": "11a8da9a-c5dc-4ea2-98c0-aae2e9dd5dbd",
   "metadata": {},
   "outputs": [
    {
     "name": "stdout",
     "output_type": "stream",
     "text": [
      "The z statistics value is: 6.734350297014738\n"
     ]
    }
   ],
   "source": [
    "z_statistics=(x-mu)/(standard_deviation/m.sqrt(n))\n",
    "print(\"The z statistics value is:\",z_statistics)"
   ]
  },
  {
   "cell_type": "code",
   "execution_count": 16,
   "id": "cae1e58f-961b-456c-80af-893992822851",
   "metadata": {},
   "outputs": [
    {
     "name": "stdout",
     "output_type": "stream",
     "text": [
      "The p_value is: 8.233201952582752e-12\n"
     ]
    }
   ],
   "source": [
    "p_value=norm.sf(abs(z_statistics))\n",
    "print(\"The p_value is:\",p_value)"
   ]
  },
  {
   "cell_type": "markdown",
   "id": "b609e424-4b42-4ca7-8cbd-8ec7a15316e3",
   "metadata": {},
   "source": [
    "p_value is lesser than the alpha value so we should reject the Null Hypothesis:\n",
    "Ho: The mean throwing distance of mac is lesser than or equal to 85 Yards."
   ]
  },
  {
   "cell_type": "code",
   "execution_count": null,
   "id": "15c4328d-4e4c-4888-b565-d9f73b34b946",
   "metadata": {},
   "outputs": [],
   "source": []
  }
 ],
 "metadata": {
  "kernelspec": {
   "display_name": "Python 3 (ipykernel)",
   "language": "python",
   "name": "python3"
  },
  "language_info": {
   "codemirror_mode": {
    "name": "ipython",
    "version": 3
   },
   "file_extension": ".py",
   "mimetype": "text/x-python",
   "name": "python",
   "nbconvert_exporter": "python",
   "pygments_lexer": "ipython3",
   "version": "3.12.4"
  }
 },
 "nbformat": 4,
 "nbformat_minor": 5
}
