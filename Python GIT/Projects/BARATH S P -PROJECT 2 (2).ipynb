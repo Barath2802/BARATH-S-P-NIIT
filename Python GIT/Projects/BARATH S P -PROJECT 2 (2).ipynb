{
 "cells": [
  {
   "cell_type": "code",
   "execution_count": 1,
   "id": "a55a007b-1781-443b-8463-882e9c7513c2",
   "metadata": {},
   "outputs": [
    {
     "name": "stdout",
     "output_type": "stream",
     "text": [
      "Clue: The secret word has 8 letters.\n",
      "Welcome to the Word Guessing Game!\n",
      "Try to guess the secret word. You have 5 attempts.\n"
     ]
    },
    {
     "name": "stdin",
     "output_type": "stream",
     "text": [
      "Enter your guess:  PYTHON\n"
     ]
    },
    {
     "name": "stdout",
     "output_type": "stream",
     "text": [
      "Incorrect guess. Try again.\n",
      "Attempts remaining: 4\n"
     ]
    },
    {
     "name": "stdin",
     "output_type": "stream",
     "text": [
      "Enter your guess:  edgfb\n"
     ]
    },
    {
     "name": "stdout",
     "output_type": "stream",
     "text": [
      "Incorrect guess. Try again.\n",
      "Attempts remaining: 3\n"
     ]
    },
    {
     "name": "stdin",
     "output_type": "stream",
     "text": [
      "Enter your guess:  dgfb\n"
     ]
    },
    {
     "name": "stdout",
     "output_type": "stream",
     "text": [
      "Incorrect guess. Try again.\n",
      "Attempts remaining: 2\n"
     ]
    },
    {
     "name": "stdin",
     "output_type": "stream",
     "text": [
      "Enter your guess:  df\n"
     ]
    },
    {
     "name": "stdout",
     "output_type": "stream",
     "text": [
      "Incorrect guess. Try again.\n",
      "Attempts remaining: 1\n"
     ]
    },
    {
     "name": "stdin",
     "output_type": "stream",
     "text": [
      "Enter your guess:  df\n"
     ]
    },
    {
     "name": "stdout",
     "output_type": "stream",
     "text": [
      "Incorrect guess. Try again.\n",
      "Attempts remaining: 0\n",
      "Sorry, you've used all your attempts. The secret word was 'engineer'.\n"
     ]
    }
   ],
   "source": [
    "import random\n",
    "word_list = [\"python\", \"development\", \"code\", \"program\", \"algorithm\", \"engineer\"]\n",
    "secret_word = random.choice(word_list)\n",
    "print(f\"Clue: The secret word has {len(secret_word)} letters.\")\n",
    "attempts = 0\n",
    "max_attempts = 5\n",
    "guessed = False\n",
    "print(\"Welcome to the Word Guessing Game!\")\n",
    "print(\"Try to guess the secret word. You have 5 attempts.\")\n",
    "while attempts < max_attempts and not guessed:\n",
    "    guess = input(\"Enter your guess: \").lower()\n",
    "    attempts += 1\n",
    "    if guess == secret_word:\n",
    "        guessed = True\n",
    "        print(f\"Congratulations! You've guessed the word '{secret_word}' in {attempts} attempts.\")\n",
    "    else:\n",
    "        print(\"Incorrect guess. Try again.\")\n",
    "        print(f\"Attempts remaining: {max_attempts - attempts}\")\n",
    "if not guessed:\n",
    "    print(f\"Sorry, you've used all your attempts. The secret word was '{secret_word}'.\")\n"
   ]
  },
  {
   "cell_type": "code",
   "execution_count": null,
   "id": "1472cf61-783c-4567-bade-fd967c33f111",
   "metadata": {},
   "outputs": [],
   "source": [
    "import random\n",
    "\n",
    "class Task_2:\n",
    "    def riddle(self):\n",
    "        self.riddles = {\n",
    "            \"What has to be broken before you can use it?\": \"egg\",\n",
    "            \"I’m tall when I’m young, and I’m short when I’m old. What am I?\": \"candle\",\n",
    "            \"What month of the year has 28 days?\": \"all of them\",\n",
    "            \"What is full of holes but still holds water?\": \"sponge\",\n",
    "            \"What question can you never answer yes to\": \"are you asleep yet?\"\n",
    "        }\n",
    "        count = 0\n",
    "        for question, answer in self.riddles.items():\n",
    "            print(\"\\nQuestion:\", question)\n",
    "            user_answer = input(\"Enter the answer: \").strip().lower()\n",
    "            if user_answer == answer:\n",
    "                print(\"Your answer is correct!\")\n",
    "                count += 1\n",
    "            else:\n",
    "                print(f\"Incorrect. The correct answer is: {answer}\")\n",
    "        print(f\"You answered {count}/{len(self.riddles)} riddles correctly.\")\n",
    "\n",
    "    def arithmetic_puzzle(self):\n",
    "        count = 0\n",
    "        total_questions = 5\n",
    "        for i in range(total_questions):\n",
    "            operator = random.choice([\"+\", \"-\", \"*\", \"/\"])\n",
    "            a = random.randint(1, 20)\n",
    "            b = random.randint(1, 20)\n",
    "            if operator == \"+\":\n",
    "                answer = a + b\n",
    "                print(f\"What is {a} + {b}?\")\n",
    "            elif operator == \"-\":\n",
    "                answer = a - b\n",
    "                print(f\"What is {a} - {b}?\")\n",
    "            elif operator == \"*\":\n",
    "                answer = a * b\n",
    "                print(f\"What is {a} * {b}?\")\n",
    "            elif operator == \"/\":\n",
    "                if b != 0:\n",
    "                    answer = round(a / b, 2)\n",
    "                    print(f\"What is {a} / {b}? (Answer up to 2 decimal points)\")\n",
    "                else:\n",
    "                    continue\n",
    "            user_answer = input(\"Enter your answer: \")\n",
    "            try:\n",
    "                if round(float(user_answer), 2) == answer:\n",
    "                    print(\"Correct!\")\n",
    "                    count += 1\n",
    "                else:\n",
    "                    print(f\"Incorrect. The correct answer is: {answer}\")\n",
    "            except ValueError:\n",
    "                print(\"Please enter a valid number.\")\n",
    "        print(f\"You got {count}/{total_questions} correct.\")\n",
    "\n",
    "    def General_knowledge_quiz_game(self):\n",
    "        self.quiz_data = {\n",
    "            \"Science\": {\n",
    "                \"Which gas do plants absorb during photosynthesis?\": \"carbon dioxide\",\n",
    "                \"What is the full name of WWW?\": \"world wide web\",\n",
    "                \"How many bones are there in the adult human body?\": \"206\"\n",
    "            },\n",
    "            \"Mathematics\": {\n",
    "                \"What is the only even prime number?\": \"2\",\n",
    "                \"What is the sum of the first 5 natural numbers?\": \"15\",\n",
    "                \"What is the name of the mathematical symbol π?\": \"pi\"\n",
    "            },\n",
    "            \"Geography\": {\n",
    "                \"What is the tallest mountain on Earth?\": \"mount everest\",\n",
    "                \"What is the capital of France?\": \"paris\",\n",
    "                \"What planet is known as the 'Red Planet'?\": \"mars\"\n",
    "            },\n",
    "            \"Others\": {\n",
    "                \"Which country won the most recent FIFA World Cup (2022)?\": \"argentina\",\n",
    "                \"Who invented the light bulb?\": \"thomas edison\",\n",
    "                \"In what year did India declare itself a democratic republic state with the adoption of the constitution?\": \"1950\"\n",
    "            }\n",
    "        }\n",
    "        category = input(\"Enter a category (Science, Mathematics, Geography, Others): \").capitalize().strip()\n",
    "        if category in self.quiz_data:\n",
    "            correct = 0\n",
    "            questions = self.quiz_data[category]\n",
    "            for question, answer in questions.items():\n",
    "                user_answer = input(f\"{question} \").strip().lower()\n",
    "                if user_answer == answer:\n",
    "                    print(\"Correct!\")\n",
    "                    correct += 1\n",
    "                else:\n",
    "                    print(f\"Incorrect! The correct answer is {answer}.\")\n",
    "            print(f\"You answered {correct}/{len(questions)} questions correctly.\")\n",
    "        else:\n",
    "            print(\"Invalid category.\")\n",
    "\n",
    "    def computer_choice(self):\n",
    "        option = [\"rock\", \"paper\", \"scissor\"]\n",
    "        print(\"Welcome to Rock-Paper-Scissors\")\n",
    "        while True:\n",
    "            computer_choice = random.choice(option)\n",
    "            print(\"Options: rock, paper, scissor\")\n",
    "            choice = input(\"Enter your choice: \").lower()\n",
    "            if choice == computer_choice:\n",
    "                print(f\"It's a tie! Both chose {choice}.\")\n",
    "            elif (choice == 'rock' and computer_choice == 'scissor') or \\\n",
    "                 (choice == 'paper' and computer_choice == 'rock') or \\\n",
    "                 (choice == 'scissor' and computer_choice == 'paper'):\n",
    "                print(f\"You win! {choice} beats {computer_choice}.\")\n",
    "            elif choice in option:\n",
    "                print(f\"You lose! {computer_choice} beats {choice}.\")\n",
    "            else:\n",
    "                print(\"Invalid choice, try again.\")\n",
    "                break\n",
    "\n",
    "    def word_guessing_game(self):\n",
    "        word_list = [\"python\", \"development\", \"code\", \"program\", \"algorithm\", \"engineer\"]\n",
    "        secret_word = random.choice(word_list)\n",
    "        attempts = 0\n",
    "        max_attempts = 5\n",
    "        guessed = False\n",
    "        print(\"Welcome to the Word Guessing Game!\")\n",
    "        print(f\"The secret word has {len(secret_word)} letters.\")\n",
    "        while attempts < max_attempts and not guessed:\n",
    "            guess = input(\"Enter your guess: \").lower()\n",
    "            attempts += 1\n",
    "            if guess == secret_word:\n",
    "                guessed = True\n",
    "                print(f\"Congratulations! You've guessed the word '{secret_word}' in {attempts} attempts.\")\n",
    "            else:\n",
    "                print(\"Incorrect guess. Try again.\")\n",
    "                print(f\"Attempts remaining: {max_attempts - attempts}\")\n",
    "        if not guessed:\n",
    "            print(f\"Sorry, you've used all your attempts. The word was '{secret_word}'.\")\n",
    "\n",
    "    def menu(self):\n",
    "        print(\"1. Play Riddle Puzzle\")\n",
    "        print(\"2. Play Arithmetic Puzzle\")\n",
    "        print(\"3. Play General Knowledge Quiz Game\")\n",
    "        print(\"4. Play Rock-paper-Scissors with Computer\")\n",
    "        print(\"5. Play Word-Guessing Game\")\n",
    "        option = input(\"Enter an option (1-5): \").strip()\n",
    "        if option == \"1\":\n",
    "            self.riddle()\n",
    "        elif option == \"2\":\n",
    "            self.arithmetic_puzzle()\n",
    "        elif option == \"3\":\n",
    "            self.General_knowledge_quiz_game()\n",
    "        elif option == \"4\":\n",
    "            self.computer_choice()\n",
    "        elif option == \"5\":\n",
    "            self.word_guessing_game()\n",
    "        else:\n",
    "            print(\"Invalid option.\")\n",
    "    def choice(self):\n",
    "        choice=input(\"Do you want to play the game(yes/no)\").lower()\n",
    "        if choice=='yes':\n",
    "            self.menu()\n",
    "        else:\n",
    "            print(\"Thank you for playing game\")\n",
    "t = Task_2()\n",
    "t.menu()\n",
    "t.choice()"
   ]
  },
  {
   "cell_type": "code",
   "execution_count": null,
   "id": "19668833-50ea-452c-8f4d-09ea44cec3dc",
   "metadata": {},
   "outputs": [],
   "source": []
  },
  {
   "cell_type": "code",
   "execution_count": null,
   "id": "808ccfcd-27e7-4288-bb72-67ed8509dbaf",
   "metadata": {},
   "outputs": [],
   "source": []
  },
  {
   "cell_type": "code",
   "execution_count": null,
   "id": "db31e6e7-ce59-4f1b-84f3-b284c9fdffbf",
   "metadata": {},
   "outputs": [],
   "source": []
  }
 ],
 "metadata": {
  "kernelspec": {
   "display_name": "Python 3 (ipykernel)",
   "language": "python",
   "name": "python3"
  },
  "language_info": {
   "codemirror_mode": {
    "name": "ipython",
    "version": 3
   },
   "file_extension": ".py",
   "mimetype": "text/x-python",
   "name": "python",
   "nbconvert_exporter": "python",
   "pygments_lexer": "ipython3",
   "version": "3.12.4"
  }
 },
 "nbformat": 4,
 "nbformat_minor": 5
}
