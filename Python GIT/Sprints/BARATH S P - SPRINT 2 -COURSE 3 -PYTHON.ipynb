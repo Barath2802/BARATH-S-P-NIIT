{
 "cells": [
  {
   "cell_type": "code",
   "execution_count": null,
   "id": "2fbbb494-d695-4bc4-9609-e4b7d07eb425",
   "metadata": {},
   "outputs": [],
   "source": [
    "# Task 1"
   ]
  },
  {
   "cell_type": "code",
   "execution_count": 1,
   "id": "10e02348-9bc7-44b0-b406-a622e9abaf77",
   "metadata": {},
   "outputs": [
    {
     "name": "stdin",
     "output_type": "stream",
     "text": [
      "Enter the variable: b\n"
     ]
    },
    {
     "name": "stdout",
     "output_type": "stream",
     "text": [
      "MySQL\n"
     ]
    }
   ],
   "source": [
    "variable=input(\"Enter the variable:\")\n",
    "if variable==\"A\" or variable==\"a\":\n",
    "    print(\"Python\")\n",
    "elif variable==\"B\" or variable==\"b\":\n",
    "    print(\"MySQL\")\n",
    "elif variable==\"C\" or variable==\"c\":\n",
    "    print(\"Excel\")\n",
    "else:\n",
    "    print(\"Holiday\")\n"
   ]
  },
  {
   "cell_type": "code",
   "execution_count": 3,
   "id": "efeca796-8121-4c43-a428-50d8b6a7e40f",
   "metadata": {},
   "outputs": [
    {
     "name": "stdin",
     "output_type": "stream",
     "text": [
      "Enter the value of A: 20\n",
      "Enter the value of B: 69\n"
     ]
    },
    {
     "name": "stdout",
     "output_type": "stream",
     "text": [
      "69 is Greater\n"
     ]
    }
   ],
   "source": [
    "# Task 2\n",
    "num1=int(input(\"Enter the value of A:\"))\n",
    "num2=int(input(\"Enter the value of B:\"))\n",
    "if num1>num2:\n",
    "    print(num1,\"is Greater\")\n",
    "else :\n",
    "    print(num2,\"is Greater\")"
   ]
  },
  {
   "cell_type": "code",
   "execution_count": 1,
   "id": "11aeae89-8a1f-49f3-abf2-e0a5c650f1df",
   "metadata": {},
   "outputs": [
    {
     "name": "stdin",
     "output_type": "stream",
     "text": [
      "enter a basic salary: 40000\n"
     ]
    },
    {
     "name": "stdout",
     "output_type": "stream",
     "text": [
      "gross_salary: 624000.0\n"
     ]
    }
   ],
   "source": [
    "# Task 3:\n",
    "basic_salary=int(input(\"enter a basic salary:\"))\n",
    "if basic_salary<4000:\n",
    "    HRA=0.1 * basic_salary\n",
    "    TA=0.05 * basic_salary\n",
    "    print(\"gross_salary:\",(basic_salary+HRA+TA)*12)\n",
    " \n",
    "elif basic_salary>4001 and basic_salary<10000:\n",
    "    HRA=0.1*basic_salary\n",
    "    TA=0.1*basic_salary\n",
    "    print(\"gross_salary:\",(basic_salary+HRA+TA)*12)\n",
    "   \n",
    "else:\n",
    "    HRA=0.15*basic_salary\n",
    "    TA=0.15*basic_salary\n",
    "    print(\"gross_salary:\",(basic_salary+HRA+TA)*12)\n"
   ]
  },
  {
   "cell_type": "code",
   "execution_count": 5,
   "id": "5def1f07-7d17-4579-966f-1fd6cbafc0b1",
   "metadata": {},
   "outputs": [
    {
     "name": "stdin",
     "output_type": "stream",
     "text": [
      "Enter the word: Python\n"
     ]
    },
    {
     "name": "stdout",
     "output_type": "stream",
     "text": [
      "Yes\n"
     ]
    }
   ],
   "source": [
    "# Task 4\n",
    "var =\"Python is an interpreted, high-level, general-purpose programming language. Its design philosophy emphasizes code readability, with its use of significant indentation. Its language constructs as well as its object-oriented approach aim to help programmers write clear, logical code for small and large-scale projects.\"\n",
    "word_1=input(\"Enter the word:\")\n",
    "if word_1 in var:\n",
    "    print(\"Yes\")\n",
    "else:\n",
    "    print(\"No\")\n",
    "    "
   ]
  },
  {
   "cell_type": "code",
   "execution_count": 12,
   "id": "a8c4990c-8c5e-42f2-bc66-72ee406a7332",
   "metadata": {},
   "outputs": [
    {
     "name": "stdin",
     "output_type": "stream",
     "text": [
      "Enter a Single Letter Word: A\n"
     ]
    },
    {
     "name": "stdout",
     "output_type": "stream",
     "text": [
      "A is UPPERCASE\n"
     ]
    }
   ],
   "source": [
    "# Task 5\n",
    "Alphabet=input(\"Enter a Single Letter Word:\")\n",
    "if Alphabet==Alphabet.upper():\n",
    "    print(Alphabet ,\"is UPPERCASE\")\n",
    "else:\n",
    "    print(Alphabet,\"is lowercase\")\n"
   ]
  },
  {
   "cell_type": "code",
   "execution_count": 3,
   "id": "968b23d2-a317-47e6-a45e-d23d1e57e7ca",
   "metadata": {},
   "outputs": [
    {
     "name": "stdin",
     "output_type": "stream",
     "text": [
      "enter a character a\n"
     ]
    },
    {
     "name": "stdout",
     "output_type": "stream",
     "text": [
      "a it is a vowel\n"
     ]
    }
   ],
   "source": [
    "#Task 6:\n",
    "user=input(\"enter a character\")\n",
    "x=['a','e','i','o','u','A','E','I','O','U']\n",
    "if user in x:\n",
    "    print(user,\"it is a vowel\")\n",
    "else:\n",
    "    print(user,\"it is a consonant\")"
   ]
  },
  {
   "cell_type": "code",
   "execution_count": null,
   "id": "b8ae07f0-b0f2-4a90-b72d-3505a1de613d",
   "metadata": {},
   "outputs": [],
   "source": []
  },
  {
   "cell_type": "code",
   "execution_count": null,
   "id": "2ef8c2dd-2bcf-4068-8c71-4cf724153555",
   "metadata": {},
   "outputs": [],
   "source": []
  }
 ],
 "metadata": {
  "kernelspec": {
   "display_name": "Python 3 (ipykernel)",
   "language": "python",
   "name": "python3"
  },
  "language_info": {
   "codemirror_mode": {
    "name": "ipython",
    "version": 3
   },
   "file_extension": ".py",
   "mimetype": "text/x-python",
   "name": "python",
   "nbconvert_exporter": "python",
   "pygments_lexer": "ipython3",
   "version": "3.12.4"
  }
 },
 "nbformat": 4,
 "nbformat_minor": 5
}
