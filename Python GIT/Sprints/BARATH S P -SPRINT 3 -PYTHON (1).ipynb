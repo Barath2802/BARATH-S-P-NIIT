{
 "cells": [
  {
   "cell_type": "code",
   "execution_count": 1,
   "id": "948fcd02-855b-4ea4-8c09-682ef5b83d91",
   "metadata": {},
   "outputs": [
    {
     "name": "stdout",
     "output_type": "stream",
     "text": [
      "False\n"
     ]
    }
   ],
   "source": [
    "# Task 1:-\n",
    "mynames=[\"Joe\",\"Zoe\",\"world\",\"Brad\",\"Angelina\",\"world\",\"Zuki\",\"Tom\",\"paris\",\"world\",\"magic\"]\n",
    "if \"USA\" in  mynames:\n",
    "    print(\"True\")\n",
    "else:\n",
    "    print(\"False\")"
   ]
  },
  {
   "cell_type": "code",
   "execution_count": 11,
   "id": "2f30e0f6-06c3-4071-9e74-03cd1aa40016",
   "metadata": {},
   "outputs": [
    {
     "name": "stdout",
     "output_type": "stream",
     "text": [
      "Count for world is: 3\n"
     ]
    }
   ],
   "source": [
    "# Task 2\n",
    "mynames=[\"Joe\",\"Zoe\",\"world\",\"Brad\",\"Angelina\",\"world\",\"Zuki\",\"Tom\",\"Paris\",\"world\",\"magic\"]\n",
    "count=0\n",
    "for i in mynames:\n",
    "    if  i==\"world\":\n",
    "        count+=1\n",
    "print(\"Count for world is:\",count)\n",
    " "
   ]
  },
  {
   "cell_type": "code",
   "execution_count": 13,
   "id": "4145ae4f-294d-4f6c-a2b6-2e46cc464d43",
   "metadata": {},
   "outputs": [
    {
     "name": "stdout",
     "output_type": "stream",
     "text": [
      "Total Number of Even Number is:14 and Total Number of Odd Number is:15\n"
     ]
    }
   ],
   "source": [
    "# Task 3\n",
    "numlist=list(range(1,30))\n",
    "count_even=0\n",
    "count_odd=0\n",
    "for i in numlist:\n",
    "    if i%2==0:\n",
    "        count_even+=1\n",
    "    else:\n",
    "        count_odd+=1 \n",
    "print(f\"Total Number of Even Number is:{count_even} and Total Number of Odd Number is:{count_odd}\")\n",
    "    \n",
    "    "
   ]
  },
  {
   "cell_type": "code",
   "execution_count": 9,
   "id": "e438840d-b1cb-4317-bd72-6fdef3cd12c4",
   "metadata": {},
   "outputs": [
    {
     "name": "stdout",
     "output_type": "stream",
     "text": [
      "[2, 4, 6, 8, 10]\n"
     ]
    }
   ],
   "source": [
    "# Task 4\n",
    "numlist=list(range(1,30))\n",
    "el=[]\n",
    "count=0\n",
    "for i in numlist:\n",
    "    if i%2==0:\n",
    "        count+=1\n",
    "        el.append(i)\n",
    "        if count==5: \n",
    "            break\n",
    "print(el)\n",
    "\n",
    "\n",
    "    "
   ]
  },
  {
   "cell_type": "code",
   "execution_count": 5,
   "id": "4a5a39b8-44cd-4ef6-ba9e-1a76c00c8009",
   "metadata": {},
   "outputs": [
    {
     "name": "stdout",
     "output_type": "stream",
     "text": [
      "29\n",
      "27\n"
     ]
    }
   ],
   "source": [
    "# Task 5 \n",
    "numlist=list(range(1,30))  \n",
    "count=0\n",
    "for i in range(29,1,-1):    \n",
    "    if i%2!=0:\n",
    "        print(i)\n",
    "        count+=1\n",
    "    if count==2:\n",
    "        break\n"
   ]
  },
  {
   "cell_type": "code",
   "execution_count": 7,
   "id": "f516a8ba-833c-49c0-96f2-dc04674d1624",
   "metadata": {},
   "outputs": [
    {
     "name": "stdin",
     "output_type": "stream",
     "text": [
      "Enter the STRING VALUE: A\n",
      "Enter the STRING VALUE: B\n",
      "Enter the STRING VALUE: C\n",
      "Enter the STRING VALUE: D\n",
      "Enter the STRING VALUE: E\n",
      "Enter the INTEGER VALUE: 1\n",
      "Enter the INTEGER VALUE: 2\n",
      "Enter the INTEGER VALUE: 3\n"
     ]
    },
    {
     "name": "stdout",
     "output_type": "stream",
     "text": [
      "['A', 'B', 'C', 'D', 'E', 1, 2, 3]\n"
     ]
    }
   ],
   "source": [
    "# Task 6\n",
    "x=[]\n",
    "y=[]\n",
    "for i in range(1,6):\n",
    "    x1=str(input(\"Enter the STRING VALUE:\"))\n",
    "    x.append(x1)\n",
    "for j in range(1,4):\n",
    "    y1=int(input(\"Enter the INTEGER VALUE:\"))\n",
    "    y.append(y1)\n",
    "x.extend(y)\n",
    "print(x)\n",
    "\n",
    "\n",
    "        "
   ]
  },
  {
   "cell_type": "code",
   "execution_count": null,
   "id": "84362a21-8280-4e2e-891b-229bc92caff3",
   "metadata": {},
   "outputs": [],
   "source": [
    "# Task 7\n",
    "list_a=[]\n",
    "list_b=[]\n",
    "list_a=list(range(1,10))\n",
    "list_b=list(range(30,40))\n",
    "for i in list_a:\n",
    "    sqrt=i*i\n",
    "    list_a.append(sqrt)\n",
    "for j in list_b:\n",
    "    sqrt=j*j\n",
    "    list_b.append(sqrt)\n",
    "print(a)\n",
    "print(b)"
   ]
  },
  {
   "cell_type": "code",
   "execution_count": null,
   "id": "3b136235-1400-4bc1-ba9d-88b37ba01e3b",
   "metadata": {},
   "outputs": [],
   "source": [
    "# Task 8:-\n",
    "user=int(input(\"enter a number\"))\n",
    "for i in range(1,11):\n",
    "    print(user,'*',i,'=',user*i)"
   ]
  },
  {
   "cell_type": "code",
   "execution_count": null,
   "id": "7002705f-7551-4097-9eb9-bdb76f97d618",
   "metadata": {},
   "outputs": [],
   "source": [
    "          "
   ]
  },
  {
   "cell_type": "code",
   "execution_count": null,
   "id": "fea78549-89e1-406a-a62a-ae01db9cfd21",
   "metadata": {},
   "outputs": [],
   "source": []
  },
  {
   "cell_type": "code",
   "execution_count": null,
   "id": "a8615fbc-f38f-4bd1-acf6-dca4dad9b99f",
   "metadata": {},
   "outputs": [],
   "source": []
  }
 ],
 "metadata": {
  "kernelspec": {
   "display_name": "Python 3 (ipykernel)",
   "language": "python",
   "name": "python3"
  },
  "language_info": {
   "codemirror_mode": {
    "name": "ipython",
    "version": 3
   },
   "file_extension": ".py",
   "mimetype": "text/x-python",
   "name": "python",
   "nbconvert_exporter": "python",
   "pygments_lexer": "ipython3",
   "version": "3.12.4"
  }
 },
 "nbformat": 4,
 "nbformat_minor": 5
}
