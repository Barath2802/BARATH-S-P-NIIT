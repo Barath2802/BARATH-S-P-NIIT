{
 "cells": [
  {
   "cell_type": "code",
   "execution_count": 1,
   "id": "0d088f03-d3e0-4766-9854-f99eef037d99",
   "metadata": {},
   "outputs": [
    {
     "name": "stdin",
     "output_type": "stream",
     "text": [
      "Enter the Enrollment id:  1\n",
      "Enter the student name:  Barath S P\n",
      "Enter the course name:  Data Science\n",
      "Enter the age:  22\n",
      "Enter the marks:  75\n"
     ]
    },
    {
     "name": "stdout",
     "output_type": "stream",
     "text": [
      "Age is positive and valid\n",
      "Grade: B\n",
      "Student Report:\n",
      "Enrollment ID: 1\n",
      "Student Name: Barath S P\n",
      "Course Name: Data Science\n",
      "Age: 22\n",
      "Marks: 75.0\n",
      "Grade: B\n"
     ]
    }
   ],
   "source": [
    "# TASK 1-5\n",
    "class Student:\n",
    "    def __init__(self):\n",
    "        self.enrollment_id = int(input(\"Enter the Enrollment id: \"))\n",
    "        self.student_name = input(\"Enter the student name: \")\n",
    "        self.course_name = input(\"Enter the course name: \")\n",
    "        self.age = int(input(\"Enter the age: \"))\n",
    "        self.marks = float(input(\"Enter the marks: \"))\n",
    "        self.grade = \"None\"  # Grade will be calculated later\n",
    "\n",
    "    def display_report(self):\n",
    "        print(\"Student Report:\")\n",
    "        print(f\"Enrollment ID: {self.enrollment_id}\")\n",
    "        print(f\"Student Name: {self.student_name}\")\n",
    "        print(f\"Course Name: {self.course_name}\")\n",
    "        print(f\"Age: {self.age}\")\n",
    "        print(f\"Marks: {self.marks}\")\n",
    "        print(f\"Grade: {self.grade}\")\n",
    "\n",
    "    def age_validation(self):\n",
    "        if 3 < self.age < 60:\n",
    "            print(\"Age is positive and valid\")\n",
    "        else:\n",
    "            print(\"Invalid age. Age should be a positive integer between 3 and 60.\")\n",
    "\n",
    "    def validate_and_convert_marks(self):\n",
    "        if 0 <= self.marks <= 44:\n",
    "            result = (self.marks / 100) * 44\n",
    "            print(f\"Converted Marks: {result}\")\n",
    "            return result\n",
    "        else:\n",
    "            return \"Invalid Result\" \n",
    "\n",
    "    def calculate_grade(self):\n",
    "        percentage = (self.marks / 100) * 100\n",
    "        if percentage < 0:\n",
    "            print(\"Invalid percentage.\")\n",
    "        elif percentage > 100:\n",
    "            print(\"Impossible percentage.\")\n",
    "        elif percentage >= 80:\n",
    "            self.grade = \"A\"\n",
    "        elif percentage >= 60:\n",
    "            self.grade = \"B\"\n",
    "        elif percentage >= 40:\n",
    "            self.grade = \"C\"\n",
    "        elif percentage >= 20:\n",
    "            self.grade = \"D\"\n",
    "        else:\n",
    "            self.grade = \"F\"\n",
    "        print(f\"Grade: {self.grade}\")\n",
    "s1 = Student()\n",
    "s1.age_validation()\n",
    "s1.validate_and_convert_marks()\n",
    "s1.calculate_grade()\n",
    "s1.display_report()\n"
   ]
  },
  {
   "cell_type": "code",
   "execution_count": 1,
   "id": "103655ca-38a0-4d8c-9a10-e93f000a1438",
   "metadata": {},
   "outputs": [
    {
     "name": "stdin",
     "output_type": "stream",
     "text": [
      "Enter the Enrollment ID:  1\n",
      "Enter the Guardian Name:  Barath S P \n"
     ]
    },
    {
     "name": "stdout",
     "output_type": "stream",
     "text": [
      "Guardian added: Barath S P \n"
     ]
    },
    {
     "name": "stdin",
     "output_type": "stream",
     "text": [
      "Enter the mobile number (7 digits):  1234567\n"
     ]
    },
    {
     "name": "stdout",
     "output_type": "stream",
     "text": [
      "Mobile number 1234567 is valid.\n"
     ]
    },
    {
     "name": "stdin",
     "output_type": "stream",
     "text": [
      "Do you want to add another guardian? (yes/no):  Yes\n",
      "Enter the Guardian Name:  Bala\n"
     ]
    },
    {
     "name": "stdout",
     "output_type": "stream",
     "text": [
      "Guardian added: Bala\n"
     ]
    },
    {
     "name": "stdin",
     "output_type": "stream",
     "text": [
      "Enter the mobile number (7 digits):  7654321\n"
     ]
    },
    {
     "name": "stdout",
     "output_type": "stream",
     "text": [
      "Mobile number 7654321 is valid.\n"
     ]
    },
    {
     "name": "stdin",
     "output_type": "stream",
     "text": [
      "Do you want to add another guardian? (yes/no):  Yes\n",
      "Enter the Guardian Name:  Arun\n"
     ]
    },
    {
     "name": "stdout",
     "output_type": "stream",
     "text": [
      "Guardian added: Arun\n"
     ]
    },
    {
     "name": "stdin",
     "output_type": "stream",
     "text": [
      "Enter the mobile number (7 digits):  6383712\n"
     ]
    },
    {
     "name": "stdout",
     "output_type": "stream",
     "text": [
      "Mobile number 6383712 is valid.\n"
     ]
    },
    {
     "name": "stdin",
     "output_type": "stream",
     "text": [
      "Do you want to add another guardian? (yes/no):  no\n"
     ]
    },
    {
     "name": "stdout",
     "output_type": "stream",
     "text": [
      "\n",
      "Guardian Details:\n",
      "Enrollment ID: 1\n",
      "Guardians:\n",
      "- Barath S P \n",
      "- Bala\n",
      "- Arun\n"
     ]
    }
   ],
   "source": [
    "# TASK 6.(A),(B),(C)\n",
    "class Guardian:\n",
    "    def __init__(self):\n",
    "        self.enrollmentID = self.get_enrollment_id()  \n",
    "        self.guardians = []\n",
    "\n",
    "    def get_enrollment_id(self):\n",
    "        while True:\n",
    "            enrollment_id = input(\"Enter the Enrollment ID: \")\n",
    "            if enrollment_id.isdigit() and int(enrollment_id) > 0:  \n",
    "                return int(enrollment_id) \n",
    "            else:\n",
    "                print(\"Invalid input! Please enter a valid positive integer for the Enrollment ID.\")\n",
    "\n",
    "    @staticmethod\n",
    "    def mobile():\n",
    "        while True:\n",
    "            mobile_number = input(\"Enter the mobile number (7 digits): \")\n",
    "            if mobile_number.isdigit() and len(mobile_number) == 7:\n",
    "                print(f\"Mobile number {mobile_number} is valid.\")\n",
    "                break  \n",
    "            else:\n",
    "                print(\"Invalid mobile number! It must be a 7-digit number composed only of digits.\")\n",
    "\n",
    "    def add_guardian(self):\n",
    "        adding_guardian = 'yes'\n",
    "        while adding_guardian == 'yes':\n",
    "            guardian_name = input(\"Enter the Guardian Name: \")\n",
    "            self.guardians.append(guardian_name)\n",
    "            print(f\"Guardian added: {guardian_name}\")\n",
    "            self.mobile()\n",
    "            adding_guardian = input(\"Do you want to add another guardian? (yes/no): \").strip().lower()\n",
    "\n",
    "        self.display_guardian_info()\n",
    "\n",
    "    def display_guardian_info(self):\n",
    "        print(\"\\nGuardian Details:\")\n",
    "        print(f\"Enrollment ID: {self.enrollmentID}\")\n",
    "        print(\"Guardians:\")\n",
    "        for guardian in self.guardians:\n",
    "            print(f\"- {guardian}\")\n",
    "guardian = Guardian()\n",
    "guardian.add_guardian()\n"
   ]
  },
  {
   "cell_type": "code",
   "execution_count": null,
   "id": "fc65a997-1557-45a3-9808-2e6cd9db9a91",
   "metadata": {},
   "outputs": [],
   "source": []
  },
  {
   "cell_type": "code",
   "execution_count": null,
   "id": "af694664-eb3e-43a0-bca8-0cad55fd2998",
   "metadata": {},
   "outputs": [],
   "source": []
  },
  {
   "cell_type": "code",
   "execution_count": null,
   "id": "28dd26dc-6016-439c-9db2-d596f08a1b97",
   "metadata": {},
   "outputs": [],
   "source": []
  },
  {
   "cell_type": "code",
   "execution_count": null,
   "id": "030b4bee-d101-4f89-9cdf-3c16600771b7",
   "metadata": {},
   "outputs": [],
   "source": []
  }
 ],
 "metadata": {
  "kernelspec": {
   "display_name": "Python 3 (ipykernel)",
   "language": "python",
   "name": "python3"
  },
  "language_info": {
   "codemirror_mode": {
    "name": "ipython",
    "version": 3
   },
   "file_extension": ".py",
   "mimetype": "text/x-python",
   "name": "python",
   "nbconvert_exporter": "python",
   "pygments_lexer": "ipython3",
   "version": "3.12.4"
  }
 },
 "nbformat": 4,
 "nbformat_minor": 5
}
