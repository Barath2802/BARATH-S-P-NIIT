{
 "cells": [
  {
   "cell_type": "code",
   "execution_count": 1,
   "id": "3f12c8cd-86af-471b-9dce-0009f3da5363",
   "metadata": {},
   "outputs": [],
   "source": [
    "# Task 1\n",
    "from abc import ABC, abstractmethod\n",
    "class Product(ABC):\n",
    "    @abstractmethod\n",
    "    def calculate_total_price(self):\n",
    "        pass"
   ]
  },
  {
   "cell_type": "code",
   "execution_count": 3,
   "id": "3d181652-70bd-4da1-aacf-2aac55f85848",
   "metadata": {},
   "outputs": [],
   "source": [
    "# Task 2:\n",
    "from abc import ABC ,abstractmethod\n",
    "class DigitalProduct(Product):\n",
    "    def __init__(self,name,price,weight,delivery_charge,shipping_charge):\n",
    "        self.name=name\n",
    "        self.price=price\n",
    "        self.weight=weight\n",
    "        self.delivery_charge=delivery_charge\n",
    "        self.shipping_charge\n",
    "        e=shipping_charge\n",
    "    def calculate_total_price(self):\n",
    "        self.total_price=self.price+self.delivery_charge+self.shipping_charge\n",
    "        print(self.total_price)"
   ]
  },
  {
   "cell_type": "code",
   "execution_count": 5,
   "id": "a5d9a2c1-ef0a-4abd-8f9d-dfe7321cc2ef",
   "metadata": {},
   "outputs": [],
   "source": [
    "# Task 3\n",
    "from abc import ABC,abstractmethod\n",
    "class PhysicalProduct(Product):\n",
    "    def __init__(self,product_name,price,weight,delivery_charge,shipping_charge):\n",
    "        self.product_name=product_name\n",
    "        self.price=price\n",
    "        self.weight=weight\n",
    "        self.delivery_charge=delivery_charge\n",
    "        self.shipping_charge=shipping_charge\n",
    "    def calculate_total_price(self):\n",
    "        total_price=self.price+self.delivery_charge+self.shipping_charge\n",
    "        print(total_price)\n",
    "    "
   ]
  },
  {
   "cell_type": "code",
   "execution_count": 3,
   "id": "1b341d07-51aa-4204-bb8e-527096c1b4d1",
   "metadata": {},
   "outputs": [],
   "source": [
    "# Task 4\n",
    "from abc import ABC\n",
    "class Order(ABC):\n",
    "    def __init__(self, customer_name): \n",
    "        self.__customer_name = customer_name\n",
    "        self.__items = []  \n",
    "        self.__total_price = 0\n",
    "    def add_items(self, item):\n",
    "        self.__items.append(item)  \n",
    "        self.__total_price += item.calculate_total_price()  \n",
    "    def get_customer_name(self):\n",
    "        return self.__customer_name\n",
    "    def get_items(self):\n",
    "        return self.__items\n",
    "    def get_total_price(self):\n",
    "        return self.__total_price\n",
    "\n",
    "        \n"
   ]
  },
  {
   "cell_type": "code",
   "execution_count": 7,
   "id": "69825bfd-c0f0-447b-93c2-256925c4bc6e",
   "metadata": {},
   "outputs": [
    {
     "name": "stdout",
     "output_type": "stream",
     "text": [
      "Customer: Alice\n",
      "Items:\n",
      "- Python Programming (Physical Product): $49.99\n",
      "- TechX Pro (Physical Product): $999.99\n",
      "Total Price: $1049.98\n",
      "Customer: Bob\n",
      "Items:\n",
      "- SmartPhone 12 (Physical Product): $799.99\n",
      "- Advanced Python eBook (Digital Product): $19.99\n",
      "- ProEditor Software (Digital Product): $149.99\n",
      "Total Price: $969.97\n"
     ]
    }
   ],
   "source": [
    "# task 5\n",
    "class Product:\n",
    "    def __init__(self, name, price):\n",
    "        self.name = name\n",
    "        self.price = price\n",
    "class PhysicalProduct(Product):\n",
    "    def __init__(self, name, price):\n",
    "        super().__init__(name, price)\n",
    "class DigitalProduct(Product):\n",
    "    def __init__(self, name, price):\n",
    "        super().__init__(name, price)\n",
    "class Order:\n",
    "    def __init__(self, customer_name):\n",
    "        self.customer_name = customer_name\n",
    "        self.items = []\n",
    "        self.total_price = 0\n",
    "    def add_item(self, product):\n",
    "        self.items.append(product)\n",
    "        self.total_price += product.price\n",
    "    def display_order(self):\n",
    "        print(f\"Customer: {self.customer_name}\")\n",
    "        print(\"Items:\")\n",
    "        for item in self.items:\n",
    "            if isinstance(item, PhysicalProduct):\n",
    "                print(f\"- {item.name} (Physical Product): ${item.price}\")\n",
    "            elif isinstance(item, DigitalProduct):\n",
    "                print(f\"- {item.name} (Digital Product): ${item.price}\")\n",
    "            else:\n",
    "                print(f\"- {item.name}: ${item.price}\")\n",
    "        print(f\"Total Price: ${self.total_price:.2f}\")\n",
    "def main():\n",
    "    book = PhysicalProduct(\"Python Programming\", 49.99) \n",
    "    laptop = PhysicalProduct(\"TechX Pro\", 999.99)  \n",
    "    phone = PhysicalProduct(\"SmartPhone 12\", 799.99)  \n",
    "    ebook = DigitalProduct(\"Advanced Python eBook\", 19.99)  \n",
    "    software = DigitalProduct(\"ProEditor Software\", 149.99)  \n",
    "    order1 = Order(\"Alice\")\n",
    "    order2 = Order(\"Bob\")\n",
    "    order1.add_item(book)\n",
    "    order1.add_item(laptop)\n",
    "    order2.add_item(phone)\n",
    "    order2.add_item(ebook)\n",
    "    order2.add_item(software)\n",
    "    order1.display_order()\n",
    "    order2.display_order()\n",
    "if __name__ == \"__main__\":\n",
    "    main()\n"
   ]
  },
  {
   "cell_type": "code",
   "execution_count": null,
   "id": "b562a5ef-41e5-46db-8f2a-1a5610d5e65d",
   "metadata": {},
   "outputs": [],
   "source": []
  },
  {
   "cell_type": "code",
   "execution_count": null,
   "id": "fe28f144-dc24-44dc-9e40-ced8b9372505",
   "metadata": {},
   "outputs": [],
   "source": []
  }
 ],
 "metadata": {
  "kernelspec": {
   "display_name": "Python 3 (ipykernel)",
   "language": "python",
   "name": "python3"
  },
  "language_info": {
   "codemirror_mode": {
    "name": "ipython",
    "version": 3
   },
   "file_extension": ".py",
   "mimetype": "text/x-python",
   "name": "python",
   "nbconvert_exporter": "python",
   "pygments_lexer": "ipython3",
   "version": "3.12.4"
  }
 },
 "nbformat": 4,
 "nbformat_minor": 5
}
