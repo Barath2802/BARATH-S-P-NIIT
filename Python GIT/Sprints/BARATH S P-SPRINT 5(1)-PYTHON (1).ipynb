{
 "cells": [
  {
   "cell_type": "code",
   "execution_count": null,
   "id": "1fbdffdc-fd38-448a-8d0b-247e2fc69007",
   "metadata": {},
   "outputs": [],
   "source": [
    "# TASK 1"
   ]
  },
  {
   "cell_type": "code",
   "execution_count": null,
   "id": "423cb591-37df-44ec-8b1d-64a7aa73aa34",
   "metadata": {},
   "outputs": [],
   "source": [
    "# TASK 1\n",
    "def is_palindrome():\n",
    "    word = input(\"Enter the Word: \")\n",
    "    word1 = word[::-1]\n",
    "    if word1 == word:\n",
    "        print(\"It is a palindrome\")\n",
    "    else:\n",
    "        print(\"It is not a palindrome\")\n",
    "\n",
    "is_palindrome()"
   ]
  },
  {
   "cell_type": "code",
   "execution_count": null,
   "id": "3aac7163-9bda-48c0-b64f-eb0ecb5209ba",
   "metadata": {},
   "outputs": [],
   "source": [
    "# TASK 2"
   ]
  },
  {
   "cell_type": "code",
   "execution_count": 5,
   "id": "c4594299-fd44-4e75-969d-cfd33bbf3b6a",
   "metadata": {},
   "outputs": [
    {
     "name": "stdin",
     "output_type": "stream",
     "text": [
      "enter the limit: 3\n",
      "enter the name: ABILASH\n",
      "enter the name: ARUN\n",
      "enter the name: BARATH\n"
     ]
    },
    {
     "name": "stdout",
     "output_type": "stream",
     "text": [
      "['ABILASH', 'ARUN', 'BARATH']\n"
     ]
    }
   ],
   "source": [
    "# TASK 2\n",
    "def sort_of_words():\n",
    "    list_1.sort()\n",
    "    print(list_1)\n",
    "list_1=[]\n",
    "n=int(input(\"enter the limit:\"))\n",
    "for i in range(1,n+1):\n",
    "    elements=input(\"enter the name:\")\n",
    "    list_1.append(elements)\n",
    "\n",
    "sort_of_words()"
   ]
  },
  {
   "cell_type": "code",
   "execution_count": null,
   "id": "017dd585-35fa-4ee5-83c0-3d02982efaf9",
   "metadata": {},
   "outputs": [],
   "source": [
    "# TASK 3"
   ]
  },
  {
   "cell_type": "code",
   "execution_count": 26,
   "id": "4da3788a-fae6-43ab-a389-354ed956016a",
   "metadata": {},
   "outputs": [
    {
     "name": "stdin",
     "output_type": "stream",
     "text": [
      "Enter the Characters: A\n",
      "Enter the Characters: B\n",
      "Enter the Characters: C\n",
      "Enter the Characters: D\n",
      "Enter the Characters: E\n"
     ]
    },
    {
     "name": "stdout",
     "output_type": "stream",
     "text": [
      "['A', 'B', 'C', 'D', 'E']\n",
      "ABCDE\n"
     ]
    }
   ],
   "source": [
    "# TASK 3\n",
    "mylist=[]\n",
    "def charactersintostring(mylist):\n",
    "    mylist=\"\".join(mylist)\n",
    "    print(mylist)\n",
    "for i in range(1,6):\n",
    "    characters=input(\"Enter the Characters:\")\n",
    "    mylist.append(characters)\n",
    "print(mylist)\n",
    "charactersintostring(mylist)"
   ]
  },
  {
   "cell_type": "code",
   "execution_count": 28,
   "id": "fbe8b695-44d0-4f7c-8f0e-e56567d03934",
   "metadata": {},
   "outputs": [
    {
     "name": "stdin",
     "output_type": "stream",
     "text": [
      "Enter the Number: 20\n",
      "Enter the Number: 40\n",
      "Enter the Number: 60\n",
      "Enter the Number: 80\n",
      "Enter the Number: 100\n",
      "Enter the Number: -20\n",
      "Enter the Number: -40\n",
      "Enter the Number: -60\n",
      "Enter the Number: -80\n",
      "Enter the Number: -100\n"
     ]
    },
    {
     "name": "stdout",
     "output_type": "stream",
     "text": [
      "Maximum is 100\n",
      "Minimum is -100\n"
     ]
    }
   ],
   "source": [
    "# TASK 4\n",
    "mylist=[]\n",
    "def small_and_large():\n",
    "    m1=max(mylist)\n",
    "    m2=min(mylist)\n",
    "    print(\"Maximum is\",m1)\n",
    "    print(\"Minimum is\",m2)\n",
    "for i in range(1,11):\n",
    "    Data=int(input(\"Enter the Number:\"))\n",
    "    mylist.append(Data)\n",
    "small_and_large()"
   ]
  },
  {
   "cell_type": "code",
   "execution_count": 30,
   "id": "c6f206da-d31e-4d6b-839c-54aea7f98722",
   "metadata": {},
   "outputs": [
    {
     "name": "stdin",
     "output_type": "stream",
     "text": [
      "Enter the Keys value: Items 1\n",
      "Enter the value : 45.50\n",
      "Enter the Keys value: Items 2\n",
      "Enter the value : 35\n",
      "Enter the Keys value: Items 3\n",
      "Enter the value : 41.30\n",
      "Enter the Keys value: Items 4\n",
      "Enter the value : 29\n",
      "Enter the Keys value: Items 5\n",
      "Enter the value : 49.89\n"
     ]
    },
    {
     "name": "stdout",
     "output_type": "stream",
     "text": [
      "The Maximum is: 49.89\n",
      "The Minimum is: 29.0\n"
     ]
    }
   ],
   "source": [
    "# TASK 5\n",
    "def maximum_and_minimum(dict):\n",
    "    dict_1=dict.values()\n",
    "    dict_2=dict.items()\n",
    "    m1=max(dict_1)\n",
    "    m2=min(dict_1)\n",
    "    print(\"The Maximum is:\",m1)\n",
    "    print(\"The Minimum is:\",m2)\n",
    "dict={}\n",
    "for i in range(1,6):\n",
    "    keys=input(\"Enter the Keys value:\")\n",
    "    value=float(input(\"Enter the value :\"))\n",
    "    dict[keys]=value\n",
    "maximum_and_minimum(dict)"
   ]
  },
  {
   "cell_type": "code",
   "execution_count": 32,
   "id": "19d08a5c-8bf5-4acd-ae3b-418fe0d7b610",
   "metadata": {},
   "outputs": [
    {
     "name": "stdin",
     "output_type": "stream",
     "text": [
      "Enter the name: Barath S P\n",
      "Enter the age: 22\n",
      "Enter the Gender: Male\n",
      "Enter the occupation: IT\n"
     ]
    },
    {
     "name": "stdout",
     "output_type": "stream",
     "text": [
      "Barath S P\n",
      "22\n",
      "Male\n",
      "IT\n"
     ]
    }
   ],
   "source": [
    "# TASK 6\n",
    "def f1():\n",
    "    name=input(\"Enter the name:\")\n",
    "    age=int(input(\"Enter the age:\"))\n",
    "    Gender=input(\"Enter the Gender:\")\n",
    "    occupation=input(\"Enter the occupation:\")\n",
    "    f2(name,age,Gender,occupation)\n",
    "def f2(name,age,Gender,occupation):\n",
    "    print(name)\n",
    "    print(age)\n",
    "    print(Gender)\n",
    "    print(occupation)\n",
    "f1()"
   ]
  },
  {
   "cell_type": "code",
   "execution_count": 34,
   "id": "a8632487-5cce-46df-b6ac-1ab0541de82f",
   "metadata": {},
   "outputs": [
    {
     "name": "stdout",
     "output_type": "stream",
     "text": [
      "[('Green', 1), ('Blue', 2), ('Yellow', 3), ('Black', 4), ('Red', 5)]\n"
     ]
    }
   ],
   "source": [
    "# Task 7\n",
    "def colour_sort():\n",
    "    color=[(\"Black\",4),(\"Green\",1),(\"Red\",5),(\"Blue\",2),(\"Yellow\",3)]\n",
    "    sorted_color=sorted(color,key=lambda x:x[1],reverse=False)\n",
    "    print(sorted_color)\n",
    "colour_sort()\n"
   ]
  },
  {
   "cell_type": "code",
   "execution_count": 36,
   "id": "4aee464e-d851-4e1a-9049-637227e4e029",
   "metadata": {},
   "outputs": [
    {
     "name": "stdout",
     "output_type": "stream",
     "text": [
      "The common element is: ['Mandy']\n"
     ]
    }
   ],
   "source": [
    "# Task 8\n",
    "a=[\"Andy\",\"Mandy\",\"Sandy\"]\n",
    "b=[\"Handy\",\"Burgundy\",\"Mandy\"]\n",
    "c=list(filter(lambda x:x in a,b))\n",
    "print(\"The common element is:\",c)"
   ]
  },
  {
   "cell_type": "code",
   "execution_count": 1,
   "id": "ceeff015-f66e-4009-9b87-ae98ca4d6e84",
   "metadata": {},
   "outputs": [
    {
     "name": "stdout",
     "output_type": "stream",
     "text": [
      "[29, 30, 31]\n"
     ]
    }
   ],
   "source": [
    "# tASK 9\n",
    "a=[12,14,14]\n",
    "b=[17,16,17]\n",
    "a=list(map(lambda x,y: x+y,a,b))\n",
    "print(a)"
   ]
  },
  {
   "cell_type": "code",
   "execution_count": 24,
   "id": "a1d7613c-3cca-4fec-84bd-fccb4983b755",
   "metadata": {},
   "outputs": [
    {
     "name": "stdout",
     "output_type": "stream",
     "text": [
      "29\n",
      "True\n"
     ]
    }
   ],
   "source": [
    "# Task 10\n",
    "def is_employee_over_18(dob, doj):\n",
    "    dob_year = int(dob.split(\"-\")[2])\n",
    "    doj_year = int(doj.split(\"-\")[2])\n",
    "    age = doj_year - dob_year\n",
    "    print(age)\n",
    "    return age > 18\n",
    "dob = \"12-25-1991\"\n",
    "doj = \"04-25-2020\"\n",
    "is_over_18 = is_employee_over_18(dob, doj)\n",
    "print(is_over_18)  \n",
    "    "
   ]
  },
  {
   "cell_type": "code",
   "execution_count": 20,
   "id": "6e461855-50b7-4e1f-825c-79e7cb8c92d2",
   "metadata": {},
   "outputs": [
    {
     "name": "stdout",
     "output_type": "stream",
     "text": [
      "1991\n"
     ]
    }
   ],
   "source": []
  },
  {
   "cell_type": "code",
   "execution_count": null,
   "id": "2b90d726-fd3d-4185-8d09-7db3886546c4",
   "metadata": {},
   "outputs": [],
   "source": []
  }
 ],
 "metadata": {
  "kernelspec": {
   "display_name": "Python 3 (ipykernel)",
   "language": "python",
   "name": "python3"
  },
  "language_info": {
   "codemirror_mode": {
    "name": "ipython",
    "version": 3
   },
   "file_extension": ".py",
   "mimetype": "text/x-python",
   "name": "python",
   "nbconvert_exporter": "python",
   "pygments_lexer": "ipython3",
   "version": "3.12.4"
  }
 },
 "nbformat": 4,
 "nbformat_minor": 5
}
