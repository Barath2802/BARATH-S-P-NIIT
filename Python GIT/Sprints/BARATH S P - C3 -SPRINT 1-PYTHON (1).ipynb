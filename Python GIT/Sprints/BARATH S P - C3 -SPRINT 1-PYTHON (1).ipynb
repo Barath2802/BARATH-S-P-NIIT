{
 "cells": [
  {
   "cell_type": "code",
   "execution_count": null,
   "id": "39a9b3f6-283e-4a2b-b251-e1ecf7e5122d",
   "metadata": {},
   "outputs": [],
   "source": [
    "#TASK 1"
   ]
  },
  {
   "cell_type": "code",
   "execution_count": 2,
   "id": "cbde1bcc-052d-4429-8059-f43e2646d616",
   "metadata": {},
   "outputs": [
    {
     "name": "stdout",
     "output_type": "stream",
     "text": [
      "2820\n",
      "1857052027632\n",
      "<class 'int'>\n"
     ]
    }
   ],
   "source": [
    "#1(A)\n",
    "rollno=2820\n",
    "print(rollno)\n",
    "print(id(rollno))\n",
    "print(type(rollno))"
   ]
  },
  {
   "cell_type": "code",
   "execution_count": 4,
   "id": "7d6377d1-2206-47f7-a6b3-84f296d53afc",
   "metadata": {},
   "outputs": [
    {
     "name": "stdout",
     "output_type": "stream",
     "text": [
      "Barath\n",
      "1857030110016\n",
      "<class 'str'>\n"
     ]
    }
   ],
   "source": [
    "#1(B)\n",
    "firstname=\"Barath\";\n",
    "print(firstname)\n",
    "print(id(firstname))\n",
    "print(type(firstname))"
   ]
  },
  {
   "cell_type": "code",
   "execution_count": 6,
   "id": "50c91049-82c1-4417-9d31-f596118b764a",
   "metadata": {},
   "outputs": [
    {
     "name": "stdout",
     "output_type": "stream",
     "text": [
      "Bala\n",
      "1857030354816\n",
      "<class 'str'>\n"
     ]
    }
   ],
   "source": [
    "#1(C)\n",
    "lastname=\"Bala\";\n",
    "print(lastname)\n",
    "print(id(lastname))\n",
    "print(type(lastname))"
   ]
  },
  {
   "cell_type": "code",
   "execution_count": 8,
   "id": "c9ae0ba7-e8fb-4f97-939e-9d85e9709627",
   "metadata": {},
   "outputs": [
    {
     "name": "stdout",
     "output_type": "stream",
     "text": [
      "50\n",
      "140711855144920\n",
      "<class 'int'>\n"
     ]
    }
   ],
   "source": [
    "#1(D)\n",
    "maxmarks=50;\n",
    "print(maxmarks)\n",
    "print(id(maxmarks))\n",
    "print(type(maxmarks))"
   ]
  },
  {
   "cell_type": "code",
   "execution_count": null,
   "id": "85558d98-8939-40ba-b717-6c34c4a397c3",
   "metadata": {},
   "outputs": [],
   "source": [
    "# TASK 2"
   ]
  },
  {
   "cell_type": "code",
   "execution_count": 16,
   "id": "02cce569-ae3c-428a-a8f4-3fba44b2ed44",
   "metadata": {},
   "outputs": [
    {
     "name": "stdout",
     "output_type": "stream",
     "text": [
      "2\n"
     ]
    }
   ],
   "source": [
    "# Task 2(1)\n",
    "Var1=2  \n",
    "print(Var1)\n",
    "#in this case we have set var 1= 2"
   ]
  },
  {
   "cell_type": "code",
   "execution_count": 18,
   "id": "a33bbc9e-b5b7-4512-ba35-b32c2a6f3c41",
   "metadata": {},
   "outputs": [
    {
     "ename": "SyntaxError",
     "evalue": "invalid decimal literal (124729125.py, line 2)",
     "output_type": "error",
     "traceback": [
      "\u001b[1;36m  Cell \u001b[1;32mIn[18], line 2\u001b[1;36m\u001b[0m\n\u001b[1;33m    2var=2\u001b[0m\n\u001b[1;37m    ^\u001b[0m\n\u001b[1;31mSyntaxError\u001b[0m\u001b[1;31m:\u001b[0m invalid decimal literal\n"
     ]
    }
   ],
   "source": [
    "#Task 2(2)\n",
    "2var=2  \n",
    "print(2var)\n",
    "# in this case it doesn't accept decimal value in front of variable"
   ]
  },
  {
   "cell_type": "code",
   "execution_count": 20,
   "id": "6e9b5284-b82d-46b4-a83a-380c409b3e00",
   "metadata": {},
   "outputs": [
    {
     "ename": "SyntaxError",
     "evalue": "invalid syntax (1327014602.py, line 2)",
     "output_type": "error",
     "traceback": [
      "\u001b[1;36m  Cell \u001b[1;32mIn[20], line 2\u001b[1;36m\u001b[0m\n\u001b[1;33m    var 1= 2\u001b[0m\n\u001b[1;37m        ^\u001b[0m\n\u001b[1;31mSyntaxError\u001b[0m\u001b[1;31m:\u001b[0m invalid syntax\n"
     ]
    }
   ],
   "source": [
    "# Task 2(3)\n",
    "var 1= 2  \n",
    "print(var 1)\n",
    "# in this case i shows an invalid syntax error."
   ]
  },
  {
   "cell_type": "code",
   "execution_count": 22,
   "id": "c8a53a96-cb66-4130-9f50-14675090aa40",
   "metadata": {},
   "outputs": [
    {
     "ename": "SyntaxError",
     "evalue": "invalid syntax (2205168015.py, line 2)",
     "output_type": "error",
     "traceback": [
      "\u001b[1;36m  Cell \u001b[1;32mIn[22], line 2\u001b[1;36m\u001b[0m\n\u001b[1;33m    var$2=2\u001b[0m\n\u001b[1;37m       ^\u001b[0m\n\u001b[1;31mSyntaxError\u001b[0m\u001b[1;31m:\u001b[0m invalid syntax\n"
     ]
    }
   ],
   "source": [
    "# Task 2(4)\n",
    "var$2=2 \n",
    "print(var$2)\n",
    "# for this case it shows invalid syntax error."
   ]
  },
  {
   "cell_type": "code",
   "execution_count": null,
   "id": "51b5838f-a5d5-4678-bcf0-cf6a01712553",
   "metadata": {},
   "outputs": [],
   "source": [
    "# TASK 3"
   ]
  },
  {
   "cell_type": "code",
   "execution_count": null,
   "id": "f27cd21a-4e42-4fb7-be90-9302d2bf4e45",
   "metadata": {},
   "outputs": [],
   "source": [
    "#3(a)\n",
    "Class=15\n",
    "print(Class)\n",
    "# its executed"
   ]
  },
  {
   "cell_type": "code",
   "execution_count": null,
   "id": "ef186b7f-d7aa-444a-ab33-e5fa5a55c23a",
   "metadata": {},
   "outputs": [],
   "source": [
    "#3(b)\n",
    "class=14 \n",
    "print(Class)\n",
    "# it doesn't execute because it is the keyword in python"
   ]
  },
  {
   "cell_type": "code",
   "execution_count": null,
   "id": "2795f5e1-2b63-421a-a261-0a24c5f6b811",
   "metadata": {},
   "outputs": [],
   "source": [
    "#3(c)\n",
    "DEF=13\n",
    "print(DEF)\n",
    "#Its executed"
   ]
  },
  {
   "cell_type": "code",
   "execution_count": null,
   "id": "ad81e429-5cba-41c4-a123-8a1abd82b852",
   "metadata": {},
   "outputs": [],
   "source": [
    "#3(d)\n",
    "def=13\n",
    "print(def)\n",
    "# it  doesn't executed because it def is a keyword."
   ]
  },
  {
   "cell_type": "code",
   "execution_count": 34,
   "id": "a78668fa-ea58-41db-a61a-091109ef3b4f",
   "metadata": {},
   "outputs": [
    {
     "ename": "NameError",
     "evalue": "name 'TRUE' is not defined",
     "output_type": "error",
     "traceback": [
      "\u001b[1;31m---------------------------------------------------------------------------\u001b[0m",
      "\u001b[1;31mNameError\u001b[0m                                 Traceback (most recent call last)",
      "Cell \u001b[1;32mIn[34], line 2\u001b[0m\n\u001b[0;32m      1\u001b[0m \u001b[38;5;66;03m#3(e)\u001b[39;00m\n\u001b[1;32m----> 2\u001b[0m a\u001b[38;5;241m=\u001b[39mTRUE\n\u001b[0;32m      3\u001b[0m \u001b[38;5;28mprint\u001b[39m(a)\n",
      "\u001b[1;31mNameError\u001b[0m: name 'TRUE' is not defined"
     ]
    }
   ],
   "source": [
    "#3(e)\n",
    "a=TRUE\n",
    "print(a)\n",
    "# it doesn't executed because it True is a not in  a string value."
   ]
  },
  {
   "cell_type": "code",
   "execution_count": 38,
   "id": "c9adda5f-f625-4519-bfed-4194e2949524",
   "metadata": {},
   "outputs": [
    {
     "ename": "NameError",
     "evalue": "name 'false' is not defined",
     "output_type": "error",
     "traceback": [
      "\u001b[1;31m---------------------------------------------------------------------------\u001b[0m",
      "\u001b[1;31mNameError\u001b[0m                                 Traceback (most recent call last)",
      "Cell \u001b[1;32mIn[38], line 2\u001b[0m\n\u001b[0;32m      1\u001b[0m \u001b[38;5;66;03m#3(f)\u001b[39;00m\n\u001b[1;32m----> 2\u001b[0m b\u001b[38;5;241m=\u001b[39mfalse\n\u001b[0;32m      3\u001b[0m \u001b[38;5;28mprint\u001b[39m(b)\n",
      "\u001b[1;31mNameError\u001b[0m: name 'false' is not defined"
     ]
    }
   ],
   "source": [
    "#3(f)\n",
    "b=false\n",
    "print(b)\n",
    "# it doesn't executed and it shows not defined."
   ]
  },
  {
   "cell_type": "code",
   "execution_count": null,
   "id": "6a562e21-1efb-442c-ab04-00b52f617675",
   "metadata": {},
   "outputs": [],
   "source": [
    "# Task 4"
   ]
  },
  {
   "cell_type": "code",
   "execution_count": 44,
   "id": "e550796e-691b-4ebd-8ae6-32e3d5456ff0",
   "metadata": {},
   "outputs": [
    {
     "name": "stdout",
     "output_type": "stream",
     "text": [
      "79.8\n",
      "1857028812912\n",
      "<class 'float'>\n"
     ]
    }
   ],
   "source": [
    "#4(a)\n",
    "marks=79.8\n",
    "print(marks)\n",
    "print(id(marks))\n",
    "print(type(marks))"
   ]
  },
  {
   "cell_type": "code",
   "execution_count": 46,
   "id": "a96da6e6-509d-4341-b199-1d65c4f05bc4",
   "metadata": {},
   "outputs": [
    {
     "name": "stdout",
     "output_type": "stream",
     "text": [
      "60.2\n",
      "<class 'float'>\n",
      "1857083178032\n"
     ]
    }
   ],
   "source": [
    "#4(b)\n",
    "marks=60.2\n",
    "print(marks)\n",
    "print(type(marks))\n",
    "print(id(marks))"
   ]
  },
  {
   "cell_type": "code",
   "execution_count": null,
   "id": "c20cbbf1-5b42-4d02-9f1f-187d5841033c",
   "metadata": {},
   "outputs": [],
   "source": [
    "#4(c)\n",
    "\"\"\"no it is not same becuase the two different marks id is stored in different memory address and hence it is different id value.\"\"\" "
   ]
  },
  {
   "cell_type": "code",
   "execution_count": null,
   "id": "9e375453-4a3f-4dc7-bc21-9c73f99cd8a9",
   "metadata": {},
   "outputs": [],
   "source": [
    "# Task 5"
   ]
  },
  {
   "cell_type": "code",
   "execution_count": 48,
   "id": "3c397f54-01d0-4ce2-97e4-760815817f2e",
   "metadata": {},
   "outputs": [
    {
     "name": "stdout",
     "output_type": "stream",
     "text": [
      "60.199999999999996 %\n"
     ]
    }
   ],
   "source": [
    "#5(a)\n",
    "maxmarks=100\n",
    "print(marks/maxmarks*100,\"%\")\n",
    "# For this i have used maxmarks as 100 and i applied marks as 60.2 which is the recent marks the interpretator has used to calculate the division"
   ]
  },
  {
   "cell_type": "code",
   "execution_count": 50,
   "id": "7779ca7f-f74a-4c33-8d18-97f2ae7295cd",
   "metadata": {},
   "outputs": [
    {
     "name": "stdout",
     "output_type": "stream",
     "text": [
      "Barath Bala\n"
     ]
    }
   ],
   "source": [
    "#5(b)\n",
    "fullname=firstname+\" \"+ lastname\n",
    "print (fullname)"
   ]
  },
  {
   "cell_type": "code",
   "execution_count": 21,
   "id": "6b6daee8-6450-4dc8-8664-c98a9086e380",
   "metadata": {},
   "outputs": [
    {
     "name": "stdout",
     "output_type": "stream",
     "text": [
      "Barath   Bala  scored    60.2 %\n"
     ]
    }
   ],
   "source": [
    "#5(c)\n",
    "print(firstname,\" \",lastname,\" scored \" ,\" \",marks,\"%\");\n"
   ]
  },
  {
   "cell_type": "code",
   "execution_count": null,
   "id": "e4240385-a870-4370-aeaa-78f6fc068af2",
   "metadata": {},
   "outputs": [],
   "source": [
    "# Task 6"
   ]
  },
  {
   "cell_type": "code",
   "execution_count": 58,
   "id": "3e6cd0c4-583a-4229-9d38-9c20122e416f",
   "metadata": {},
   "outputs": [
    {
     "ename": "TypeError",
     "evalue": "unsupported operand type(s) for +: 'int' and 'str'",
     "output_type": "error",
     "traceback": [
      "\u001b[1;31m---------------------------------------------------------------------------\u001b[0m",
      "\u001b[1;31mTypeError\u001b[0m                                 Traceback (most recent call last)",
      "Cell \u001b[1;32mIn[58], line 2\u001b[0m\n\u001b[0;32m      1\u001b[0m \u001b[38;5;66;03m#6(a)\u001b[39;00m\n\u001b[1;32m----> 2\u001b[0m \u001b[38;5;28mprint\u001b[39m(\u001b[38;5;241m1\u001b[39m\u001b[38;5;241m+\u001b[39m\u001b[38;5;124m\"\u001b[39m\u001b[38;5;124m2\u001b[39m\u001b[38;5;124m\"\u001b[39m)\n",
      "\u001b[1;31mTypeError\u001b[0m: unsupported operand type(s) for +: 'int' and 'str'"
     ]
    }
   ],
   "source": [
    "#6(a)\n",
    "print(1+\"2\") \n",
    "# For this case we cannot concate integer and string because it is two different datatype. "
   ]
  },
  {
   "cell_type": "code",
   "execution_count": 56,
   "id": "b09d98ab-929b-44e7-9bcf-dc0b15f5e1fe",
   "metadata": {},
   "outputs": [
    {
     "name": "stdout",
     "output_type": "stream",
     "text": [
      "12\n"
     ]
    }
   ],
   "source": [
    "#6(b)\n",
    "print(\"1\"+\"2\")  \n",
    "# for this case i has excecuted because the values are in string the interpretator taken as sting value "
   ]
  },
  {
   "cell_type": "code",
   "execution_count": 54,
   "id": "b8ea3a30-4266-4924-a023-eb9a3a373696",
   "metadata": {},
   "outputs": [
    {
     "name": "stdout",
     "output_type": "stream",
     "text": [
      "0.5\n"
     ]
    }
   ],
   "source": [
    "#6(c)\n",
    "print(1/2)  \n",
    "# For this Task this code has executed because the interpretator has doing normal division between the two integer values."
   ]
  },
  {
   "cell_type": "code",
   "execution_count": 52,
   "id": "f9317e58-5590-440f-b244-9d9ffd7e34d6",
   "metadata": {},
   "outputs": [
    {
     "name": "stdout",
     "output_type": "stream",
     "text": [
      "0\n"
     ]
    }
   ],
   "source": [
    "#6(d)\n",
    "print(1//2)\n",
    "# For this task this code "
   ]
  },
  {
   "cell_type": "code",
   "execution_count": null,
   "id": "7fb98750-5090-4278-80f1-bce22f12e1ca",
   "metadata": {},
   "outputs": [],
   "source": [
    "#task 7"
   ]
  },
  {
   "cell_type": "code",
   "execution_count": 60,
   "id": "bef6f116-744b-402e-9a7e-f024f8d924c3",
   "metadata": {},
   "outputs": [
    {
     "name": "stdout",
     "output_type": "stream",
     "text": [
      "True\n"
     ]
    }
   ],
   "source": [
    "#7(a)\n",
    "print(True and True) \n",
    "# for this case AND condition both condition should be true .That's what i gave an output as True."
   ]
  },
  {
   "cell_type": "code",
   "execution_count": 62,
   "id": "af393b84-d801-425e-ad5d-48fe15685240",
   "metadata": {},
   "outputs": [
    {
     "name": "stdout",
     "output_type": "stream",
     "text": [
      "False\n"
     ]
    }
   ],
   "source": [
    "#7(b)\n",
    "print(True and False)\n",
    "# For this Case OR Condition should be contain one condition has true and one condition as false"
   ]
  },
  {
   "cell_type": "code",
   "execution_count": 64,
   "id": "802104fa-5088-45ca-8274-e8220879f69c",
   "metadata": {},
   "outputs": [
    {
     "name": "stdout",
     "output_type": "stream",
     "text": [
      "True\n"
     ]
    }
   ],
   "source": [
    "#7(c)\n",
    "print(False or True) \n",
    "# For this Case OR Condition should be contain one condition has true and one condition as false"
   ]
  },
  {
   "cell_type": "code",
   "execution_count": 66,
   "id": "e2d2d413-df6f-481d-8dd2-688ec182a74f",
   "metadata": {},
   "outputs": [
    {
     "name": "stdout",
     "output_type": "stream",
     "text": [
      "False\n"
     ]
    }
   ],
   "source": [
    "#7(d)\n",
    "print(False or False)\n",
    "#For this Case OR Condition should be contain one condition has true and one condition as false"
   ]
  },
  {
   "cell_type": "code",
   "execution_count": null,
   "id": "91e580c0-0ad1-4807-a9df-5bbae8ad2aad",
   "metadata": {},
   "outputs": [],
   "source": [
    "#Task 8"
   ]
  },
  {
   "cell_type": "code",
   "execution_count": 70,
   "id": "332043d6-5c18-4db1-802e-36aef28ace3f",
   "metadata": {},
   "outputs": [
    {
     "name": "stdout",
     "output_type": "stream",
     "text": [
      "Barath Bala\n",
      "True\n",
      "False\n"
     ]
    }
   ],
   "source": [
    "print(fullname)\n",
    "print(firstname in fullname) \n",
    "# For this case  the firstname is contained in the full name That why it gave an output as True.\n",
    "print(firstname is  fullname) \n",
    "# For this case the firstname is not fullname that why it gave an output as False"
   ]
  },
  {
   "cell_type": "code",
   "execution_count": null,
   "id": "9dd1ce15-3c1d-4244-a6f0-1081e74c14c0",
   "metadata": {},
   "outputs": [],
   "source": [
    "# Task 9"
   ]
  },
  {
   "cell_type": "code",
   "execution_count": 1,
   "id": "bf549172-b8f8-435b-9f16-af5bd0bb9235",
   "metadata": {},
   "outputs": [
    {
     "name": "stdout",
     "output_type": "stream",
     "text": [
      "66\n",
      "1024\n"
     ]
    }
   ],
   "source": [
    "#9(A and B)\n",
    "a=4\n",
    "b=3\n",
    "c=2 \n",
    "d=a**b+c\n",
    "print(d)\n",
    "e=a**(b+c)\n",
    "print(e)"
   ]
  },
  {
   "cell_type": "code",
   "execution_count": null,
   "id": "5469e524-d856-4000-8db9-d09965b4621f",
   "metadata": {},
   "outputs": [],
   "source": [
    "# 9(3)\n",
    "\"\"\"For this case The given question is quite different . For the A question they are asked to calculate the a \n",
    "to the power of b .After the calculation of power value  we have  to add that value to c   \"\"\"\n",
    "\"\"\" Similary to the task c first we have the add b and c values .After adding the value should be a to the power of added value.\"\"\"\n",
    "#This is what the interpretator done and the values are different."
   ]
  }
 ],
 "metadata": {
  "kernelspec": {
   "display_name": "Python 3 (ipykernel)",
   "language": "python",
   "name": "python3"
  },
  "language_info": {
   "codemirror_mode": {
    "name": "ipython",
    "version": 3
   },
   "file_extension": ".py",
   "mimetype": "text/x-python",
   "name": "python",
   "nbconvert_exporter": "python",
   "pygments_lexer": "ipython3",
   "version": "3.12.4"
  }
 },
 "nbformat": 4,
 "nbformat_minor": 5
}
