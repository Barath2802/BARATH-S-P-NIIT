{
 "cells": [
  {
   "cell_type": "code",
   "execution_count": 1,
   "id": "0a3dd285-2934-4f2c-ae2b-836d02241bfb",
   "metadata": {},
   "outputs": [],
   "source": [
    "import numpy as np\n",
    "import pandas as pd\n",
    "import matplotlib.pyplot as plt\n",
    "import matplotlib as mat\n",
    "import seaborn as sns\n",
    "from tabulate import tabulate\n",
    "from scipy.stats import skew"
   ]
  },
  {
   "cell_type": "code",
   "execution_count": 2,
   "id": "48cde666-789b-42fb-bba3-77d58e90ccd5",
   "metadata": {},
   "outputs": [
    {
     "data": {
      "text/html": [
       "<div>\n",
       "<style scoped>\n",
       "    .dataframe tbody tr th:only-of-type {\n",
       "        vertical-align: middle;\n",
       "    }\n",
       "\n",
       "    .dataframe tbody tr th {\n",
       "        vertical-align: top;\n",
       "    }\n",
       "\n",
       "    .dataframe thead th {\n",
       "        text-align: right;\n",
       "    }\n",
       "</style>\n",
       "<table border=\"1\" class=\"dataframe\">\n",
       "  <thead>\n",
       "    <tr style=\"text-align: right;\">\n",
       "      <th></th>\n",
       "      <th>Age</th>\n",
       "      <th>Attrition</th>\n",
       "      <th>BusinessTravel</th>\n",
       "      <th>Department</th>\n",
       "      <th>DistanceFromHome</th>\n",
       "      <th>EducationField</th>\n",
       "      <th>EmployeeNumber</th>\n",
       "      <th>EnvironmentSatisfaction</th>\n",
       "      <th>Gender</th>\n",
       "      <th>HourlyRate</th>\n",
       "      <th>...</th>\n",
       "      <th>OverTime</th>\n",
       "      <th>PerformanceRating</th>\n",
       "      <th>RelationshipSatisfaction</th>\n",
       "      <th>TotalWorkingYears</th>\n",
       "      <th>TrainingTimesLastYear</th>\n",
       "      <th>WorkLifeBalance</th>\n",
       "      <th>YearsAtCompany</th>\n",
       "      <th>YearsInCurrentRole</th>\n",
       "      <th>YearsSinceLastPromotion</th>\n",
       "      <th>YearsWithCurrManager</th>\n",
       "    </tr>\n",
       "  </thead>\n",
       "  <tbody>\n",
       "    <tr>\n",
       "      <th>0</th>\n",
       "      <td>41.0</td>\n",
       "      <td>Yes</td>\n",
       "      <td>Travel_Rarely</td>\n",
       "      <td>Sales</td>\n",
       "      <td>1</td>\n",
       "      <td>Life Sciences</td>\n",
       "      <td>1</td>\n",
       "      <td>2</td>\n",
       "      <td>Female</td>\n",
       "      <td>94</td>\n",
       "      <td>...</td>\n",
       "      <td>Yes</td>\n",
       "      <td>3</td>\n",
       "      <td>1</td>\n",
       "      <td>8</td>\n",
       "      <td>0</td>\n",
       "      <td>1</td>\n",
       "      <td>6</td>\n",
       "      <td>4</td>\n",
       "      <td>0</td>\n",
       "      <td>5</td>\n",
       "    </tr>\n",
       "    <tr>\n",
       "      <th>1</th>\n",
       "      <td>49.0</td>\n",
       "      <td>No</td>\n",
       "      <td>Travel_Frequently</td>\n",
       "      <td>Research &amp; Development</td>\n",
       "      <td>8</td>\n",
       "      <td>Life Sciences</td>\n",
       "      <td>2</td>\n",
       "      <td>3</td>\n",
       "      <td>Male</td>\n",
       "      <td>61</td>\n",
       "      <td>...</td>\n",
       "      <td>No</td>\n",
       "      <td>4</td>\n",
       "      <td>4</td>\n",
       "      <td>10</td>\n",
       "      <td>3</td>\n",
       "      <td>3</td>\n",
       "      <td>10</td>\n",
       "      <td>7</td>\n",
       "      <td>1</td>\n",
       "      <td>7</td>\n",
       "    </tr>\n",
       "    <tr>\n",
       "      <th>2</th>\n",
       "      <td>37.0</td>\n",
       "      <td>Yes</td>\n",
       "      <td>Travel_Rarely</td>\n",
       "      <td>Research &amp; Development</td>\n",
       "      <td>2</td>\n",
       "      <td>Other</td>\n",
       "      <td>4</td>\n",
       "      <td>4</td>\n",
       "      <td>Male</td>\n",
       "      <td>92</td>\n",
       "      <td>...</td>\n",
       "      <td>Yes</td>\n",
       "      <td>3</td>\n",
       "      <td>2</td>\n",
       "      <td>7</td>\n",
       "      <td>3</td>\n",
       "      <td>3</td>\n",
       "      <td>0</td>\n",
       "      <td>0</td>\n",
       "      <td>0</td>\n",
       "      <td>0</td>\n",
       "    </tr>\n",
       "    <tr>\n",
       "      <th>3</th>\n",
       "      <td>33.0</td>\n",
       "      <td>No</td>\n",
       "      <td>Travel_Frequently</td>\n",
       "      <td>Research &amp; Development</td>\n",
       "      <td>3</td>\n",
       "      <td>Life Sciences</td>\n",
       "      <td>5</td>\n",
       "      <td>4</td>\n",
       "      <td>Female</td>\n",
       "      <td>56</td>\n",
       "      <td>...</td>\n",
       "      <td>Yes</td>\n",
       "      <td>3</td>\n",
       "      <td>3</td>\n",
       "      <td>8</td>\n",
       "      <td>3</td>\n",
       "      <td>3</td>\n",
       "      <td>8</td>\n",
       "      <td>7</td>\n",
       "      <td>3</td>\n",
       "      <td>0</td>\n",
       "    </tr>\n",
       "    <tr>\n",
       "      <th>4</th>\n",
       "      <td>27.0</td>\n",
       "      <td>No</td>\n",
       "      <td>Travel_Rarely</td>\n",
       "      <td>Research &amp; Development</td>\n",
       "      <td>2</td>\n",
       "      <td>Medical</td>\n",
       "      <td>7</td>\n",
       "      <td>1</td>\n",
       "      <td>Male</td>\n",
       "      <td>40</td>\n",
       "      <td>...</td>\n",
       "      <td>No</td>\n",
       "      <td>3</td>\n",
       "      <td>4</td>\n",
       "      <td>6</td>\n",
       "      <td>3</td>\n",
       "      <td>3</td>\n",
       "      <td>2</td>\n",
       "      <td>2</td>\n",
       "      <td>2</td>\n",
       "      <td>2</td>\n",
       "    </tr>\n",
       "    <tr>\n",
       "      <th>...</th>\n",
       "      <td>...</td>\n",
       "      <td>...</td>\n",
       "      <td>...</td>\n",
       "      <td>...</td>\n",
       "      <td>...</td>\n",
       "      <td>...</td>\n",
       "      <td>...</td>\n",
       "      <td>...</td>\n",
       "      <td>...</td>\n",
       "      <td>...</td>\n",
       "      <td>...</td>\n",
       "      <td>...</td>\n",
       "      <td>...</td>\n",
       "      <td>...</td>\n",
       "      <td>...</td>\n",
       "      <td>...</td>\n",
       "      <td>...</td>\n",
       "      <td>...</td>\n",
       "      <td>...</td>\n",
       "      <td>...</td>\n",
       "      <td>...</td>\n",
       "    </tr>\n",
       "    <tr>\n",
       "      <th>1465</th>\n",
       "      <td>36.0</td>\n",
       "      <td>No</td>\n",
       "      <td>NaN</td>\n",
       "      <td>Research &amp; Development</td>\n",
       "      <td>23</td>\n",
       "      <td>Medical</td>\n",
       "      <td>2061</td>\n",
       "      <td>3</td>\n",
       "      <td>Male</td>\n",
       "      <td>41</td>\n",
       "      <td>...</td>\n",
       "      <td>No</td>\n",
       "      <td>3</td>\n",
       "      <td>3</td>\n",
       "      <td>17</td>\n",
       "      <td>3</td>\n",
       "      <td>3</td>\n",
       "      <td>5</td>\n",
       "      <td>2</td>\n",
       "      <td>0</td>\n",
       "      <td>3</td>\n",
       "    </tr>\n",
       "    <tr>\n",
       "      <th>1466</th>\n",
       "      <td>39.0</td>\n",
       "      <td>No</td>\n",
       "      <td>Travel_Rarely</td>\n",
       "      <td>Research &amp; Development</td>\n",
       "      <td>6</td>\n",
       "      <td>Medical</td>\n",
       "      <td>2062</td>\n",
       "      <td>4</td>\n",
       "      <td>Male</td>\n",
       "      <td>42</td>\n",
       "      <td>...</td>\n",
       "      <td>No</td>\n",
       "      <td>3</td>\n",
       "      <td>1</td>\n",
       "      <td>9</td>\n",
       "      <td>5</td>\n",
       "      <td>3</td>\n",
       "      <td>7</td>\n",
       "      <td>7</td>\n",
       "      <td>1</td>\n",
       "      <td>7</td>\n",
       "    </tr>\n",
       "    <tr>\n",
       "      <th>1467</th>\n",
       "      <td>27.0</td>\n",
       "      <td>No</td>\n",
       "      <td>Travel_Rarely</td>\n",
       "      <td>Research &amp; Development</td>\n",
       "      <td>4</td>\n",
       "      <td>Life Sciences</td>\n",
       "      <td>2064</td>\n",
       "      <td>2</td>\n",
       "      <td>Male</td>\n",
       "      <td>87</td>\n",
       "      <td>...</td>\n",
       "      <td>Yes</td>\n",
       "      <td>4</td>\n",
       "      <td>2</td>\n",
       "      <td>6</td>\n",
       "      <td>0</td>\n",
       "      <td>3</td>\n",
       "      <td>6</td>\n",
       "      <td>2</td>\n",
       "      <td>0</td>\n",
       "      <td>3</td>\n",
       "    </tr>\n",
       "    <tr>\n",
       "      <th>1468</th>\n",
       "      <td>49.0</td>\n",
       "      <td>No</td>\n",
       "      <td>Travel_Frequently</td>\n",
       "      <td>Sales</td>\n",
       "      <td>2</td>\n",
       "      <td>Medical</td>\n",
       "      <td>2065</td>\n",
       "      <td>4</td>\n",
       "      <td>Male</td>\n",
       "      <td>63</td>\n",
       "      <td>...</td>\n",
       "      <td>No</td>\n",
       "      <td>3</td>\n",
       "      <td>4</td>\n",
       "      <td>17</td>\n",
       "      <td>3</td>\n",
       "      <td>2</td>\n",
       "      <td>9</td>\n",
       "      <td>6</td>\n",
       "      <td>0</td>\n",
       "      <td>8</td>\n",
       "    </tr>\n",
       "    <tr>\n",
       "      <th>1469</th>\n",
       "      <td>34.0</td>\n",
       "      <td>No</td>\n",
       "      <td>Travel_Rarely</td>\n",
       "      <td>Research &amp; Development</td>\n",
       "      <td>8</td>\n",
       "      <td>Medical</td>\n",
       "      <td>2068</td>\n",
       "      <td>2</td>\n",
       "      <td>Male</td>\n",
       "      <td>82</td>\n",
       "      <td>...</td>\n",
       "      <td>No</td>\n",
       "      <td>3</td>\n",
       "      <td>1</td>\n",
       "      <td>6</td>\n",
       "      <td>3</td>\n",
       "      <td>4</td>\n",
       "      <td>4</td>\n",
       "      <td>3</td>\n",
       "      <td>1</td>\n",
       "      <td>2</td>\n",
       "    </tr>\n",
       "  </tbody>\n",
       "</table>\n",
       "<p>1470 rows × 27 columns</p>\n",
       "</div>"
      ],
      "text/plain": [
       "       Age Attrition     BusinessTravel              Department  \\\n",
       "0     41.0       Yes      Travel_Rarely                   Sales   \n",
       "1     49.0        No  Travel_Frequently  Research & Development   \n",
       "2     37.0       Yes      Travel_Rarely  Research & Development   \n",
       "3     33.0        No  Travel_Frequently  Research & Development   \n",
       "4     27.0        No      Travel_Rarely  Research & Development   \n",
       "...    ...       ...                ...                     ...   \n",
       "1465  36.0        No                NaN  Research & Development   \n",
       "1466  39.0        No      Travel_Rarely  Research & Development   \n",
       "1467  27.0        No      Travel_Rarely  Research & Development   \n",
       "1468  49.0        No  Travel_Frequently                   Sales   \n",
       "1469  34.0        No      Travel_Rarely  Research & Development   \n",
       "\n",
       "      DistanceFromHome EducationField  EmployeeNumber  \\\n",
       "0                    1  Life Sciences               1   \n",
       "1                    8  Life Sciences               2   \n",
       "2                    2          Other               4   \n",
       "3                    3  Life Sciences               5   \n",
       "4                    2        Medical               7   \n",
       "...                ...            ...             ...   \n",
       "1465                23        Medical            2061   \n",
       "1466                 6        Medical            2062   \n",
       "1467                 4  Life Sciences            2064   \n",
       "1468                 2        Medical            2065   \n",
       "1469                 8        Medical            2068   \n",
       "\n",
       "      EnvironmentSatisfaction  Gender  HourlyRate  ...  OverTime  \\\n",
       "0                           2  Female          94  ...       Yes   \n",
       "1                           3    Male          61  ...        No   \n",
       "2                           4    Male          92  ...       Yes   \n",
       "3                           4  Female          56  ...       Yes   \n",
       "4                           1    Male          40  ...        No   \n",
       "...                       ...     ...         ...  ...       ...   \n",
       "1465                        3    Male          41  ...        No   \n",
       "1466                        4    Male          42  ...        No   \n",
       "1467                        2    Male          87  ...       Yes   \n",
       "1468                        4    Male          63  ...        No   \n",
       "1469                        2    Male          82  ...        No   \n",
       "\n",
       "     PerformanceRating  RelationshipSatisfaction TotalWorkingYears  \\\n",
       "0                    3                         1                 8   \n",
       "1                    4                         4                10   \n",
       "2                    3                         2                 7   \n",
       "3                    3                         3                 8   \n",
       "4                    3                         4                 6   \n",
       "...                ...                       ...               ...   \n",
       "1465                 3                         3                17   \n",
       "1466                 3                         1                 9   \n",
       "1467                 4                         2                 6   \n",
       "1468                 3                         4                17   \n",
       "1469                 3                         1                 6   \n",
       "\n",
       "      TrainingTimesLastYear  WorkLifeBalance YearsAtCompany  \\\n",
       "0                         0                1              6   \n",
       "1                         3                3             10   \n",
       "2                         3                3              0   \n",
       "3                         3                3              8   \n",
       "4                         3                3              2   \n",
       "...                     ...              ...            ...   \n",
       "1465                      3                3              5   \n",
       "1466                      5                3              7   \n",
       "1467                      0                3              6   \n",
       "1468                      3                2              9   \n",
       "1469                      3                4              4   \n",
       "\n",
       "     YearsInCurrentRole  YearsSinceLastPromotion  YearsWithCurrManager  \n",
       "0                     4                        0                     5  \n",
       "1                     7                        1                     7  \n",
       "2                     0                        0                     0  \n",
       "3                     7                        3                     0  \n",
       "4                     2                        2                     2  \n",
       "...                 ...                      ...                   ...  \n",
       "1465                  2                        0                     3  \n",
       "1466                  7                        1                     7  \n",
       "1467                  2                        0                     3  \n",
       "1468                  6                        0                     8  \n",
       "1469                  3                        1                     2  \n",
       "\n",
       "[1470 rows x 27 columns]"
      ]
     },
     "execution_count": 2,
     "metadata": {},
     "output_type": "execute_result"
    }
   ],
   "source": [
    "df=pd.read_csv(\"DS1_C5_S1_EmployeeAttrition_Data_Practice.csv\")\n",
    "df"
   ]
  },
  {
   "cell_type": "code",
   "execution_count": 3,
   "id": "fd977492-ae7b-42c9-987f-7d6e70725822",
   "metadata": {},
   "outputs": [
    {
     "data": {
      "text/plain": [
       "Index(['Age', 'Attrition', 'BusinessTravel', 'Department', 'DistanceFromHome',\n",
       "       'EducationField', 'EmployeeNumber', 'EnvironmentSatisfaction', 'Gender',\n",
       "       'HourlyRate', 'JobInvolvement', 'JobRole', 'JobSatisfaction',\n",
       "       'MaritalStatus', 'MonthlyIncome', 'NumCompaniesWorked', 'Over18',\n",
       "       'OverTime', 'PerformanceRating', 'RelationshipSatisfaction',\n",
       "       'TotalWorkingYears', 'TrainingTimesLastYear', 'WorkLifeBalance',\n",
       "       'YearsAtCompany', 'YearsInCurrentRole', 'YearsSinceLastPromotion',\n",
       "       'YearsWithCurrManager'],\n",
       "      dtype='object')"
      ]
     },
     "execution_count": 3,
     "metadata": {},
     "output_type": "execute_result"
    }
   ],
   "source": [
    "df.columns"
   ]
  },
  {
   "cell_type": "code",
   "execution_count": 4,
   "id": "81d470d6-4d95-424a-ab58-056cf44cf89d",
   "metadata": {},
   "outputs": [
    {
     "name": "stdout",
     "output_type": "stream",
     "text": [
      "<class 'pandas.core.frame.DataFrame'>\n",
      "RangeIndex: 1470 entries, 0 to 1469\n",
      "Data columns (total 27 columns):\n",
      " #   Column                    Non-Null Count  Dtype  \n",
      "---  ------                    --------------  -----  \n",
      " 0   Age                       1446 non-null   float64\n",
      " 1   Attrition                 1470 non-null   object \n",
      " 2   BusinessTravel            1440 non-null   object \n",
      " 3   Department                1466 non-null   object \n",
      " 4   DistanceFromHome          1470 non-null   int64  \n",
      " 5   EducationField            1458 non-null   object \n",
      " 6   EmployeeNumber            1470 non-null   int64  \n",
      " 7   EnvironmentSatisfaction   1470 non-null   int64  \n",
      " 8   Gender                    1425 non-null   object \n",
      " 9   HourlyRate                1470 non-null   int64  \n",
      " 10  JobInvolvement            1470 non-null   int64  \n",
      " 11  JobRole                   1460 non-null   object \n",
      " 12  JobSatisfaction           1470 non-null   int64  \n",
      " 13  MaritalStatus             1414 non-null   object \n",
      " 14  MonthlyIncome             1470 non-null   int64  \n",
      " 15  NumCompaniesWorked        1470 non-null   int64  \n",
      " 16  Over18                    1416 non-null   object \n",
      " 17  OverTime                  1470 non-null   object \n",
      " 18  PerformanceRating         1470 non-null   int64  \n",
      " 19  RelationshipSatisfaction  1470 non-null   int64  \n",
      " 20  TotalWorkingYears         1470 non-null   int64  \n",
      " 21  TrainingTimesLastYear     1470 non-null   int64  \n",
      " 22  WorkLifeBalance           1470 non-null   int64  \n",
      " 23  YearsAtCompany            1470 non-null   int64  \n",
      " 24  YearsInCurrentRole        1470 non-null   int64  \n",
      " 25  YearsSinceLastPromotion   1470 non-null   int64  \n",
      " 26  YearsWithCurrManager      1470 non-null   int64  \n",
      "dtypes: float64(1), int64(17), object(9)\n",
      "memory usage: 310.2+ KB\n"
     ]
    }
   ],
   "source": [
    "df.info()"
   ]
  },
  {
   "cell_type": "code",
   "execution_count": 5,
   "id": "084b44f4-1f51-4eb7-9236-9e2bc66019dc",
   "metadata": {},
   "outputs": [
    {
     "data": {
      "text/plain": [
       "Age                         24\n",
       "Attrition                    0\n",
       "BusinessTravel              30\n",
       "Department                   4\n",
       "DistanceFromHome             0\n",
       "EducationField              12\n",
       "EmployeeNumber               0\n",
       "EnvironmentSatisfaction      0\n",
       "Gender                      45\n",
       "HourlyRate                   0\n",
       "JobInvolvement               0\n",
       "JobRole                     10\n",
       "JobSatisfaction              0\n",
       "MaritalStatus               56\n",
       "MonthlyIncome                0\n",
       "NumCompaniesWorked           0\n",
       "Over18                      54\n",
       "OverTime                     0\n",
       "PerformanceRating            0\n",
       "RelationshipSatisfaction     0\n",
       "TotalWorkingYears            0\n",
       "TrainingTimesLastYear        0\n",
       "WorkLifeBalance              0\n",
       "YearsAtCompany               0\n",
       "YearsInCurrentRole           0\n",
       "YearsSinceLastPromotion      0\n",
       "YearsWithCurrManager         0\n",
       "dtype: int64"
      ]
     },
     "execution_count": 5,
     "metadata": {},
     "output_type": "execute_result"
    }
   ],
   "source": [
    "df.isnull().sum()"
   ]
  },
  {
   "cell_type": "code",
   "execution_count": 6,
   "id": "388d1c72-e56a-47d0-a245-8d8bed3ec8ed",
   "metadata": {},
   "outputs": [
    {
     "data": {
      "text/plain": [
       "Age                         1446\n",
       "Attrition                   1470\n",
       "BusinessTravel              1440\n",
       "Department                  1466\n",
       "DistanceFromHome            1470\n",
       "EducationField              1458\n",
       "EmployeeNumber              1470\n",
       "EnvironmentSatisfaction     1470\n",
       "Gender                      1425\n",
       "HourlyRate                  1470\n",
       "JobInvolvement              1470\n",
       "JobRole                     1460\n",
       "JobSatisfaction             1470\n",
       "MaritalStatus               1414\n",
       "MonthlyIncome               1470\n",
       "NumCompaniesWorked          1470\n",
       "Over18                      1416\n",
       "OverTime                    1470\n",
       "PerformanceRating           1470\n",
       "RelationshipSatisfaction    1470\n",
       "TotalWorkingYears           1470\n",
       "TrainingTimesLastYear       1470\n",
       "WorkLifeBalance             1470\n",
       "YearsAtCompany              1470\n",
       "YearsInCurrentRole          1470\n",
       "YearsSinceLastPromotion     1470\n",
       "YearsWithCurrManager        1470\n",
       "dtype: int64"
      ]
     },
     "execution_count": 6,
     "metadata": {},
     "output_type": "execute_result"
    }
   ],
   "source": [
    "df.count()"
   ]
  },
  {
   "cell_type": "code",
   "execution_count": 7,
   "id": "ed2209d6-f8de-4439-8221-2e44d4f38b2c",
   "metadata": {},
   "outputs": [
    {
     "data": {
      "text/html": [
       "<div>\n",
       "<style scoped>\n",
       "    .dataframe tbody tr th:only-of-type {\n",
       "        vertical-align: middle;\n",
       "    }\n",
       "\n",
       "    .dataframe tbody tr th {\n",
       "        vertical-align: top;\n",
       "    }\n",
       "\n",
       "    .dataframe thead th {\n",
       "        text-align: right;\n",
       "    }\n",
       "</style>\n",
       "<table border=\"1\" class=\"dataframe\">\n",
       "  <thead>\n",
       "    <tr style=\"text-align: right;\">\n",
       "      <th></th>\n",
       "      <th>Age</th>\n",
       "      <th>DistanceFromHome</th>\n",
       "      <th>EmployeeNumber</th>\n",
       "      <th>EnvironmentSatisfaction</th>\n",
       "      <th>HourlyRate</th>\n",
       "      <th>JobInvolvement</th>\n",
       "      <th>JobSatisfaction</th>\n",
       "      <th>MonthlyIncome</th>\n",
       "      <th>NumCompaniesWorked</th>\n",
       "      <th>PerformanceRating</th>\n",
       "      <th>RelationshipSatisfaction</th>\n",
       "      <th>TotalWorkingYears</th>\n",
       "      <th>TrainingTimesLastYear</th>\n",
       "      <th>WorkLifeBalance</th>\n",
       "      <th>YearsAtCompany</th>\n",
       "      <th>YearsInCurrentRole</th>\n",
       "      <th>YearsSinceLastPromotion</th>\n",
       "      <th>YearsWithCurrManager</th>\n",
       "    </tr>\n",
       "  </thead>\n",
       "  <tbody>\n",
       "    <tr>\n",
       "      <th>0</th>\n",
       "      <td>41.0</td>\n",
       "      <td>1</td>\n",
       "      <td>1</td>\n",
       "      <td>2</td>\n",
       "      <td>94</td>\n",
       "      <td>3</td>\n",
       "      <td>4</td>\n",
       "      <td>5993</td>\n",
       "      <td>8</td>\n",
       "      <td>3</td>\n",
       "      <td>1</td>\n",
       "      <td>8</td>\n",
       "      <td>0</td>\n",
       "      <td>1</td>\n",
       "      <td>6</td>\n",
       "      <td>4</td>\n",
       "      <td>0</td>\n",
       "      <td>5</td>\n",
       "    </tr>\n",
       "    <tr>\n",
       "      <th>1</th>\n",
       "      <td>49.0</td>\n",
       "      <td>8</td>\n",
       "      <td>2</td>\n",
       "      <td>3</td>\n",
       "      <td>61</td>\n",
       "      <td>2</td>\n",
       "      <td>2</td>\n",
       "      <td>5130</td>\n",
       "      <td>1</td>\n",
       "      <td>4</td>\n",
       "      <td>4</td>\n",
       "      <td>10</td>\n",
       "      <td>3</td>\n",
       "      <td>3</td>\n",
       "      <td>10</td>\n",
       "      <td>7</td>\n",
       "      <td>1</td>\n",
       "      <td>7</td>\n",
       "    </tr>\n",
       "    <tr>\n",
       "      <th>2</th>\n",
       "      <td>37.0</td>\n",
       "      <td>2</td>\n",
       "      <td>4</td>\n",
       "      <td>4</td>\n",
       "      <td>92</td>\n",
       "      <td>2</td>\n",
       "      <td>3</td>\n",
       "      <td>2090</td>\n",
       "      <td>6</td>\n",
       "      <td>3</td>\n",
       "      <td>2</td>\n",
       "      <td>7</td>\n",
       "      <td>3</td>\n",
       "      <td>3</td>\n",
       "      <td>0</td>\n",
       "      <td>0</td>\n",
       "      <td>0</td>\n",
       "      <td>0</td>\n",
       "    </tr>\n",
       "    <tr>\n",
       "      <th>3</th>\n",
       "      <td>33.0</td>\n",
       "      <td>3</td>\n",
       "      <td>5</td>\n",
       "      <td>4</td>\n",
       "      <td>56</td>\n",
       "      <td>3</td>\n",
       "      <td>3</td>\n",
       "      <td>2909</td>\n",
       "      <td>1</td>\n",
       "      <td>3</td>\n",
       "      <td>3</td>\n",
       "      <td>8</td>\n",
       "      <td>3</td>\n",
       "      <td>3</td>\n",
       "      <td>8</td>\n",
       "      <td>7</td>\n",
       "      <td>3</td>\n",
       "      <td>0</td>\n",
       "    </tr>\n",
       "    <tr>\n",
       "      <th>4</th>\n",
       "      <td>27.0</td>\n",
       "      <td>2</td>\n",
       "      <td>7</td>\n",
       "      <td>1</td>\n",
       "      <td>40</td>\n",
       "      <td>3</td>\n",
       "      <td>2</td>\n",
       "      <td>3468</td>\n",
       "      <td>9</td>\n",
       "      <td>3</td>\n",
       "      <td>4</td>\n",
       "      <td>6</td>\n",
       "      <td>3</td>\n",
       "      <td>3</td>\n",
       "      <td>2</td>\n",
       "      <td>2</td>\n",
       "      <td>2</td>\n",
       "      <td>2</td>\n",
       "    </tr>\n",
       "    <tr>\n",
       "      <th>...</th>\n",
       "      <td>...</td>\n",
       "      <td>...</td>\n",
       "      <td>...</td>\n",
       "      <td>...</td>\n",
       "      <td>...</td>\n",
       "      <td>...</td>\n",
       "      <td>...</td>\n",
       "      <td>...</td>\n",
       "      <td>...</td>\n",
       "      <td>...</td>\n",
       "      <td>...</td>\n",
       "      <td>...</td>\n",
       "      <td>...</td>\n",
       "      <td>...</td>\n",
       "      <td>...</td>\n",
       "      <td>...</td>\n",
       "      <td>...</td>\n",
       "      <td>...</td>\n",
       "    </tr>\n",
       "    <tr>\n",
       "      <th>1465</th>\n",
       "      <td>36.0</td>\n",
       "      <td>23</td>\n",
       "      <td>2061</td>\n",
       "      <td>3</td>\n",
       "      <td>41</td>\n",
       "      <td>4</td>\n",
       "      <td>4</td>\n",
       "      <td>2571</td>\n",
       "      <td>4</td>\n",
       "      <td>3</td>\n",
       "      <td>3</td>\n",
       "      <td>17</td>\n",
       "      <td>3</td>\n",
       "      <td>3</td>\n",
       "      <td>5</td>\n",
       "      <td>2</td>\n",
       "      <td>0</td>\n",
       "      <td>3</td>\n",
       "    </tr>\n",
       "    <tr>\n",
       "      <th>1466</th>\n",
       "      <td>39.0</td>\n",
       "      <td>6</td>\n",
       "      <td>2062</td>\n",
       "      <td>4</td>\n",
       "      <td>42</td>\n",
       "      <td>2</td>\n",
       "      <td>1</td>\n",
       "      <td>9991</td>\n",
       "      <td>4</td>\n",
       "      <td>3</td>\n",
       "      <td>1</td>\n",
       "      <td>9</td>\n",
       "      <td>5</td>\n",
       "      <td>3</td>\n",
       "      <td>7</td>\n",
       "      <td>7</td>\n",
       "      <td>1</td>\n",
       "      <td>7</td>\n",
       "    </tr>\n",
       "    <tr>\n",
       "      <th>1467</th>\n",
       "      <td>27.0</td>\n",
       "      <td>4</td>\n",
       "      <td>2064</td>\n",
       "      <td>2</td>\n",
       "      <td>87</td>\n",
       "      <td>4</td>\n",
       "      <td>2</td>\n",
       "      <td>6142</td>\n",
       "      <td>1</td>\n",
       "      <td>4</td>\n",
       "      <td>2</td>\n",
       "      <td>6</td>\n",
       "      <td>0</td>\n",
       "      <td>3</td>\n",
       "      <td>6</td>\n",
       "      <td>2</td>\n",
       "      <td>0</td>\n",
       "      <td>3</td>\n",
       "    </tr>\n",
       "    <tr>\n",
       "      <th>1468</th>\n",
       "      <td>49.0</td>\n",
       "      <td>2</td>\n",
       "      <td>2065</td>\n",
       "      <td>4</td>\n",
       "      <td>63</td>\n",
       "      <td>2</td>\n",
       "      <td>2</td>\n",
       "      <td>5390</td>\n",
       "      <td>2</td>\n",
       "      <td>3</td>\n",
       "      <td>4</td>\n",
       "      <td>17</td>\n",
       "      <td>3</td>\n",
       "      <td>2</td>\n",
       "      <td>9</td>\n",
       "      <td>6</td>\n",
       "      <td>0</td>\n",
       "      <td>8</td>\n",
       "    </tr>\n",
       "    <tr>\n",
       "      <th>1469</th>\n",
       "      <td>34.0</td>\n",
       "      <td>8</td>\n",
       "      <td>2068</td>\n",
       "      <td>2</td>\n",
       "      <td>82</td>\n",
       "      <td>4</td>\n",
       "      <td>3</td>\n",
       "      <td>4404</td>\n",
       "      <td>2</td>\n",
       "      <td>3</td>\n",
       "      <td>1</td>\n",
       "      <td>6</td>\n",
       "      <td>3</td>\n",
       "      <td>4</td>\n",
       "      <td>4</td>\n",
       "      <td>3</td>\n",
       "      <td>1</td>\n",
       "      <td>2</td>\n",
       "    </tr>\n",
       "  </tbody>\n",
       "</table>\n",
       "<p>1470 rows × 18 columns</p>\n",
       "</div>"
      ],
      "text/plain": [
       "       Age  DistanceFromHome  EmployeeNumber  EnvironmentSatisfaction  \\\n",
       "0     41.0                 1               1                        2   \n",
       "1     49.0                 8               2                        3   \n",
       "2     37.0                 2               4                        4   \n",
       "3     33.0                 3               5                        4   \n",
       "4     27.0                 2               7                        1   \n",
       "...    ...               ...             ...                      ...   \n",
       "1465  36.0                23            2061                        3   \n",
       "1466  39.0                 6            2062                        4   \n",
       "1467  27.0                 4            2064                        2   \n",
       "1468  49.0                 2            2065                        4   \n",
       "1469  34.0                 8            2068                        2   \n",
       "\n",
       "      HourlyRate  JobInvolvement  JobSatisfaction  MonthlyIncome  \\\n",
       "0             94               3                4           5993   \n",
       "1             61               2                2           5130   \n",
       "2             92               2                3           2090   \n",
       "3             56               3                3           2909   \n",
       "4             40               3                2           3468   \n",
       "...          ...             ...              ...            ...   \n",
       "1465          41               4                4           2571   \n",
       "1466          42               2                1           9991   \n",
       "1467          87               4                2           6142   \n",
       "1468          63               2                2           5390   \n",
       "1469          82               4                3           4404   \n",
       "\n",
       "      NumCompaniesWorked  PerformanceRating  RelationshipSatisfaction  \\\n",
       "0                      8                  3                         1   \n",
       "1                      1                  4                         4   \n",
       "2                      6                  3                         2   \n",
       "3                      1                  3                         3   \n",
       "4                      9                  3                         4   \n",
       "...                  ...                ...                       ...   \n",
       "1465                   4                  3                         3   \n",
       "1466                   4                  3                         1   \n",
       "1467                   1                  4                         2   \n",
       "1468                   2                  3                         4   \n",
       "1469                   2                  3                         1   \n",
       "\n",
       "      TotalWorkingYears  TrainingTimesLastYear  WorkLifeBalance  \\\n",
       "0                     8                      0                1   \n",
       "1                    10                      3                3   \n",
       "2                     7                      3                3   \n",
       "3                     8                      3                3   \n",
       "4                     6                      3                3   \n",
       "...                 ...                    ...              ...   \n",
       "1465                 17                      3                3   \n",
       "1466                  9                      5                3   \n",
       "1467                  6                      0                3   \n",
       "1468                 17                      3                2   \n",
       "1469                  6                      3                4   \n",
       "\n",
       "      YearsAtCompany  YearsInCurrentRole  YearsSinceLastPromotion  \\\n",
       "0                  6                   4                        0   \n",
       "1                 10                   7                        1   \n",
       "2                  0                   0                        0   \n",
       "3                  8                   7                        3   \n",
       "4                  2                   2                        2   \n",
       "...              ...                 ...                      ...   \n",
       "1465               5                   2                        0   \n",
       "1466               7                   7                        1   \n",
       "1467               6                   2                        0   \n",
       "1468               9                   6                        0   \n",
       "1469               4                   3                        1   \n",
       "\n",
       "      YearsWithCurrManager  \n",
       "0                        5  \n",
       "1                        7  \n",
       "2                        0  \n",
       "3                        0  \n",
       "4                        2  \n",
       "...                    ...  \n",
       "1465                     3  \n",
       "1466                     7  \n",
       "1467                     3  \n",
       "1468                     8  \n",
       "1469                     2  \n",
       "\n",
       "[1470 rows x 18 columns]"
      ]
     },
     "execution_count": 7,
     "metadata": {},
     "output_type": "execute_result"
    }
   ],
   "source": [
    "Numcol = df.select_dtypes(exclude=\"object\")\n",
    "Numcol"
   ]
  },
  {
   "cell_type": "code",
   "execution_count": 8,
   "id": "28dd2173-9f64-411e-ba39-3087bf4afbb7",
   "metadata": {},
   "outputs": [
    {
     "data": {
      "text/html": [
       "<div>\n",
       "<style scoped>\n",
       "    .dataframe tbody tr th:only-of-type {\n",
       "        vertical-align: middle;\n",
       "    }\n",
       "\n",
       "    .dataframe tbody tr th {\n",
       "        vertical-align: top;\n",
       "    }\n",
       "\n",
       "    .dataframe thead th {\n",
       "        text-align: right;\n",
       "    }\n",
       "</style>\n",
       "<table border=\"1\" class=\"dataframe\">\n",
       "  <thead>\n",
       "    <tr style=\"text-align: right;\">\n",
       "      <th></th>\n",
       "      <th>Attrition</th>\n",
       "      <th>BusinessTravel</th>\n",
       "      <th>Department</th>\n",
       "      <th>EducationField</th>\n",
       "      <th>Gender</th>\n",
       "      <th>JobRole</th>\n",
       "      <th>MaritalStatus</th>\n",
       "      <th>Over18</th>\n",
       "      <th>OverTime</th>\n",
       "    </tr>\n",
       "  </thead>\n",
       "  <tbody>\n",
       "    <tr>\n",
       "      <th>0</th>\n",
       "      <td>Yes</td>\n",
       "      <td>Travel_Rarely</td>\n",
       "      <td>Sales</td>\n",
       "      <td>Life Sciences</td>\n",
       "      <td>Female</td>\n",
       "      <td>Sales Executive</td>\n",
       "      <td>Single</td>\n",
       "      <td>Y</td>\n",
       "      <td>Yes</td>\n",
       "    </tr>\n",
       "    <tr>\n",
       "      <th>1</th>\n",
       "      <td>No</td>\n",
       "      <td>Travel_Frequently</td>\n",
       "      <td>Research &amp; Development</td>\n",
       "      <td>Life Sciences</td>\n",
       "      <td>Male</td>\n",
       "      <td>Research Scientist</td>\n",
       "      <td>Married</td>\n",
       "      <td>Y</td>\n",
       "      <td>No</td>\n",
       "    </tr>\n",
       "    <tr>\n",
       "      <th>2</th>\n",
       "      <td>Yes</td>\n",
       "      <td>Travel_Rarely</td>\n",
       "      <td>Research &amp; Development</td>\n",
       "      <td>Other</td>\n",
       "      <td>Male</td>\n",
       "      <td>Laboratory Technician</td>\n",
       "      <td>Single</td>\n",
       "      <td>Y</td>\n",
       "      <td>Yes</td>\n",
       "    </tr>\n",
       "    <tr>\n",
       "      <th>3</th>\n",
       "      <td>No</td>\n",
       "      <td>Travel_Frequently</td>\n",
       "      <td>Research &amp; Development</td>\n",
       "      <td>Life Sciences</td>\n",
       "      <td>Female</td>\n",
       "      <td>Research Scientist</td>\n",
       "      <td>Married</td>\n",
       "      <td>Y</td>\n",
       "      <td>Yes</td>\n",
       "    </tr>\n",
       "    <tr>\n",
       "      <th>4</th>\n",
       "      <td>No</td>\n",
       "      <td>Travel_Rarely</td>\n",
       "      <td>Research &amp; Development</td>\n",
       "      <td>Medical</td>\n",
       "      <td>Male</td>\n",
       "      <td>Laboratory Technician</td>\n",
       "      <td>Married</td>\n",
       "      <td>Y</td>\n",
       "      <td>No</td>\n",
       "    </tr>\n",
       "    <tr>\n",
       "      <th>...</th>\n",
       "      <td>...</td>\n",
       "      <td>...</td>\n",
       "      <td>...</td>\n",
       "      <td>...</td>\n",
       "      <td>...</td>\n",
       "      <td>...</td>\n",
       "      <td>...</td>\n",
       "      <td>...</td>\n",
       "      <td>...</td>\n",
       "    </tr>\n",
       "    <tr>\n",
       "      <th>1465</th>\n",
       "      <td>No</td>\n",
       "      <td>NaN</td>\n",
       "      <td>Research &amp; Development</td>\n",
       "      <td>Medical</td>\n",
       "      <td>Male</td>\n",
       "      <td>Laboratory Technician</td>\n",
       "      <td>Married</td>\n",
       "      <td>Y</td>\n",
       "      <td>No</td>\n",
       "    </tr>\n",
       "    <tr>\n",
       "      <th>1466</th>\n",
       "      <td>No</td>\n",
       "      <td>Travel_Rarely</td>\n",
       "      <td>Research &amp; Development</td>\n",
       "      <td>Medical</td>\n",
       "      <td>Male</td>\n",
       "      <td>Healthcare Representative</td>\n",
       "      <td>Married</td>\n",
       "      <td>Y</td>\n",
       "      <td>No</td>\n",
       "    </tr>\n",
       "    <tr>\n",
       "      <th>1467</th>\n",
       "      <td>No</td>\n",
       "      <td>Travel_Rarely</td>\n",
       "      <td>Research &amp; Development</td>\n",
       "      <td>Life Sciences</td>\n",
       "      <td>Male</td>\n",
       "      <td>Manufacturing Director</td>\n",
       "      <td>Married</td>\n",
       "      <td>Y</td>\n",
       "      <td>Yes</td>\n",
       "    </tr>\n",
       "    <tr>\n",
       "      <th>1468</th>\n",
       "      <td>No</td>\n",
       "      <td>Travel_Frequently</td>\n",
       "      <td>Sales</td>\n",
       "      <td>Medical</td>\n",
       "      <td>Male</td>\n",
       "      <td>Sales Executive</td>\n",
       "      <td>Married</td>\n",
       "      <td>Y</td>\n",
       "      <td>No</td>\n",
       "    </tr>\n",
       "    <tr>\n",
       "      <th>1469</th>\n",
       "      <td>No</td>\n",
       "      <td>Travel_Rarely</td>\n",
       "      <td>Research &amp; Development</td>\n",
       "      <td>Medical</td>\n",
       "      <td>Male</td>\n",
       "      <td>Laboratory Technician</td>\n",
       "      <td>Married</td>\n",
       "      <td>Y</td>\n",
       "      <td>No</td>\n",
       "    </tr>\n",
       "  </tbody>\n",
       "</table>\n",
       "<p>1470 rows × 9 columns</p>\n",
       "</div>"
      ],
      "text/plain": [
       "     Attrition     BusinessTravel              Department EducationField  \\\n",
       "0          Yes      Travel_Rarely                   Sales  Life Sciences   \n",
       "1           No  Travel_Frequently  Research & Development  Life Sciences   \n",
       "2          Yes      Travel_Rarely  Research & Development          Other   \n",
       "3           No  Travel_Frequently  Research & Development  Life Sciences   \n",
       "4           No      Travel_Rarely  Research & Development        Medical   \n",
       "...        ...                ...                     ...            ...   \n",
       "1465        No                NaN  Research & Development        Medical   \n",
       "1466        No      Travel_Rarely  Research & Development        Medical   \n",
       "1467        No      Travel_Rarely  Research & Development  Life Sciences   \n",
       "1468        No  Travel_Frequently                   Sales        Medical   \n",
       "1469        No      Travel_Rarely  Research & Development        Medical   \n",
       "\n",
       "      Gender                    JobRole MaritalStatus Over18 OverTime  \n",
       "0     Female            Sales Executive        Single      Y      Yes  \n",
       "1       Male         Research Scientist       Married      Y       No  \n",
       "2       Male      Laboratory Technician        Single      Y      Yes  \n",
       "3     Female         Research Scientist       Married      Y      Yes  \n",
       "4       Male      Laboratory Technician       Married      Y       No  \n",
       "...      ...                        ...           ...    ...      ...  \n",
       "1465    Male      Laboratory Technician       Married      Y       No  \n",
       "1466    Male  Healthcare Representative       Married      Y       No  \n",
       "1467    Male     Manufacturing Director       Married      Y      Yes  \n",
       "1468    Male            Sales Executive       Married      Y       No  \n",
       "1469    Male      Laboratory Technician       Married      Y       No  \n",
       "\n",
       "[1470 rows x 9 columns]"
      ]
     },
     "execution_count": 8,
     "metadata": {},
     "output_type": "execute_result"
    }
   ],
   "source": [
    "Catcol = df.select_dtypes(include=\"object\")\n",
    "Catcol"
   ]
  },
  {
   "cell_type": "code",
   "execution_count": 9,
   "id": "5ae07777-312a-4b64-a887-a8b71e7746a6",
   "metadata": {},
   "outputs": [],
   "source": [
    "# Task 2\n",
    "Mylist_Num=[]\n",
    "Mylist_Col=[]\n",
    "def func1(): \n",
    "    Numcol = df.select_dtypes(exclude=\"object\")\n",
    "    Catcol = df.select_dtypes(include=\"object\")\n",
    "    Mylist_Num.append(Numcol) \n",
    "    Mylist_Col.append(Catcol) \n",
    "    print(Mylist_Num)\n",
    "    print(\"---------------------------------------------------\")\n",
    "    print(Mylist_Col)\n"
   ]
  },
  {
   "cell_type": "code",
   "execution_count": 10,
   "id": "4b4fb3d1-fe9f-40d2-8d80-9c0941d35a94",
   "metadata": {},
   "outputs": [
    {
     "name": "stdout",
     "output_type": "stream",
     "text": [
      "[       Age  DistanceFromHome  EmployeeNumber  EnvironmentSatisfaction  \\\n",
      "0     41.0                 1               1                        2   \n",
      "1     49.0                 8               2                        3   \n",
      "2     37.0                 2               4                        4   \n",
      "3     33.0                 3               5                        4   \n",
      "4     27.0                 2               7                        1   \n",
      "...    ...               ...             ...                      ...   \n",
      "1465  36.0                23            2061                        3   \n",
      "1466  39.0                 6            2062                        4   \n",
      "1467  27.0                 4            2064                        2   \n",
      "1468  49.0                 2            2065                        4   \n",
      "1469  34.0                 8            2068                        2   \n",
      "\n",
      "      HourlyRate  JobInvolvement  JobSatisfaction  MonthlyIncome  \\\n",
      "0             94               3                4           5993   \n",
      "1             61               2                2           5130   \n",
      "2             92               2                3           2090   \n",
      "3             56               3                3           2909   \n",
      "4             40               3                2           3468   \n",
      "...          ...             ...              ...            ...   \n",
      "1465          41               4                4           2571   \n",
      "1466          42               2                1           9991   \n",
      "1467          87               4                2           6142   \n",
      "1468          63               2                2           5390   \n",
      "1469          82               4                3           4404   \n",
      "\n",
      "      NumCompaniesWorked  PerformanceRating  RelationshipSatisfaction  \\\n",
      "0                      8                  3                         1   \n",
      "1                      1                  4                         4   \n",
      "2                      6                  3                         2   \n",
      "3                      1                  3                         3   \n",
      "4                      9                  3                         4   \n",
      "...                  ...                ...                       ...   \n",
      "1465                   4                  3                         3   \n",
      "1466                   4                  3                         1   \n",
      "1467                   1                  4                         2   \n",
      "1468                   2                  3                         4   \n",
      "1469                   2                  3                         1   \n",
      "\n",
      "      TotalWorkingYears  TrainingTimesLastYear  WorkLifeBalance  \\\n",
      "0                     8                      0                1   \n",
      "1                    10                      3                3   \n",
      "2                     7                      3                3   \n",
      "3                     8                      3                3   \n",
      "4                     6                      3                3   \n",
      "...                 ...                    ...              ...   \n",
      "1465                 17                      3                3   \n",
      "1466                  9                      5                3   \n",
      "1467                  6                      0                3   \n",
      "1468                 17                      3                2   \n",
      "1469                  6                      3                4   \n",
      "\n",
      "      YearsAtCompany  YearsInCurrentRole  YearsSinceLastPromotion  \\\n",
      "0                  6                   4                        0   \n",
      "1                 10                   7                        1   \n",
      "2                  0                   0                        0   \n",
      "3                  8                   7                        3   \n",
      "4                  2                   2                        2   \n",
      "...              ...                 ...                      ...   \n",
      "1465               5                   2                        0   \n",
      "1466               7                   7                        1   \n",
      "1467               6                   2                        0   \n",
      "1468               9                   6                        0   \n",
      "1469               4                   3                        1   \n",
      "\n",
      "      YearsWithCurrManager  \n",
      "0                        5  \n",
      "1                        7  \n",
      "2                        0  \n",
      "3                        0  \n",
      "4                        2  \n",
      "...                    ...  \n",
      "1465                     3  \n",
      "1466                     7  \n",
      "1467                     3  \n",
      "1468                     8  \n",
      "1469                     2  \n",
      "\n",
      "[1470 rows x 18 columns]]\n",
      "---------------------------------------------------\n",
      "[     Attrition     BusinessTravel              Department EducationField  \\\n",
      "0          Yes      Travel_Rarely                   Sales  Life Sciences   \n",
      "1           No  Travel_Frequently  Research & Development  Life Sciences   \n",
      "2          Yes      Travel_Rarely  Research & Development          Other   \n",
      "3           No  Travel_Frequently  Research & Development  Life Sciences   \n",
      "4           No      Travel_Rarely  Research & Development        Medical   \n",
      "...        ...                ...                     ...            ...   \n",
      "1465        No                NaN  Research & Development        Medical   \n",
      "1466        No      Travel_Rarely  Research & Development        Medical   \n",
      "1467        No      Travel_Rarely  Research & Development  Life Sciences   \n",
      "1468        No  Travel_Frequently                   Sales        Medical   \n",
      "1469        No      Travel_Rarely  Research & Development        Medical   \n",
      "\n",
      "      Gender                    JobRole MaritalStatus Over18 OverTime  \n",
      "0     Female            Sales Executive        Single      Y      Yes  \n",
      "1       Male         Research Scientist       Married      Y       No  \n",
      "2       Male      Laboratory Technician        Single      Y      Yes  \n",
      "3     Female         Research Scientist       Married      Y      Yes  \n",
      "4       Male      Laboratory Technician       Married      Y       No  \n",
      "...      ...                        ...           ...    ...      ...  \n",
      "1465    Male      Laboratory Technician       Married      Y       No  \n",
      "1466    Male  Healthcare Representative       Married      Y       No  \n",
      "1467    Male     Manufacturing Director       Married      Y      Yes  \n",
      "1468    Male            Sales Executive       Married      Y       No  \n",
      "1469    Male      Laboratory Technician       Married      Y       No  \n",
      "\n",
      "[1470 rows x 9 columns]]\n"
     ]
    }
   ],
   "source": [
    "func1()"
   ]
  },
  {
   "cell_type": "code",
   "execution_count": 147,
   "id": "1f352e42-f8c3-41bc-a02e-dfc75a207231",
   "metadata": {},
   "outputs": [
    {
     "data": {
      "text/plain": [
       "[       Age  DistanceFromHome  EmployeeNumber  EnvironmentSatisfaction  \\\n",
       " 0     41.0                 1               1                        2   \n",
       " 1     49.0                 8               2                        3   \n",
       " 2     37.0                 2               4                        4   \n",
       " 3     33.0                 3               5                        4   \n",
       " 4     27.0                 2               7                        1   \n",
       " ...    ...               ...             ...                      ...   \n",
       " 1465  36.0                23            2061                        3   \n",
       " 1466  39.0                 6            2062                        4   \n",
       " 1467  27.0                 4            2064                        2   \n",
       " 1468  49.0                 2            2065                        4   \n",
       " 1469  34.0                 8            2068                        2   \n",
       " \n",
       "       HourlyRate  JobInvolvement  JobSatisfaction  MonthlyIncome  \\\n",
       " 0             94               3                4           5993   \n",
       " 1             61               2                2           5130   \n",
       " 2             92               2                3           2090   \n",
       " 3             56               3                3           2909   \n",
       " 4             40               3                2           3468   \n",
       " ...          ...             ...              ...            ...   \n",
       " 1465          41               4                4           2571   \n",
       " 1466          42               2                1           9991   \n",
       " 1467          87               4                2           6142   \n",
       " 1468          63               2                2           5390   \n",
       " 1469          82               4                3           4404   \n",
       " \n",
       "       NumCompaniesWorked  PerformanceRating  RelationshipSatisfaction  \\\n",
       " 0                      8                  3                         1   \n",
       " 1                      1                  4                         4   \n",
       " 2                      6                  3                         2   \n",
       " 3                      1                  3                         3   \n",
       " 4                      9                  3                         4   \n",
       " ...                  ...                ...                       ...   \n",
       " 1465                   4                  3                         3   \n",
       " 1466                   4                  3                         1   \n",
       " 1467                   1                  4                         2   \n",
       " 1468                   2                  3                         4   \n",
       " 1469                   2                  3                         1   \n",
       " \n",
       "       TotalWorkingYears  TrainingTimesLastYear  WorkLifeBalance  \\\n",
       " 0                     8                      0                1   \n",
       " 1                    10                      3                3   \n",
       " 2                     7                      3                3   \n",
       " 3                     8                      3                3   \n",
       " 4                     6                      3                3   \n",
       " ...                 ...                    ...              ...   \n",
       " 1465                 17                      3                3   \n",
       " 1466                  9                      5                3   \n",
       " 1467                  6                      0                3   \n",
       " 1468                 17                      3                2   \n",
       " 1469                  6                      3                4   \n",
       " \n",
       "       YearsAtCompany  YearsInCurrentRole  YearsSinceLastPromotion  \\\n",
       " 0                  6                   4                        0   \n",
       " 1                 10                   7                        1   \n",
       " 2                  0                   0                        0   \n",
       " 3                  8                   7                        3   \n",
       " 4                  2                   2                        2   \n",
       " ...              ...                 ...                      ...   \n",
       " 1465               5                   2                        0   \n",
       " 1466               7                   7                        1   \n",
       " 1467               6                   2                        0   \n",
       " 1468               9                   6                        0   \n",
       " 1469               4                   3                        1   \n",
       " \n",
       "       YearsWithCurrManager  \n",
       " 0                        5  \n",
       " 1                        7  \n",
       " 2                        0  \n",
       " 3                        0  \n",
       " 4                        2  \n",
       " ...                    ...  \n",
       " 1465                     3  \n",
       " 1466                     7  \n",
       " 1467                     3  \n",
       " 1468                     8  \n",
       " 1469                     2  \n",
       " \n",
       " [1470 rows x 18 columns]]"
      ]
     },
     "execution_count": 147,
     "metadata": {},
     "output_type": "execute_result"
    }
   ],
   "source": [
    "Mylist_Num"
   ]
  },
  {
   "cell_type": "code",
   "execution_count": 11,
   "id": "3830c103-e681-43f2-808d-a4f8209559b8",
   "metadata": {},
   "outputs": [
    {
     "name": "stdout",
     "output_type": "stream",
     "text": [
      "Numerical                 Categorical\n",
      "------------------------  --------------\n",
      "Age                       Attrition\n",
      "DistanceFromHome          BusinessTravel\n",
      "EmployeeNumber            Department\n",
      "EnvironmentSatisfaction   EducationField\n",
      "HourlyRate                Gender\n",
      "JobInvolvement            JobRole\n",
      "JobSatisfaction           MaritalStatus\n",
      "MonthlyIncome             Over18\n",
      "NumCompaniesWorked        OverTime\n",
      "PerformanceRating\n",
      "RelationshipSatisfaction\n",
      "TotalWorkingYears\n",
      "TrainingTimesLastYear\n",
      "WorkLifeBalance\n",
      "YearsAtCompany\n",
      "YearsInCurrentRole\n",
      "YearsSinceLastPromotion\n",
      "YearsWithCurrManager\n"
     ]
    }
   ],
   "source": [
    "print(tabulate({\"Numerical\":Numcol,\"Categorical\":Catcol},headers=[\"Numerical\",\"Categorical\"]))"
   ]
  },
  {
   "cell_type": "code",
   "execution_count": 12,
   "id": "55e28f84-ee80-4581-a96e-bc31286f34f1",
   "metadata": {},
   "outputs": [],
   "source": [
    "# Task 3\n",
    "def info_of_cat(col):\n",
    "    print(f\"The unique values in the {col} are:{df[col].nunique()}\")\n",
    "    print(f\"The mode values in the {col} are:{df[col].mode()[0]}\")\n",
    "    print(f\"The null values in the {col} are:{df[col].isnull().sum()}\")"
   ]
  },
  {
   "cell_type": "code",
   "execution_count": 13,
   "id": "8e74d918-400a-4aa5-9740-e07bce79b8e8",
   "metadata": {},
   "outputs": [
    {
     "name": "stdout",
     "output_type": "stream",
     "text": [
      "The unique values in the Attrition are:2\n",
      "The mode values in the Attrition are:No\n",
      "The null values in the Attrition are:0\n"
     ]
    }
   ],
   "source": [
    "info_of_cat(\"Attrition\")"
   ]
  },
  {
   "cell_type": "code",
   "execution_count": 14,
   "id": "a3eb318a-479e-4119-809e-b5162c3fb5eb",
   "metadata": {},
   "outputs": [
    {
     "name": "stdout",
     "output_type": "stream",
     "text": [
      "The unique values in the BusinessTravel are:3\n",
      "The mode values in the BusinessTravel are:Travel_Rarely\n",
      "The null values in the BusinessTravel are:30\n"
     ]
    }
   ],
   "source": [
    "info_of_cat(\"BusinessTravel\")"
   ]
  },
  {
   "cell_type": "code",
   "execution_count": 15,
   "id": "bdf38b60-680e-4ec9-b3e7-685775e3e952",
   "metadata": {},
   "outputs": [
    {
     "name": "stdout",
     "output_type": "stream",
     "text": [
      "The unique values in the Department are:3\n",
      "The mode values in the Department are:Research & Development\n",
      "The null values in the Department are:4\n"
     ]
    }
   ],
   "source": [
    "info_of_cat(\"Department\")"
   ]
  },
  {
   "cell_type": "code",
   "execution_count": 16,
   "id": "69df8d5a-4738-41c5-a1b0-a6b6cf9df367",
   "metadata": {},
   "outputs": [
    {
     "name": "stdout",
     "output_type": "stream",
     "text": [
      "The unique values in the EducationField are:6\n",
      "The mode values in the EducationField are:Life Sciences\n",
      "The null values in the EducationField are:12\n"
     ]
    }
   ],
   "source": [
    "info_of_cat(\"EducationField\")"
   ]
  },
  {
   "cell_type": "code",
   "execution_count": 17,
   "id": "8b4ca444-c784-479c-bcc7-5b2e5813d891",
   "metadata": {},
   "outputs": [
    {
     "name": "stdout",
     "output_type": "stream",
     "text": [
      "The unique values in the Gender are:2\n",
      "The mode values in the Gender are:Male\n",
      "The null values in the Gender are:45\n"
     ]
    }
   ],
   "source": [
    "info_of_cat(\"Gender\")"
   ]
  },
  {
   "cell_type": "code",
   "execution_count": 18,
   "id": "91e4eb9a-2d16-4b3f-8c0d-f54c06fedd36",
   "metadata": {},
   "outputs": [
    {
     "name": "stdout",
     "output_type": "stream",
     "text": [
      "The unique values in the JobRole are:9\n",
      "The mode values in the JobRole are:Sales Executive\n",
      "The null values in the JobRole are:10\n"
     ]
    }
   ],
   "source": [
    "info_of_cat(\"JobRole\")"
   ]
  },
  {
   "cell_type": "code",
   "execution_count": 19,
   "id": "281fe10c-2473-4ad6-bea7-d6c1911cef67",
   "metadata": {},
   "outputs": [
    {
     "name": "stdout",
     "output_type": "stream",
     "text": [
      "The unique values in the MaritalStatus are:3\n",
      "The mode values in the MaritalStatus are:Married\n",
      "The null values in the MaritalStatus are:56\n"
     ]
    }
   ],
   "source": [
    "info_of_cat(\"MaritalStatus\")"
   ]
  },
  {
   "cell_type": "code",
   "execution_count": 20,
   "id": "4a21e616-5aa3-4caa-88b8-53757fe88643",
   "metadata": {},
   "outputs": [
    {
     "name": "stdout",
     "output_type": "stream",
     "text": [
      "The unique values in the Over18 are:1\n",
      "The mode values in the Over18 are:Y\n",
      "The null values in the Over18 are:54\n"
     ]
    }
   ],
   "source": [
    "info_of_cat(\"Over18\")"
   ]
  },
  {
   "cell_type": "code",
   "execution_count": 21,
   "id": "3ea8a4c9-1e5b-4e11-8219-cfa6a9fec06e",
   "metadata": {},
   "outputs": [
    {
     "name": "stdout",
     "output_type": "stream",
     "text": [
      "The unique values in the OverTime are:2\n",
      "The mode values in the OverTime are:No\n",
      "The null values in the OverTime are:0\n"
     ]
    }
   ],
   "source": [
    "info_of_cat(\"OverTime\")"
   ]
  },
  {
   "cell_type": "code",
   "execution_count": 22,
   "id": "8eb240f3-ee9e-4ccd-b8bc-82808f47dfbf",
   "metadata": {},
   "outputs": [
    {
     "data": {
      "text/plain": [
       "Age                         24\n",
       "Attrition                    0\n",
       "BusinessTravel              30\n",
       "Department                   4\n",
       "DistanceFromHome             0\n",
       "EducationField              12\n",
       "EmployeeNumber               0\n",
       "EnvironmentSatisfaction      0\n",
       "Gender                      45\n",
       "HourlyRate                   0\n",
       "JobInvolvement               0\n",
       "JobRole                     10\n",
       "JobSatisfaction              0\n",
       "MaritalStatus               56\n",
       "MonthlyIncome                0\n",
       "NumCompaniesWorked           0\n",
       "Over18                      54\n",
       "OverTime                     0\n",
       "PerformanceRating            0\n",
       "RelationshipSatisfaction     0\n",
       "TotalWorkingYears            0\n",
       "TrainingTimesLastYear        0\n",
       "WorkLifeBalance              0\n",
       "YearsAtCompany               0\n",
       "YearsInCurrentRole           0\n",
       "YearsSinceLastPromotion      0\n",
       "YearsWithCurrManager         0\n",
       "dtype: int64"
      ]
     },
     "execution_count": 22,
     "metadata": {},
     "output_type": "execute_result"
    }
   ],
   "source": [
    "df.isnull().sum()"
   ]
  },
  {
   "cell_type": "code",
   "execution_count": 23,
   "id": "76aa3298-a002-4737-8ed9-b51514a40340",
   "metadata": {},
   "outputs": [
    {
     "data": {
      "text/plain": [
       "'Travel_Rarely'"
      ]
     },
     "execution_count": 23,
     "metadata": {},
     "output_type": "execute_result"
    }
   ],
   "source": [
    "df[\"BusinessTravel\"].mode()[0]"
   ]
  },
  {
   "cell_type": "code",
   "execution_count": 24,
   "id": "95612994-1db1-430d-bde3-780721be977d",
   "metadata": {},
   "outputs": [
    {
     "data": {
      "text/plain": [
       "'Research & Development'"
      ]
     },
     "execution_count": 24,
     "metadata": {},
     "output_type": "execute_result"
    }
   ],
   "source": [
    "df[\"Department\"].mode()[0]"
   ]
  },
  {
   "cell_type": "code",
   "execution_count": 25,
   "id": "61e53631-7af5-48b7-9c6d-84cd1e4c27fe",
   "metadata": {},
   "outputs": [
    {
     "data": {
      "text/plain": [
       "'Life Sciences'"
      ]
     },
     "execution_count": 25,
     "metadata": {},
     "output_type": "execute_result"
    }
   ],
   "source": [
    "df[\"EducationField\"].mode()[0]"
   ]
  },
  {
   "cell_type": "code",
   "execution_count": 26,
   "id": "2dc4ddce-d786-4f99-99a2-b1c463da22f0",
   "metadata": {},
   "outputs": [
    {
     "data": {
      "text/plain": [
       "'Male'"
      ]
     },
     "execution_count": 26,
     "metadata": {},
     "output_type": "execute_result"
    }
   ],
   "source": [
    "df[\"Gender\"].mode()[0]"
   ]
  },
  {
   "cell_type": "code",
   "execution_count": 27,
   "id": "0b7e35b7-08fa-4f48-b3c2-66a28ecac437",
   "metadata": {},
   "outputs": [
    {
     "data": {
      "text/plain": [
       "'Sales Executive'"
      ]
     },
     "execution_count": 27,
     "metadata": {},
     "output_type": "execute_result"
    }
   ],
   "source": [
    "df[\"JobRole\"].mode()[0]"
   ]
  },
  {
   "cell_type": "code",
   "execution_count": 28,
   "id": "4015ae2a-771f-4451-a3fe-0200ba3ea0c1",
   "metadata": {},
   "outputs": [
    {
     "data": {
      "text/plain": [
       "'Married'"
      ]
     },
     "execution_count": 28,
     "metadata": {},
     "output_type": "execute_result"
    }
   ],
   "source": [
    "df[\"MaritalStatus\"].mode()[0]"
   ]
  },
  {
   "cell_type": "code",
   "execution_count": 29,
   "id": "7f96eb51-7012-4793-b6d9-3ee95b55a651",
   "metadata": {},
   "outputs": [
    {
     "data": {
      "text/plain": [
       "'Y'"
      ]
     },
     "execution_count": 29,
     "metadata": {},
     "output_type": "execute_result"
    }
   ],
   "source": [
    "df[\"Over18\"].mode()[0]"
   ]
  },
  {
   "cell_type": "code",
   "execution_count": 30,
   "id": "2ac00ab1-927b-4fea-b3d6-d9b5dc51be00",
   "metadata": {},
   "outputs": [],
   "source": [
    "df[\"BusinessTravel\"]=df[\"BusinessTravel\"].fillna(df[\"BusinessTravel\"].mode()[0])"
   ]
  },
  {
   "cell_type": "code",
   "execution_count": 31,
   "id": "5a616969-6905-4d01-85e6-f4efcfc95677",
   "metadata": {},
   "outputs": [],
   "source": [
    "df[\"Department\"]=df[\"Department\"].fillna(df[\"Department\"].mode()[0])"
   ]
  },
  {
   "cell_type": "code",
   "execution_count": 32,
   "id": "c5e15151-d7bc-47de-b1c4-79763e2dfbc7",
   "metadata": {},
   "outputs": [],
   "source": [
    "df[\"EducationField\"]=df[\"EducationField\"].fillna(df[\"EducationField\"].mode()[0])"
   ]
  },
  {
   "cell_type": "code",
   "execution_count": 33,
   "id": "0a02f17c-40d9-4b9a-9583-7cf3857a8ae4",
   "metadata": {},
   "outputs": [],
   "source": [
    "df[\"Gender\"]=df[\"Gender\"].fillna(df[\"Gender\"].mode()[0])"
   ]
  },
  {
   "cell_type": "code",
   "execution_count": 34,
   "id": "0a77e116-ec36-416a-ba70-6b904fd28bf5",
   "metadata": {},
   "outputs": [],
   "source": [
    "df[\"JobRole\"]=df[\"JobRole\"].fillna(df['JobRole'].mode()[0])"
   ]
  },
  {
   "cell_type": "code",
   "execution_count": 35,
   "id": "282f27b6-2f0b-49f3-b86a-e39dce4f692b",
   "metadata": {},
   "outputs": [],
   "source": [
    "df[\"MaritalStatus\"]=df['MaritalStatus'].fillna(df['MaritalStatus'].mode()[0])"
   ]
  },
  {
   "cell_type": "code",
   "execution_count": 36,
   "id": "f8aade6e-b7a7-4b6d-b93d-e93d7d9ff448",
   "metadata": {},
   "outputs": [],
   "source": [
    "df[\"Over18\"]=df[\"Over18\"].fillna(df[\"Over18\"].mode()[0])"
   ]
  },
  {
   "cell_type": "code",
   "execution_count": 37,
   "id": "6e16ae7e-71fd-45da-8e09-04718f1d018b",
   "metadata": {},
   "outputs": [
    {
     "data": {
      "image/png": "[encoded data removed]",
      "text/plain": [
       "<Figure size 1500x700 with 2 Axes>"
      ]
     },
     "metadata": {},
     "output_type": "display_data"
    }
   ],
   "source": [
    "# Task 4\n",
    "# Task 4(i)\n",
    "fig,ax=plt.subplots(1,2,figsize=(15,7))\n",
    "ax[0].set_title(\" Count of Attrited\")\n",
    "ax[1].set_title(\"Percentage of Attrited\")\n",
    "percentage=df[\"Attrition\"].value_counts()\n",
    "lables=list(df[\"Attrition\"].value_counts().index)\n",
    "sns.countplot(x=df['Attrition'],ax=ax[0])\n",
    "plt.pie(percentage,labels=lables,autopct=\"%.2f%%\")\n",
    "plt.show()"
   ]
  },
  {
   "cell_type": "code",
   "execution_count": 38,
   "id": "713b9ad3-bfb6-4ae0-b86b-f09182acd752",
   "metadata": {},
   "outputs": [
    {
     "data": {
      "image/png": "[encoded data removed]",
      "text/plain": [
       "<Figure size 1500x700 with 2 Axes>"
      ]
     },
     "metadata": {},
     "output_type": "display_data"
    }
   ],
   "source": [
    "# Task 4(ii)\n",
    "fig,ax=plt.subplots(1,2,figsize=(15,7))\n",
    "ax[0].set_title(\"Employee_count_by_business_Travel\")\n",
    "ax[1].set_title(\"Employee_percentage_by_business_Travel\")\n",
    "percentage=df[\"BusinessTravel\"].value_counts()\n",
    "lables=list(df[\"BusinessTravel\"].value_counts().index)\n",
    "sns.countplot(x=df[\"BusinessTravel\"],ax=ax[0])\n",
    "plt.pie(percentage,labels=lables,autopct=\"%.2f%%\")\n",
    "plt.show()"
   ]
  },
  {
   "cell_type": "code",
   "execution_count": 39,
   "id": "733eab55-f608-4600-ba3b-5d9964e97ea7",
   "metadata": {},
   "outputs": [
    {
     "data": {
      "image/png": "[encoded data removed]",
      "text/plain": [
       "<Figure size 1500x700 with 2 Axes>"
      ]
     },
     "metadata": {},
     "output_type": "display_data"
    }
   ],
   "source": [
    "# Task 4(iii)\n",
    "fig,ax=plt.subplots(1,2,figsize=(15,7))\n",
    "ax[0].set_title(\"Department_wise_Employee_count\")\n",
    "ax[1].set_title(\"Department_wise_Employee_Allocation\")\n",
    "percentage=df[\"Department\"].value_counts()\n",
    "lables=list(df[\"Department\"].value_counts().index)\n",
    "sns.countplot(x=df[\"Department\"],ax=ax[0])\n",
    "plt.pie(percentage,labels=lables,autopct=\"%.2f%%\")\n",
    "plt.show()"
   ]
  },
  {
   "cell_type": "code",
   "execution_count": 40,
   "id": "4a857d42-a43a-40e9-a2d8-b971027951df",
   "metadata": {},
   "outputs": [
    {
     "data": {
      "image/png": "[encoded data removed]",
      "text/plain": [
       "<Figure size 1500x700 with 2 Axes>"
      ]
     },
     "metadata": {},
     "output_type": "display_data"
    }
   ],
   "source": [
    "# Task 4(iv)\n",
    "fig,ax=plt.subplots(1,2,figsize=(15,7))\n",
    "ax[0].set_title(\"EducationalField wise Employee Count\")\n",
    "ax[1].set_title(\"percentage wise EducationaField wise Employee Count\")\n",
    "percentage=df[\"EducationField\"].value_counts()\n",
    "lables=list(df[\"EducationField\"].value_counts().index)\n",
    "sns.countplot(x=df[\"EducationField\"],ax=ax[0]) \n",
    "plt.pie(percentage,labels=lables,autopct=\"%.2f%%\")\n",
    "plt.show()"
   ]
  },
  {
   "cell_type": "code",
   "execution_count": 41,
   "id": "9dccdc75-f078-4c30-a183-4946bbee2dcf",
   "metadata": {},
   "outputs": [
    {
     "data": {
      "image/png": "[encoded data removed]",
      "text/plain": [
       "<Figure size 1500x700 with 1 Axes>"
      ]
     },
     "metadata": {},
     "output_type": "display_data"
    }
   ],
   "source": [
    "# Task 4(v):\n",
    "fig,ax=plt.subplots(1,figsize=(15,7))\n",
    "ax.set_title(\"Employee_count by Enviornment satisfaction\")\n",
    "sns.countplot(x=df[\"EnvironmentSatisfaction\"],ax=ax)\n",
    "for bar in ax.patches:\n",
    "    percentage=f\"{round(bar.get_height()/len(df),2)}\"\n",
    "    x=bar.get_x()+bar.get_width()/2\n",
    "    y=bar.get_height()\n",
    "    ax.annotate(percentage,(x,y),va=\"bottom\",ha=\"center\")\n",
    "plt.show()"
   ]
  },
  {
   "cell_type": "code",
   "execution_count": 42,
   "id": "d2ce955f-a385-4d66-a888-e709d26a13c1",
   "metadata": {},
   "outputs": [
    {
     "data": {
      "image/png": "[encoded data removed]",
      "text/plain": [
       "<Figure size 1500x700 with 1 Axes>"
      ]
     },
     "metadata": {},
     "output_type": "display_data"
    }
   ],
   "source": [
    "# Task 4(vi):\n",
    "fig,ax=plt.subplots(1,figsize=(15,7))\n",
    "ax.set_title(\"Gender wise  Employee_count \")\n",
    "sns.countplot(x=df[\"Gender\"],ax=ax)\n",
    "for bar in ax.patches:\n",
    "    percentage=f\"{round(bar.get_height()/len(df),2)}\"\n",
    "    x=bar.get_x()+bar.get_width() /2\n",
    "    y=bar.get_height()\n",
    "    ax.annotate(percentage,(x,y),va=\"bottom\",ha=\"center\")\n",
    "plt.show()"
   ]
  },
  {
   "cell_type": "code",
   "execution_count": 43,
   "id": "f6dab6ad-b77e-4b6f-b320-7446c9bf9903",
   "metadata": {},
   "outputs": [
    {
     "data": {
      "image/png": "[encoded data removed]",
      "text/plain": [
       "<Figure size 1500x700 with 1 Axes>"
      ]
     },
     "metadata": {},
     "output_type": "display_data"
    }
   ],
   "source": [
    "# Task 4(vii)\n",
    "# Task 4(v):\n",
    "fig,ax=plt.subplots(1,figsize=(15,7))\n",
    "ax.set_title(\" Marital status  by Employee_count \")\n",
    "sns.countplot(x=df[\"MaritalStatus\"],ax=ax)\n",
    "for bar in ax.patches:\n",
    "    percentage=f\"{round(bar.get_height()/len(df),2)}\"\n",
    "    x=bar.get_x()+bar.get_width()/2\n",
    "    y=bar.get_height()\n",
    "    ax.annotate(percentage,(x,y),va=\"bottom\",ha=\"center\")\n",
    "plt.show()"
   ]
  },
  {
   "cell_type": "code",
   "execution_count": 44,
   "id": "09aa4588-f3bb-4f3b-98e8-11d83ae50c6b",
   "metadata": {},
   "outputs": [
    {
     "data": {
      "image/png": "[encoded data removed]",
      "text/plain": [
       "<Figure size 1500x700 with 1 Axes>"
      ]
     },
     "metadata": {},
     "output_type": "display_data"
    }
   ],
   "source": [
    "# Task 4(viii):\n",
    "fig,ax=plt.subplots(1,figsize=(15,7))\n",
    "percentage=df[\"OverTime\"].value_counts()\n",
    "lables=list(df[\"OverTime\"].value_counts().index)\n",
    "plt.pie(percentage,labels=lables,autopct=\"%.2f%%\")\n",
    "plt.show()"
   ]
  },
  {
   "cell_type": "code",
   "execution_count": 45,
   "id": "f8d7a1be-e085-4d4c-915a-f4571eb7a051",
   "metadata": {},
   "outputs": [
    {
     "data": {
      "image/png": "[encoded data removed]",
      "text/plain": [
       "<Figure size 1500x700 with 1 Axes>"
      ]
     },
     "metadata": {},
     "output_type": "display_data"
    }
   ],
   "source": [
    "# Task 4(ix):\n",
    "fig,ax=plt.subplots(1,figsize=(15,7))\n",
    "percentage=df[\"PerformanceRating\"].value_counts()\n",
    "lables=list(df[\"PerformanceRating\"].value_counts().index)\n",
    "plt.pie(percentage,labels=lables,autopct=\"%.2f%%\")\n",
    "plt.show()"
   ]
  },
  {
   "cell_type": "code",
   "execution_count": 46,
   "id": "703ae57a-fa8e-42d0-84d0-9ba0b28c3c03",
   "metadata": {},
   "outputs": [
    {
     "data": {
      "image/png": "[encoded data removed]",
      "text/plain": [
       "<Figure size 1500x700 with 1 Axes>"
      ]
     },
     "metadata": {},
     "output_type": "display_data"
    }
   ],
   "source": [
    "# # Task 4(x):\n",
    "fig,ax=plt.subplots(1,figsize=(15,7))\n",
    "percentage=df[\"WorkLifeBalance\"].value_counts()\n",
    "lables=list(df[\"WorkLifeBalance\"].value_counts().index)\n",
    "plt.pie(percentage,labels=lables,autopct=\"%.2f%%\")\n",
    "plt.show()"
   ]
  },
  {
   "cell_type": "code",
   "execution_count": 47,
   "id": "0337bf2d-2782-4050-956e-480821ddbcd9",
   "metadata": {},
   "outputs": [
    {
     "data": {
      "text/html": [
       "<div>\n",
       "<style scoped>\n",
       "    .dataframe tbody tr th:only-of-type {\n",
       "        vertical-align: middle;\n",
       "    }\n",
       "\n",
       "    .dataframe tbody tr th {\n",
       "        vertical-align: top;\n",
       "    }\n",
       "\n",
       "    .dataframe thead th {\n",
       "        text-align: right;\n",
       "    }\n",
       "</style>\n",
       "<table border=\"1\" class=\"dataframe\">\n",
       "  <thead>\n",
       "    <tr style=\"text-align: right;\">\n",
       "      <th></th>\n",
       "      <th>Age</th>\n",
       "      <th>DistanceFromHome</th>\n",
       "      <th>EmployeeNumber</th>\n",
       "      <th>EnvironmentSatisfaction</th>\n",
       "      <th>HourlyRate</th>\n",
       "      <th>JobInvolvement</th>\n",
       "      <th>JobSatisfaction</th>\n",
       "      <th>MonthlyIncome</th>\n",
       "      <th>NumCompaniesWorked</th>\n",
       "      <th>PerformanceRating</th>\n",
       "      <th>RelationshipSatisfaction</th>\n",
       "      <th>TotalWorkingYears</th>\n",
       "      <th>TrainingTimesLastYear</th>\n",
       "      <th>WorkLifeBalance</th>\n",
       "      <th>YearsAtCompany</th>\n",
       "      <th>YearsInCurrentRole</th>\n",
       "      <th>YearsSinceLastPromotion</th>\n",
       "      <th>YearsWithCurrManager</th>\n",
       "    </tr>\n",
       "  </thead>\n",
       "  <tbody>\n",
       "    <tr>\n",
       "      <th>0</th>\n",
       "      <td>41.0</td>\n",
       "      <td>1</td>\n",
       "      <td>1</td>\n",
       "      <td>2</td>\n",
       "      <td>94</td>\n",
       "      <td>3</td>\n",
       "      <td>4</td>\n",
       "      <td>5993</td>\n",
       "      <td>8</td>\n",
       "      <td>3</td>\n",
       "      <td>1</td>\n",
       "      <td>8</td>\n",
       "      <td>0</td>\n",
       "      <td>1</td>\n",
       "      <td>6</td>\n",
       "      <td>4</td>\n",
       "      <td>0</td>\n",
       "      <td>5</td>\n",
       "    </tr>\n",
       "    <tr>\n",
       "      <th>1</th>\n",
       "      <td>49.0</td>\n",
       "      <td>8</td>\n",
       "      <td>2</td>\n",
       "      <td>3</td>\n",
       "      <td>61</td>\n",
       "      <td>2</td>\n",
       "      <td>2</td>\n",
       "      <td>5130</td>\n",
       "      <td>1</td>\n",
       "      <td>4</td>\n",
       "      <td>4</td>\n",
       "      <td>10</td>\n",
       "      <td>3</td>\n",
       "      <td>3</td>\n",
       "      <td>10</td>\n",
       "      <td>7</td>\n",
       "      <td>1</td>\n",
       "      <td>7</td>\n",
       "    </tr>\n",
       "    <tr>\n",
       "      <th>2</th>\n",
       "      <td>37.0</td>\n",
       "      <td>2</td>\n",
       "      <td>4</td>\n",
       "      <td>4</td>\n",
       "      <td>92</td>\n",
       "      <td>2</td>\n",
       "      <td>3</td>\n",
       "      <td>2090</td>\n",
       "      <td>6</td>\n",
       "      <td>3</td>\n",
       "      <td>2</td>\n",
       "      <td>7</td>\n",
       "      <td>3</td>\n",
       "      <td>3</td>\n",
       "      <td>0</td>\n",
       "      <td>0</td>\n",
       "      <td>0</td>\n",
       "      <td>0</td>\n",
       "    </tr>\n",
       "    <tr>\n",
       "      <th>3</th>\n",
       "      <td>33.0</td>\n",
       "      <td>3</td>\n",
       "      <td>5</td>\n",
       "      <td>4</td>\n",
       "      <td>56</td>\n",
       "      <td>3</td>\n",
       "      <td>3</td>\n",
       "      <td>2909</td>\n",
       "      <td>1</td>\n",
       "      <td>3</td>\n",
       "      <td>3</td>\n",
       "      <td>8</td>\n",
       "      <td>3</td>\n",
       "      <td>3</td>\n",
       "      <td>8</td>\n",
       "      <td>7</td>\n",
       "      <td>3</td>\n",
       "      <td>0</td>\n",
       "    </tr>\n",
       "    <tr>\n",
       "      <th>4</th>\n",
       "      <td>27.0</td>\n",
       "      <td>2</td>\n",
       "      <td>7</td>\n",
       "      <td>1</td>\n",
       "      <td>40</td>\n",
       "      <td>3</td>\n",
       "      <td>2</td>\n",
       "      <td>3468</td>\n",
       "      <td>9</td>\n",
       "      <td>3</td>\n",
       "      <td>4</td>\n",
       "      <td>6</td>\n",
       "      <td>3</td>\n",
       "      <td>3</td>\n",
       "      <td>2</td>\n",
       "      <td>2</td>\n",
       "      <td>2</td>\n",
       "      <td>2</td>\n",
       "    </tr>\n",
       "    <tr>\n",
       "      <th>...</th>\n",
       "      <td>...</td>\n",
       "      <td>...</td>\n",
       "      <td>...</td>\n",
       "      <td>...</td>\n",
       "      <td>...</td>\n",
       "      <td>...</td>\n",
       "      <td>...</td>\n",
       "      <td>...</td>\n",
       "      <td>...</td>\n",
       "      <td>...</td>\n",
       "      <td>...</td>\n",
       "      <td>...</td>\n",
       "      <td>...</td>\n",
       "      <td>...</td>\n",
       "      <td>...</td>\n",
       "      <td>...</td>\n",
       "      <td>...</td>\n",
       "      <td>...</td>\n",
       "    </tr>\n",
       "    <tr>\n",
       "      <th>1465</th>\n",
       "      <td>36.0</td>\n",
       "      <td>23</td>\n",
       "      <td>2061</td>\n",
       "      <td>3</td>\n",
       "      <td>41</td>\n",
       "      <td>4</td>\n",
       "      <td>4</td>\n",
       "      <td>2571</td>\n",
       "      <td>4</td>\n",
       "      <td>3</td>\n",
       "      <td>3</td>\n",
       "      <td>17</td>\n",
       "      <td>3</td>\n",
       "      <td>3</td>\n",
       "      <td>5</td>\n",
       "      <td>2</td>\n",
       "      <td>0</td>\n",
       "      <td>3</td>\n",
       "    </tr>\n",
       "    <tr>\n",
       "      <th>1466</th>\n",
       "      <td>39.0</td>\n",
       "      <td>6</td>\n",
       "      <td>2062</td>\n",
       "      <td>4</td>\n",
       "      <td>42</td>\n",
       "      <td>2</td>\n",
       "      <td>1</td>\n",
       "      <td>9991</td>\n",
       "      <td>4</td>\n",
       "      <td>3</td>\n",
       "      <td>1</td>\n",
       "      <td>9</td>\n",
       "      <td>5</td>\n",
       "      <td>3</td>\n",
       "      <td>7</td>\n",
       "      <td>7</td>\n",
       "      <td>1</td>\n",
       "      <td>7</td>\n",
       "    </tr>\n",
       "    <tr>\n",
       "      <th>1467</th>\n",
       "      <td>27.0</td>\n",
       "      <td>4</td>\n",
       "      <td>2064</td>\n",
       "      <td>2</td>\n",
       "      <td>87</td>\n",
       "      <td>4</td>\n",
       "      <td>2</td>\n",
       "      <td>6142</td>\n",
       "      <td>1</td>\n",
       "      <td>4</td>\n",
       "      <td>2</td>\n",
       "      <td>6</td>\n",
       "      <td>0</td>\n",
       "      <td>3</td>\n",
       "      <td>6</td>\n",
       "      <td>2</td>\n",
       "      <td>0</td>\n",
       "      <td>3</td>\n",
       "    </tr>\n",
       "    <tr>\n",
       "      <th>1468</th>\n",
       "      <td>49.0</td>\n",
       "      <td>2</td>\n",
       "      <td>2065</td>\n",
       "      <td>4</td>\n",
       "      <td>63</td>\n",
       "      <td>2</td>\n",
       "      <td>2</td>\n",
       "      <td>5390</td>\n",
       "      <td>2</td>\n",
       "      <td>3</td>\n",
       "      <td>4</td>\n",
       "      <td>17</td>\n",
       "      <td>3</td>\n",
       "      <td>2</td>\n",
       "      <td>9</td>\n",
       "      <td>6</td>\n",
       "      <td>0</td>\n",
       "      <td>8</td>\n",
       "    </tr>\n",
       "    <tr>\n",
       "      <th>1469</th>\n",
       "      <td>34.0</td>\n",
       "      <td>8</td>\n",
       "      <td>2068</td>\n",
       "      <td>2</td>\n",
       "      <td>82</td>\n",
       "      <td>4</td>\n",
       "      <td>3</td>\n",
       "      <td>4404</td>\n",
       "      <td>2</td>\n",
       "      <td>3</td>\n",
       "      <td>1</td>\n",
       "      <td>6</td>\n",
       "      <td>3</td>\n",
       "      <td>4</td>\n",
       "      <td>4</td>\n",
       "      <td>3</td>\n",
       "      <td>1</td>\n",
       "      <td>2</td>\n",
       "    </tr>\n",
       "  </tbody>\n",
       "</table>\n",
       "<p>1470 rows × 18 columns</p>\n",
       "</div>"
      ],
      "text/plain": [
       "       Age  DistanceFromHome  EmployeeNumber  EnvironmentSatisfaction  \\\n",
       "0     41.0                 1               1                        2   \n",
       "1     49.0                 8               2                        3   \n",
       "2     37.0                 2               4                        4   \n",
       "3     33.0                 3               5                        4   \n",
       "4     27.0                 2               7                        1   \n",
       "...    ...               ...             ...                      ...   \n",
       "1465  36.0                23            2061                        3   \n",
       "1466  39.0                 6            2062                        4   \n",
       "1467  27.0                 4            2064                        2   \n",
       "1468  49.0                 2            2065                        4   \n",
       "1469  34.0                 8            2068                        2   \n",
       "\n",
       "      HourlyRate  JobInvolvement  JobSatisfaction  MonthlyIncome  \\\n",
       "0             94               3                4           5993   \n",
       "1             61               2                2           5130   \n",
       "2             92               2                3           2090   \n",
       "3             56               3                3           2909   \n",
       "4             40               3                2           3468   \n",
       "...          ...             ...              ...            ...   \n",
       "1465          41               4                4           2571   \n",
       "1466          42               2                1           9991   \n",
       "1467          87               4                2           6142   \n",
       "1468          63               2                2           5390   \n",
       "1469          82               4                3           4404   \n",
       "\n",
       "      NumCompaniesWorked  PerformanceRating  RelationshipSatisfaction  \\\n",
       "0                      8                  3                         1   \n",
       "1                      1                  4                         4   \n",
       "2                      6                  3                         2   \n",
       "3                      1                  3                         3   \n",
       "4                      9                  3                         4   \n",
       "...                  ...                ...                       ...   \n",
       "1465                   4                  3                         3   \n",
       "1466                   4                  3                         1   \n",
       "1467                   1                  4                         2   \n",
       "1468                   2                  3                         4   \n",
       "1469                   2                  3                         1   \n",
       "\n",
       "      TotalWorkingYears  TrainingTimesLastYear  WorkLifeBalance  \\\n",
       "0                     8                      0                1   \n",
       "1                    10                      3                3   \n",
       "2                     7                      3                3   \n",
       "3                     8                      3                3   \n",
       "4                     6                      3                3   \n",
       "...                 ...                    ...              ...   \n",
       "1465                 17                      3                3   \n",
       "1466                  9                      5                3   \n",
       "1467                  6                      0                3   \n",
       "1468                 17                      3                2   \n",
       "1469                  6                      3                4   \n",
       "\n",
       "      YearsAtCompany  YearsInCurrentRole  YearsSinceLastPromotion  \\\n",
       "0                  6                   4                        0   \n",
       "1                 10                   7                        1   \n",
       "2                  0                   0                        0   \n",
       "3                  8                   7                        3   \n",
       "4                  2                   2                        2   \n",
       "...              ...                 ...                      ...   \n",
       "1465               5                   2                        0   \n",
       "1466               7                   7                        1   \n",
       "1467               6                   2                        0   \n",
       "1468               9                   6                        0   \n",
       "1469               4                   3                        1   \n",
       "\n",
       "      YearsWithCurrManager  \n",
       "0                        5  \n",
       "1                        7  \n",
       "2                        0  \n",
       "3                        0  \n",
       "4                        2  \n",
       "...                    ...  \n",
       "1465                     3  \n",
       "1466                     7  \n",
       "1467                     3  \n",
       "1468                     8  \n",
       "1469                     2  \n",
       "\n",
       "[1470 rows x 18 columns]"
      ]
     },
     "execution_count": 47,
     "metadata": {},
     "output_type": "execute_result"
    }
   ],
   "source": [
    "Numcol"
   ]
  },
  {
   "cell_type": "code",
   "execution_count": 48,
   "id": "a956e444-ddb3-412b-ac3b-c14f88029b67",
   "metadata": {},
   "outputs": [],
   "source": [
    "# Task 5\n",
    "def measure_of_dispersion(col):\n",
    "    print(f\"The mean for the {col} is :{df[col].mean()}\")\n",
    "    print(f\"The median for the {col} is :{df[col].median()}\")\n",
    "    print(f\"The standard deviation for the {col} is {df[col].std()}\")\n",
    "    print(f\"The missing value for the {col} is {df[col].isnull().sum()}\")\n",
    "    print(f\"The skewness of the {col } is {df[col].skew()}\")"
   ]
  },
  {
   "cell_type": "code",
   "execution_count": 49,
   "id": "0fd84004-365c-4378-88a1-fcf24eb1c0fb",
   "metadata": {},
   "outputs": [
    {
     "name": "stdout",
     "output_type": "stream",
     "text": [
      "The mean for the Age is :36.93015214384509\n",
      "The median for the Age is :36.0\n",
      "The standard deviation for the Age is 9.16220404447615\n",
      "The missing value for the Age is 24\n",
      "The skewness of the Age is 0.4090238232052275\n"
     ]
    }
   ],
   "source": [
    "measure_of_dispersion(\"Age\")"
   ]
  },
  {
   "cell_type": "code",
   "execution_count": 50,
   "id": "10f7d597-4090-4a5a-bbb6-b2f49afdbcf4",
   "metadata": {},
   "outputs": [],
   "source": [
    "df[\"Age\"]=df[\"Age\"].fillna(df[\"Age\"].median())"
   ]
  },
  {
   "cell_type": "code",
   "execution_count": 51,
   "id": "c6c8c029-b2dd-400e-8d6e-aab843cda958",
   "metadata": {},
   "outputs": [
    {
     "name": "stdout",
     "output_type": "stream",
     "text": [
      "The mean for the Age is :36.914965986394556\n",
      "The median for the Age is :36.0\n",
      "The standard deviation for the Age is 9.087816436803726\n",
      "The missing value for the Age is 0\n",
      "The skewness of the Age is 0.4172955376035819\n"
     ]
    }
   ],
   "source": [
    "measure_of_dispersion(\"Age\")"
   ]
  },
  {
   "cell_type": "code",
   "execution_count": 52,
   "id": "4df0ab1c-92e6-47d4-8742-4a4abc3c06b2",
   "metadata": {},
   "outputs": [
    {
     "name": "stdout",
     "output_type": "stream",
     "text": [
      "The mean for the DistanceFromHome is :9.19251700680272\n",
      "The median for the DistanceFromHome is :7.0\n",
      "The standard deviation for the DistanceFromHome is 8.106864435666084\n",
      "The missing value for the DistanceFromHome is 0\n",
      "The skewness of the DistanceFromHome is 0.9581179956568269\n"
     ]
    }
   ],
   "source": [
    "measure_of_dispersion(\"DistanceFromHome\")"
   ]
  },
  {
   "cell_type": "code",
   "execution_count": 53,
   "id": "f6787cdb-740f-4d2b-affd-0cc6965549a3",
   "metadata": {},
   "outputs": [
    {
     "name": "stdout",
     "output_type": "stream",
     "text": [
      "The mean for the EmployeeNumber is :1024.865306122449\n",
      "The median for the EmployeeNumber is :1020.5\n",
      "The standard deviation for the EmployeeNumber is 602.024334847475\n",
      "The missing value for the EmployeeNumber is 0\n",
      "The skewness of the EmployeeNumber is 0.016574019580105036\n"
     ]
    }
   ],
   "source": [
    "measure_of_dispersion(\"EmployeeNumber\")"
   ]
  },
  {
   "cell_type": "code",
   "execution_count": 54,
   "id": "4cbb8628-fb2c-406e-a497-c1dec56fa923",
   "metadata": {},
   "outputs": [
    {
     "name": "stdout",
     "output_type": "stream",
     "text": [
      "The mean for the EnvironmentSatisfaction is :2.721768707482993\n",
      "The median for the EnvironmentSatisfaction is :3.0\n",
      "The standard deviation for the EnvironmentSatisfaction is 1.0930822146349994\n",
      "The missing value for the EnvironmentSatisfaction is 0\n",
      "The skewness of the EnvironmentSatisfaction is -0.32165444773937907\n"
     ]
    }
   ],
   "source": [
    "measure_of_dispersion(\"EnvironmentSatisfaction\")"
   ]
  },
  {
   "cell_type": "code",
   "execution_count": 55,
   "id": "3cafa942-f9be-4ccd-a467-b1e0276facfc",
   "metadata": {},
   "outputs": [
    {
     "name": "stdout",
     "output_type": "stream",
     "text": [
      "The mean for the HourlyRate is :65.89115646258503\n",
      "The median for the HourlyRate is :66.0\n",
      "The standard deviation for the HourlyRate is 20.329427593996158\n",
      "The missing value for the HourlyRate is 0\n",
      "The skewness of the HourlyRate is -0.03231095290044942\n"
     ]
    }
   ],
   "source": [
    "measure_of_dispersion(\"HourlyRate\")"
   ]
  },
  {
   "cell_type": "code",
   "execution_count": 56,
   "id": "26acbf72-efa5-44fe-a5a8-1dda362121bd",
   "metadata": {},
   "outputs": [
    {
     "name": "stdout",
     "output_type": "stream",
     "text": [
      "The mean for the JobInvolvement is :2.7299319727891156\n",
      "The median for the JobInvolvement is :3.0\n",
      "The standard deviation for the JobInvolvement is 0.7115611429632283\n",
      "The missing value for the JobInvolvement is 0\n",
      "The skewness of the JobInvolvement is -0.4984193640419493\n"
     ]
    }
   ],
   "source": [
    "measure_of_dispersion(\"JobInvolvement\")"
   ]
  },
  {
   "cell_type": "code",
   "execution_count": 57,
   "id": "f1c8b02d-b0ad-4ee5-89d1-bd72d982f81b",
   "metadata": {},
   "outputs": [
    {
     "name": "stdout",
     "output_type": "stream",
     "text": [
      "The mean for the JobSatisfaction is :2.7285714285714286\n",
      "The median for the JobSatisfaction is :3.0\n",
      "The standard deviation for the JobSatisfaction is 1.1028461230547149\n",
      "The missing value for the JobSatisfaction is 0\n",
      "The skewness of the JobSatisfaction is -0.3296719586636647\n"
     ]
    }
   ],
   "source": [
    "measure_of_dispersion(\"JobSatisfaction\")"
   ]
  },
  {
   "cell_type": "code",
   "execution_count": 58,
   "id": "66cfaea0-c72c-4150-a2c5-ec8c22812695",
   "metadata": {},
   "outputs": [
    {
     "name": "stdout",
     "output_type": "stream",
     "text": [
      "The mean for the MonthlyIncome is :6502.931292517007\n",
      "The median for the MonthlyIncome is :4919.0\n",
      "The standard deviation for the MonthlyIncome is 4707.956783097995\n",
      "The missing value for the MonthlyIncome is 0\n",
      "The skewness of the MonthlyIncome is 1.3698166808390662\n"
     ]
    }
   ],
   "source": [
    "measure_of_dispersion(\"MonthlyIncome\")"
   ]
  },
  {
   "cell_type": "code",
   "execution_count": 59,
   "id": "866f058f-09d7-4090-8e90-b742e19f87ae",
   "metadata": {},
   "outputs": [
    {
     "name": "stdout",
     "output_type": "stream",
     "text": [
      "The mean for the NumCompaniesWorked is :2.6931972789115646\n",
      "The median for the NumCompaniesWorked is :2.0\n",
      "The standard deviation for the NumCompaniesWorked is 2.498009006070751\n",
      "The missing value for the NumCompaniesWorked is 0\n",
      "The skewness of the NumCompaniesWorked is 1.026471111968205\n"
     ]
    }
   ],
   "source": [
    "measure_of_dispersion(\"NumCompaniesWorked\")"
   ]
  },
  {
   "cell_type": "code",
   "execution_count": 60,
   "id": "11599614-a5bd-44da-b411-a1fc0897b783",
   "metadata": {},
   "outputs": [
    {
     "name": "stdout",
     "output_type": "stream",
     "text": [
      "The mean for the PerformanceRating is :3.1537414965986397\n",
      "The median for the PerformanceRating is :3.0\n",
      "The standard deviation for the PerformanceRating is 0.36082352460434486\n",
      "The missing value for the PerformanceRating is 0\n",
      "The skewness of the PerformanceRating is 1.921882702142603\n"
     ]
    }
   ],
   "source": [
    "measure_of_dispersion(\"PerformanceRating\")"
   ]
  },
  {
   "cell_type": "code",
   "execution_count": 61,
   "id": "3c825cc7-d7df-4fa0-a9ab-74b212ea8aee",
   "metadata": {},
   "outputs": [
    {
     "name": "stdout",
     "output_type": "stream",
     "text": [
      "The mean for the RelationshipSatisfaction is :2.7122448979591836\n",
      "The median for the RelationshipSatisfaction is :3.0\n",
      "The standard deviation for the RelationshipSatisfaction is 1.081208886440361\n",
      "The missing value for the RelationshipSatisfaction is 0\n",
      "The skewness of the RelationshipSatisfaction is -0.30282756517072296\n"
     ]
    }
   ],
   "source": [
    "measure_of_dispersion(\"RelationshipSatisfaction\")"
   ]
  },
  {
   "cell_type": "code",
   "execution_count": 62,
   "id": "2383fc0c-8865-46b8-a50c-4be927bab2d7",
   "metadata": {},
   "outputs": [
    {
     "name": "stdout",
     "output_type": "stream",
     "text": [
      "The mean for the TotalWorkingYears is :11.279591836734694\n",
      "The median for the TotalWorkingYears is :10.0\n",
      "The standard deviation for the TotalWorkingYears is 7.780781675515004\n",
      "The missing value for the TotalWorkingYears is 0\n",
      "The skewness of the TotalWorkingYears is 1.1171718528128527\n"
     ]
    }
   ],
   "source": [
    "measure_of_dispersion(\"TotalWorkingYears\")"
   ]
  },
  {
   "cell_type": "code",
   "execution_count": 63,
   "id": "c54203a8-0c12-4cd6-b90c-c444c6587bed",
   "metadata": {},
   "outputs": [
    {
     "name": "stdout",
     "output_type": "stream",
     "text": [
      "The mean for the TrainingTimesLastYear is :2.7993197278911564\n",
      "The median for the TrainingTimesLastYear is :3.0\n",
      "The standard deviation for the TrainingTimesLastYear is 1.2892706207958435\n",
      "The missing value for the TrainingTimesLastYear is 0\n",
      "The skewness of the TrainingTimesLastYear is 0.5531241710537028\n"
     ]
    }
   ],
   "source": [
    "measure_of_dispersion(\"TrainingTimesLastYear\")"
   ]
  },
  {
   "cell_type": "code",
   "execution_count": 64,
   "id": "35cf3844-0c54-4cec-99a3-e050b4e0f29e",
   "metadata": {},
   "outputs": [
    {
     "name": "stdout",
     "output_type": "stream",
     "text": [
      "The mean for the WorkLifeBalance is :2.7612244897959184\n",
      "The median for the WorkLifeBalance is :3.0\n",
      "The standard deviation for the WorkLifeBalance is 0.7064758297141522\n",
      "The missing value for the WorkLifeBalance is 0\n",
      "The skewness of the WorkLifeBalance is -0.5524802990965146\n"
     ]
    }
   ],
   "source": [
    "measure_of_dispersion(\"WorkLifeBalance\")"
   ]
  },
  {
   "cell_type": "code",
   "execution_count": 65,
   "id": "a26532b6-07dc-4392-9434-746f90df52ed",
   "metadata": {},
   "outputs": [
    {
     "name": "stdout",
     "output_type": "stream",
     "text": [
      "The mean for the YearsAtCompany is :7.0081632653061225\n",
      "The median for the YearsAtCompany is :5.0\n",
      "The standard deviation for the YearsAtCompany is 6.126525152403566\n",
      "The missing value for the YearsAtCompany is 0\n",
      "The skewness of the YearsAtCompany is 1.7645294543422085\n"
     ]
    }
   ],
   "source": [
    "measure_of_dispersion(\"YearsAtCompany\")"
   ]
  },
  {
   "cell_type": "code",
   "execution_count": 66,
   "id": "e624b77f-530c-4858-be7a-5eb5ac565fe3",
   "metadata": {},
   "outputs": [
    {
     "name": "stdout",
     "output_type": "stream",
     "text": [
      "The mean for the YearsInCurrentRole is :4.229251700680272\n",
      "The median for the YearsInCurrentRole is :3.0\n",
      "The standard deviation for the YearsInCurrentRole is 3.6231370346706395\n",
      "The missing value for the YearsInCurrentRole is 0\n",
      "The skewness of the YearsInCurrentRole is 0.9173631562908262\n"
     ]
    }
   ],
   "source": [
    "measure_of_dispersion(\"YearsInCurrentRole\")"
   ]
  },
  {
   "cell_type": "code",
   "execution_count": 67,
   "id": "720e52e3-58f0-4ea7-8d9f-83cccb8379b2",
   "metadata": {},
   "outputs": [
    {
     "name": "stdout",
     "output_type": "stream",
     "text": [
      "The mean for the YearsSinceLastPromotion is :2.1877551020408164\n",
      "The median for the YearsSinceLastPromotion is :1.0\n",
      "The standard deviation for the YearsSinceLastPromotion is 3.222430279137968\n",
      "The missing value for the YearsSinceLastPromotion is 0\n",
      "The skewness of the YearsSinceLastPromotion is 1.9842899833524859\n"
     ]
    }
   ],
   "source": [
    "measure_of_dispersion(\"YearsSinceLastPromotion\")"
   ]
  },
  {
   "cell_type": "code",
   "execution_count": 68,
   "id": "1f5990ea-408d-43e2-83fd-a97b3071471b",
   "metadata": {},
   "outputs": [
    {
     "name": "stdout",
     "output_type": "stream",
     "text": [
      "The mean for the YearsWithCurrManager is :4.12312925170068\n",
      "The median for the YearsWithCurrManager is :3.0\n",
      "The standard deviation for the YearsWithCurrManager is 3.5681361205404407\n",
      "The missing value for the YearsWithCurrManager is 0\n",
      "The skewness of the YearsWithCurrManager is 0.8334509919918475\n"
     ]
    }
   ],
   "source": [
    "measure_of_dispersion(\"YearsWithCurrManager\")"
   ]
  },
  {
   "cell_type": "code",
   "execution_count": 69,
   "id": "ba1ba9fa-4e24-4454-8012-654a7440179c",
   "metadata": {},
   "outputs": [
    {
     "data": {
      "text/plain": [
       "<Axes: title={'center': 'Boxplot'}, xlabel='Age'>"
      ]
     },
     "execution_count": 69,
     "metadata": {},
     "output_type": "execute_result"
    },
    {
     "data": {
      "image/png": "[encoded data removed]",
      "text/plain": [
       "<Figure size 1500x700 with 2 Axes>"
      ]
     },
     "metadata": {},
     "output_type": "display_data"
    }
   ],
   "source": [
    "# Task 6\n",
    "fig,ax=plt.subplots(1,2,figsize=(15,7))\n",
    "ax[0].set_title(\"Histogram\")\n",
    "ax[1].set_title(\"Boxplot\")\n",
    "# percentage=df[\"Age\"].value_counts()\n",
    "sns.histplot(df[\"Age\"],ax=ax[0])\n",
    "sns.boxplot(x=df[\"Age\"],ax=ax[1])"
   ]
  },
  {
   "cell_type": "code",
   "execution_count": 70,
   "id": "0d2dfddd-fd2e-4a19-8065-c3e636590c33",
   "metadata": {},
   "outputs": [
    {
     "data": {
      "text/plain": [
       "<Axes: title={'center': 'Boxplot'}, xlabel='HourlyRate'>"
      ]
     },
     "execution_count": 70,
     "metadata": {},
     "output_type": "execute_result"
    },
    {
     "data": {
      "image/png": "[encoded data removed]",
      "text/plain": [
       "<Figure size 1500x700 with 2 Axes>"
      ]
     },
     "metadata": {},
     "output_type": "display_data"
    }
   ],
   "source": [
    "# Task 6(ii)\n",
    "fig,ax=plt.subplots(1,2,figsize=(15,7))\n",
    "ax[0].set_title(\"Histogram\")\n",
    "ax[1].set_title(\"Boxplot\")\n",
    "# percentage=df[\"Age\"].value_counts()\n",
    "sns.histplot(df[\"HourlyRate\"],ax=ax[0])\n",
    "sns.boxplot(x=df[\"HourlyRate\"],ax=ax[1])"
   ]
  },
  {
   "cell_type": "code",
   "execution_count": 71,
   "id": "18d7550d-ebc3-4efe-85bd-e91442619fa8",
   "metadata": {},
   "outputs": [
    {
     "data": {
      "text/plain": [
       "<Axes: title={'center': 'Boxplot'}, xlabel='MonthlyIncome'>"
      ]
     },
     "execution_count": 71,
     "metadata": {},
     "output_type": "execute_result"
    },
    {
     "data": {
      "image/png": "[encoded data removed]",
      "text/plain": [
       "<Figure size 1500x700 with 2 Axes>"
      ]
     },
     "metadata": {},
     "output_type": "display_data"
    }
   ],
   "source": [
    "# Task 6(iii)\n",
    "fig,ax=plt.subplots(1,2,figsize=(15,7))\n",
    "ax[0].set_title(\"Histogram\")\n",
    "ax[1].set_title(\"Boxplot\")\n",
    "# percentage=df[\"Age\"].value_counts()\n",
    "sns.histplot(df[\"MonthlyIncome\"],ax=ax[0])\n",
    "sns.boxplot(x=df[\"MonthlyIncome\"],ax=ax[1])"
   ]
  },
  {
   "cell_type": "code",
   "execution_count": null,
   "id": "b31f54b0-ab50-4268-a314-44c5613132aa",
   "metadata": {},
   "outputs": [],
   "source": []
  },
  {
   "cell_type": "code",
   "execution_count": null,
   "id": "be29d02d-2deb-4d85-8d34-1f853e0062e4",
   "metadata": {},
   "outputs": [],
   "source": []
  }
 ],
 "metadata": {
  "kernelspec": {
   "display_name": "Python 3 (ipykernel)",
   "language": "python",
   "name": "python3"
  },
  "language_info": {
   "codemirror_mode": {
    "name": "ipython",
    "version": 3
   },
   "file_extension": ".py",
   "mimetype": "text/x-python",
   "name": "python",
   "nbconvert_exporter": "python",
   "pygments_lexer": "ipython3",
   "version": "3.12.4"
  }
 },
 "nbformat": 4,
 "nbformat_minor": 5
}
